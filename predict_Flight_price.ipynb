{
  "cells": [
    {
      "cell_type": "code",
      "execution_count": null,
      "id": "929b35b4",
      "metadata": {
        "id": "929b35b4"
      },
      "outputs": [],
      "source": []
    },
    {
      "cell_type": "markdown",
      "id": "a46b8b2c",
      "metadata": {
        "id": "a46b8b2c"
      },
      "source": [
        "#### importing all the necessary libraries !"
      ]
    },
    {
      "cell_type": "code",
      "execution_count": 5,
      "id": "c9bc16c8",
      "metadata": {
        "id": "c9bc16c8"
      },
      "outputs": [],
      "source": [
        "import pandas as pd\n",
        "import numpy as np\n",
        "import matplotlib.pyplot as plt\n",
        "import seaborn as sns\n",
        "from google.colab import drive"
      ]
    },
    {
      "cell_type": "code",
      "execution_count": 12,
      "id": "8655a7e9",
      "metadata": {
        "id": "8655a7e9"
      },
      "outputs": [],
      "source": [
        "file_path = '/content/gdrive/My Drive/wids/CopyofData_Train.xlsx'\n",
        "train_data=pd.read_excel(file_path)"
      ]
    },
    {
      "cell_type": "code",
      "execution_count": 9,
      "id": "aa70faf5",
      "metadata": {
        "id": "aa70faf5"
      },
      "outputs": [],
      "source": []
    },
    {
      "cell_type": "code",
      "execution_count": 14,
      "id": "4af752aa",
      "metadata": {
        "id": "4af752aa",
        "outputId": "a5a9dfa3-c44e-4bbc-fe21-b4b0d5f65e83",
        "colab": {
          "base_uri": "https://localhost:8080/",
          "height": 774
        }
      },
      "outputs": [
        {
          "output_type": "execute_result",
          "data": {
            "text/plain": [
              "       Airline Date_of_Journey    Source Destination                  Route  \\\n",
              "0       IndiGo      24/03/2019  Banglore   New Delhi              BLR → DEL   \n",
              "1    Air India       1/05/2019   Kolkata    Banglore  CCU → IXR → BBI → BLR   \n",
              "2  Jet Airways       9/06/2019     Delhi      Cochin  DEL → LKO → BOM → COK   \n",
              "3       IndiGo      12/05/2019   Kolkata    Banglore        CCU → NAG → BLR   \n",
              "4       IndiGo      01/03/2019  Banglore   New Delhi        BLR → NAG → DEL   \n",
              "5     SpiceJet      24/06/2019   Kolkata    Banglore              CCU → BLR   \n",
              "6  Jet Airways      12/03/2019  Banglore   New Delhi        BLR → BOM → DEL   \n",
              "\n",
              "  Dep_Time  Arrival_Time Duration Total_Stops              Additional_Info  \\\n",
              "0    22:20  01:10 22 Mar   2h 50m    non-stop                      No info   \n",
              "1    05:50         13:15   7h 25m     2 stops                      No info   \n",
              "2    09:25  04:25 10 Jun      19h     2 stops                      No info   \n",
              "3    18:05         23:30   5h 25m      1 stop                      No info   \n",
              "4    16:50         21:35   4h 45m      1 stop                      No info   \n",
              "5    09:00         11:25   2h 25m    non-stop                      No info   \n",
              "6    18:55  10:25 13 Mar  15h 30m      1 stop  In-flight meal not included   \n",
              "\n",
              "   Price  \n",
              "0   3897  \n",
              "1   7662  \n",
              "2  13882  \n",
              "3   6218  \n",
              "4  13302  \n",
              "5   3873  \n",
              "6  11087  "
            ],
            "text/html": [
              "\n",
              "  <div id=\"df-08d0b214-edc2-4687-be14-10ca237729e5\" class=\"colab-df-container\">\n",
              "    <div>\n",
              "<style scoped>\n",
              "    .dataframe tbody tr th:only-of-type {\n",
              "        vertical-align: middle;\n",
              "    }\n",
              "\n",
              "    .dataframe tbody tr th {\n",
              "        vertical-align: top;\n",
              "    }\n",
              "\n",
              "    .dataframe thead th {\n",
              "        text-align: right;\n",
              "    }\n",
              "</style>\n",
              "<table border=\"1\" class=\"dataframe\">\n",
              "  <thead>\n",
              "    <tr style=\"text-align: right;\">\n",
              "      <th></th>\n",
              "      <th>Airline</th>\n",
              "      <th>Date_of_Journey</th>\n",
              "      <th>Source</th>\n",
              "      <th>Destination</th>\n",
              "      <th>Route</th>\n",
              "      <th>Dep_Time</th>\n",
              "      <th>Arrival_Time</th>\n",
              "      <th>Duration</th>\n",
              "      <th>Total_Stops</th>\n",
              "      <th>Additional_Info</th>\n",
              "      <th>Price</th>\n",
              "    </tr>\n",
              "  </thead>\n",
              "  <tbody>\n",
              "    <tr>\n",
              "      <th>0</th>\n",
              "      <td>IndiGo</td>\n",
              "      <td>24/03/2019</td>\n",
              "      <td>Banglore</td>\n",
              "      <td>New Delhi</td>\n",
              "      <td>BLR → DEL</td>\n",
              "      <td>22:20</td>\n",
              "      <td>01:10 22 Mar</td>\n",
              "      <td>2h 50m</td>\n",
              "      <td>non-stop</td>\n",
              "      <td>No info</td>\n",
              "      <td>3897</td>\n",
              "    </tr>\n",
              "    <tr>\n",
              "      <th>1</th>\n",
              "      <td>Air India</td>\n",
              "      <td>1/05/2019</td>\n",
              "      <td>Kolkata</td>\n",
              "      <td>Banglore</td>\n",
              "      <td>CCU → IXR → BBI → BLR</td>\n",
              "      <td>05:50</td>\n",
              "      <td>13:15</td>\n",
              "      <td>7h 25m</td>\n",
              "      <td>2 stops</td>\n",
              "      <td>No info</td>\n",
              "      <td>7662</td>\n",
              "    </tr>\n",
              "    <tr>\n",
              "      <th>2</th>\n",
              "      <td>Jet Airways</td>\n",
              "      <td>9/06/2019</td>\n",
              "      <td>Delhi</td>\n",
              "      <td>Cochin</td>\n",
              "      <td>DEL → LKO → BOM → COK</td>\n",
              "      <td>09:25</td>\n",
              "      <td>04:25 10 Jun</td>\n",
              "      <td>19h</td>\n",
              "      <td>2 stops</td>\n",
              "      <td>No info</td>\n",
              "      <td>13882</td>\n",
              "    </tr>\n",
              "    <tr>\n",
              "      <th>3</th>\n",
              "      <td>IndiGo</td>\n",
              "      <td>12/05/2019</td>\n",
              "      <td>Kolkata</td>\n",
              "      <td>Banglore</td>\n",
              "      <td>CCU → NAG → BLR</td>\n",
              "      <td>18:05</td>\n",
              "      <td>23:30</td>\n",
              "      <td>5h 25m</td>\n",
              "      <td>1 stop</td>\n",
              "      <td>No info</td>\n",
              "      <td>6218</td>\n",
              "    </tr>\n",
              "    <tr>\n",
              "      <th>4</th>\n",
              "      <td>IndiGo</td>\n",
              "      <td>01/03/2019</td>\n",
              "      <td>Banglore</td>\n",
              "      <td>New Delhi</td>\n",
              "      <td>BLR → NAG → DEL</td>\n",
              "      <td>16:50</td>\n",
              "      <td>21:35</td>\n",
              "      <td>4h 45m</td>\n",
              "      <td>1 stop</td>\n",
              "      <td>No info</td>\n",
              "      <td>13302</td>\n",
              "    </tr>\n",
              "    <tr>\n",
              "      <th>5</th>\n",
              "      <td>SpiceJet</td>\n",
              "      <td>24/06/2019</td>\n",
              "      <td>Kolkata</td>\n",
              "      <td>Banglore</td>\n",
              "      <td>CCU → BLR</td>\n",
              "      <td>09:00</td>\n",
              "      <td>11:25</td>\n",
              "      <td>2h 25m</td>\n",
              "      <td>non-stop</td>\n",
              "      <td>No info</td>\n",
              "      <td>3873</td>\n",
              "    </tr>\n",
              "    <tr>\n",
              "      <th>6</th>\n",
              "      <td>Jet Airways</td>\n",
              "      <td>12/03/2019</td>\n",
              "      <td>Banglore</td>\n",
              "      <td>New Delhi</td>\n",
              "      <td>BLR → BOM → DEL</td>\n",
              "      <td>18:55</td>\n",
              "      <td>10:25 13 Mar</td>\n",
              "      <td>15h 30m</td>\n",
              "      <td>1 stop</td>\n",
              "      <td>In-flight meal not included</td>\n",
              "      <td>11087</td>\n",
              "    </tr>\n",
              "  </tbody>\n",
              "</table>\n",
              "</div>\n",
              "    <div class=\"colab-df-buttons\">\n",
              "\n",
              "  <div class=\"colab-df-container\">\n",
              "    <button class=\"colab-df-convert\" onclick=\"convertToInteractive('df-08d0b214-edc2-4687-be14-10ca237729e5')\"\n",
              "            title=\"Convert this dataframe to an interactive table.\"\n",
              "            style=\"display:none;\">\n",
              "\n",
              "  <svg xmlns=\"http://www.w3.org/2000/svg\" height=\"24px\" viewBox=\"0 -960 960 960\">\n",
              "    <path d=\"M120-120v-720h720v720H120Zm60-500h600v-160H180v160Zm220 220h160v-160H400v160Zm0 220h160v-160H400v160ZM180-400h160v-160H180v160Zm440 0h160v-160H620v160ZM180-180h160v-160H180v160Zm440 0h160v-160H620v160Z\"/>\n",
              "  </svg>\n",
              "    </button>\n",
              "\n",
              "  <style>\n",
              "    .colab-df-container {\n",
              "      display:flex;\n",
              "      gap: 12px;\n",
              "    }\n",
              "\n",
              "    .colab-df-convert {\n",
              "      background-color: #E8F0FE;\n",
              "      border: none;\n",
              "      border-radius: 50%;\n",
              "      cursor: pointer;\n",
              "      display: none;\n",
              "      fill: #1967D2;\n",
              "      height: 32px;\n",
              "      padding: 0 0 0 0;\n",
              "      width: 32px;\n",
              "    }\n",
              "\n",
              "    .colab-df-convert:hover {\n",
              "      background-color: #E2EBFA;\n",
              "      box-shadow: 0px 1px 2px rgba(60, 64, 67, 0.3), 0px 1px 3px 1px rgba(60, 64, 67, 0.15);\n",
              "      fill: #174EA6;\n",
              "    }\n",
              "\n",
              "    .colab-df-buttons div {\n",
              "      margin-bottom: 4px;\n",
              "    }\n",
              "\n",
              "    [theme=dark] .colab-df-convert {\n",
              "      background-color: #3B4455;\n",
              "      fill: #D2E3FC;\n",
              "    }\n",
              "\n",
              "    [theme=dark] .colab-df-convert:hover {\n",
              "      background-color: #434B5C;\n",
              "      box-shadow: 0px 1px 3px 1px rgba(0, 0, 0, 0.15);\n",
              "      filter: drop-shadow(0px 1px 2px rgba(0, 0, 0, 0.3));\n",
              "      fill: #FFFFFF;\n",
              "    }\n",
              "  </style>\n",
              "\n",
              "    <script>\n",
              "      const buttonEl =\n",
              "        document.querySelector('#df-08d0b214-edc2-4687-be14-10ca237729e5 button.colab-df-convert');\n",
              "      buttonEl.style.display =\n",
              "        google.colab.kernel.accessAllowed ? 'block' : 'none';\n",
              "\n",
              "      async function convertToInteractive(key) {\n",
              "        const element = document.querySelector('#df-08d0b214-edc2-4687-be14-10ca237729e5');\n",
              "        const dataTable =\n",
              "          await google.colab.kernel.invokeFunction('convertToInteractive',\n",
              "                                                    [key], {});\n",
              "        if (!dataTable) return;\n",
              "\n",
              "        const docLinkHtml = 'Like what you see? Visit the ' +\n",
              "          '<a target=\"_blank\" href=https://colab.research.google.com/notebooks/data_table.ipynb>data table notebook</a>'\n",
              "          + ' to learn more about interactive tables.';\n",
              "        element.innerHTML = '';\n",
              "        dataTable['output_type'] = 'display_data';\n",
              "        await google.colab.output.renderOutput(dataTable, element);\n",
              "        const docLink = document.createElement('div');\n",
              "        docLink.innerHTML = docLinkHtml;\n",
              "        element.appendChild(docLink);\n",
              "      }\n",
              "    </script>\n",
              "  </div>\n",
              "\n",
              "\n",
              "<div id=\"df-9f7808c6-ac58-4e65-a324-4bfda8d29890\">\n",
              "  <button class=\"colab-df-quickchart\" onclick=\"quickchart('df-9f7808c6-ac58-4e65-a324-4bfda8d29890')\"\n",
              "            title=\"Suggest charts\"\n",
              "            style=\"display:none;\">\n",
              "\n",
              "<svg xmlns=\"http://www.w3.org/2000/svg\" height=\"24px\"viewBox=\"0 0 24 24\"\n",
              "     width=\"24px\">\n",
              "    <g>\n",
              "        <path d=\"M19 3H5c-1.1 0-2 .9-2 2v14c0 1.1.9 2 2 2h14c1.1 0 2-.9 2-2V5c0-1.1-.9-2-2-2zM9 17H7v-7h2v7zm4 0h-2V7h2v10zm4 0h-2v-4h2v4z\"/>\n",
              "    </g>\n",
              "</svg>\n",
              "  </button>\n",
              "\n",
              "<style>\n",
              "  .colab-df-quickchart {\n",
              "      --bg-color: #E8F0FE;\n",
              "      --fill-color: #1967D2;\n",
              "      --hover-bg-color: #E2EBFA;\n",
              "      --hover-fill-color: #174EA6;\n",
              "      --disabled-fill-color: #AAA;\n",
              "      --disabled-bg-color: #DDD;\n",
              "  }\n",
              "\n",
              "  [theme=dark] .colab-df-quickchart {\n",
              "      --bg-color: #3B4455;\n",
              "      --fill-color: #D2E3FC;\n",
              "      --hover-bg-color: #434B5C;\n",
              "      --hover-fill-color: #FFFFFF;\n",
              "      --disabled-bg-color: #3B4455;\n",
              "      --disabled-fill-color: #666;\n",
              "  }\n",
              "\n",
              "  .colab-df-quickchart {\n",
              "    background-color: var(--bg-color);\n",
              "    border: none;\n",
              "    border-radius: 50%;\n",
              "    cursor: pointer;\n",
              "    display: none;\n",
              "    fill: var(--fill-color);\n",
              "    height: 32px;\n",
              "    padding: 0;\n",
              "    width: 32px;\n",
              "  }\n",
              "\n",
              "  .colab-df-quickchart:hover {\n",
              "    background-color: var(--hover-bg-color);\n",
              "    box-shadow: 0 1px 2px rgba(60, 64, 67, 0.3), 0 1px 3px 1px rgba(60, 64, 67, 0.15);\n",
              "    fill: var(--button-hover-fill-color);\n",
              "  }\n",
              "\n",
              "  .colab-df-quickchart-complete:disabled,\n",
              "  .colab-df-quickchart-complete:disabled:hover {\n",
              "    background-color: var(--disabled-bg-color);\n",
              "    fill: var(--disabled-fill-color);\n",
              "    box-shadow: none;\n",
              "  }\n",
              "\n",
              "  .colab-df-spinner {\n",
              "    border: 2px solid var(--fill-color);\n",
              "    border-color: transparent;\n",
              "    border-bottom-color: var(--fill-color);\n",
              "    animation:\n",
              "      spin 1s steps(1) infinite;\n",
              "  }\n",
              "\n",
              "  @keyframes spin {\n",
              "    0% {\n",
              "      border-color: transparent;\n",
              "      border-bottom-color: var(--fill-color);\n",
              "      border-left-color: var(--fill-color);\n",
              "    }\n",
              "    20% {\n",
              "      border-color: transparent;\n",
              "      border-left-color: var(--fill-color);\n",
              "      border-top-color: var(--fill-color);\n",
              "    }\n",
              "    30% {\n",
              "      border-color: transparent;\n",
              "      border-left-color: var(--fill-color);\n",
              "      border-top-color: var(--fill-color);\n",
              "      border-right-color: var(--fill-color);\n",
              "    }\n",
              "    40% {\n",
              "      border-color: transparent;\n",
              "      border-right-color: var(--fill-color);\n",
              "      border-top-color: var(--fill-color);\n",
              "    }\n",
              "    60% {\n",
              "      border-color: transparent;\n",
              "      border-right-color: var(--fill-color);\n",
              "    }\n",
              "    80% {\n",
              "      border-color: transparent;\n",
              "      border-right-color: var(--fill-color);\n",
              "      border-bottom-color: var(--fill-color);\n",
              "    }\n",
              "    90% {\n",
              "      border-color: transparent;\n",
              "      border-bottom-color: var(--fill-color);\n",
              "    }\n",
              "  }\n",
              "</style>\n",
              "\n",
              "  <script>\n",
              "    async function quickchart(key) {\n",
              "      const quickchartButtonEl =\n",
              "        document.querySelector('#' + key + ' button');\n",
              "      quickchartButtonEl.disabled = true;  // To prevent multiple clicks.\n",
              "      quickchartButtonEl.classList.add('colab-df-spinner');\n",
              "      try {\n",
              "        const charts = await google.colab.kernel.invokeFunction(\n",
              "            'suggestCharts', [key], {});\n",
              "      } catch (error) {\n",
              "        console.error('Error during call to suggestCharts:', error);\n",
              "      }\n",
              "      quickchartButtonEl.classList.remove('colab-df-spinner');\n",
              "      quickchartButtonEl.classList.add('colab-df-quickchart-complete');\n",
              "    }\n",
              "    (() => {\n",
              "      let quickchartButtonEl =\n",
              "        document.querySelector('#df-9f7808c6-ac58-4e65-a324-4bfda8d29890 button');\n",
              "      quickchartButtonEl.style.display =\n",
              "        google.colab.kernel.accessAllowed ? 'block' : 'none';\n",
              "    })();\n",
              "  </script>\n",
              "</div>\n",
              "\n",
              "    </div>\n",
              "  </div>\n"
            ]
          },
          "metadata": {},
          "execution_count": 14
        }
      ],
      "source": [
        "train_data.head(7)"
      ]
    },
    {
      "cell_type": "code",
      "execution_count": 15,
      "id": "2b27c166",
      "metadata": {
        "id": "2b27c166",
        "outputId": "66bf41fa-1e52-4abf-96b3-c22fa884b9a4",
        "colab": {
          "base_uri": "https://localhost:8080/"
        }
      },
      "outputs": [
        {
          "output_type": "stream",
          "name": "stdout",
          "text": [
            "<class 'pandas.core.frame.DataFrame'>\n",
            "RangeIndex: 10683 entries, 0 to 10682\n",
            "Data columns (total 11 columns):\n",
            " #   Column           Non-Null Count  Dtype \n",
            "---  ------           --------------  ----- \n",
            " 0   Airline          10683 non-null  object\n",
            " 1   Date_of_Journey  10683 non-null  object\n",
            " 2   Source           10683 non-null  object\n",
            " 3   Destination      10683 non-null  object\n",
            " 4   Route            10682 non-null  object\n",
            " 5   Dep_Time         10683 non-null  object\n",
            " 6   Arrival_Time     10683 non-null  object\n",
            " 7   Duration         10683 non-null  object\n",
            " 8   Total_Stops      10682 non-null  object\n",
            " 9   Additional_Info  10683 non-null  object\n",
            " 10  Price            10683 non-null  int64 \n",
            "dtypes: int64(1), object(10)\n",
            "memory usage: 918.2+ KB\n"
          ]
        }
      ],
      "source": [
        "train_data.info()"
      ]
    },
    {
      "cell_type": "code",
      "execution_count": 16,
      "id": "dd4add6e",
      "metadata": {
        "id": "dd4add6e",
        "outputId": "3e6ef493-bcb4-4db5-fa71-dfafe6e48060",
        "colab": {
          "base_uri": "https://localhost:8080/"
        }
      },
      "outputs": [
        {
          "output_type": "execute_result",
          "data": {
            "text/plain": [
              "Airline            0\n",
              "Date_of_Journey    0\n",
              "Source             0\n",
              "Destination        0\n",
              "Route              1\n",
              "Dep_Time           0\n",
              "Arrival_Time       0\n",
              "Duration           0\n",
              "Total_Stops        1\n",
              "Additional_Info    0\n",
              "Price              0\n",
              "dtype: int64"
            ]
          },
          "metadata": {},
          "execution_count": 16
        }
      ],
      "source": [
        "train_data.isnull().sum()\n",
        "\n",
        "## train_data.isnull().sum(axis=0)\n",
        "## by-default axis is 0 , ie it computes total missing values column-wise !\n",
        "\n",
        "## train_data.isnull().sum(axis=1) -->> if axis=1 , ie it computes total missing values row-wise !"
      ]
    },
    {
      "cell_type": "code",
      "execution_count": 17,
      "id": "dda2961e",
      "metadata": {
        "id": "dda2961e",
        "outputId": "d67077ff-ad2e-476f-c4bb-a6cd462b961d",
        "colab": {
          "base_uri": "https://localhost:8080/"
        }
      },
      "outputs": [
        {
          "output_type": "execute_result",
          "data": {
            "text/plain": [
              "(10683, 11)"
            ]
          },
          "metadata": {},
          "execution_count": 17
        }
      ],
      "source": [
        "train_data.shape"
      ]
    },
    {
      "cell_type": "code",
      "execution_count": 18,
      "id": "d57f98b2",
      "metadata": {
        "id": "d57f98b2",
        "outputId": "098da381-b4a9-4893-9b61-594888bf15b5",
        "colab": {
          "base_uri": "https://localhost:8080/",
          "height": 100
        }
      },
      "outputs": [
        {
          "output_type": "execute_result",
          "data": {
            "text/plain": [
              "        Airline Date_of_Journey Source Destination Route Dep_Time  \\\n",
              "9039  Air India       6/05/2019  Delhi      Cochin   NaN    09:45   \n",
              "\n",
              "      Arrival_Time Duration Total_Stops Additional_Info  Price  \n",
              "9039  09:25 07 May  23h 40m         NaN         No info   7480  "
            ],
            "text/html": [
              "\n",
              "  <div id=\"df-73c685ac-2683-47be-83dc-2f0139fa9fb2\" class=\"colab-df-container\">\n",
              "    <div>\n",
              "<style scoped>\n",
              "    .dataframe tbody tr th:only-of-type {\n",
              "        vertical-align: middle;\n",
              "    }\n",
              "\n",
              "    .dataframe tbody tr th {\n",
              "        vertical-align: top;\n",
              "    }\n",
              "\n",
              "    .dataframe thead th {\n",
              "        text-align: right;\n",
              "    }\n",
              "</style>\n",
              "<table border=\"1\" class=\"dataframe\">\n",
              "  <thead>\n",
              "    <tr style=\"text-align: right;\">\n",
              "      <th></th>\n",
              "      <th>Airline</th>\n",
              "      <th>Date_of_Journey</th>\n",
              "      <th>Source</th>\n",
              "      <th>Destination</th>\n",
              "      <th>Route</th>\n",
              "      <th>Dep_Time</th>\n",
              "      <th>Arrival_Time</th>\n",
              "      <th>Duration</th>\n",
              "      <th>Total_Stops</th>\n",
              "      <th>Additional_Info</th>\n",
              "      <th>Price</th>\n",
              "    </tr>\n",
              "  </thead>\n",
              "  <tbody>\n",
              "    <tr>\n",
              "      <th>9039</th>\n",
              "      <td>Air India</td>\n",
              "      <td>6/05/2019</td>\n",
              "      <td>Delhi</td>\n",
              "      <td>Cochin</td>\n",
              "      <td>NaN</td>\n",
              "      <td>09:45</td>\n",
              "      <td>09:25 07 May</td>\n",
              "      <td>23h 40m</td>\n",
              "      <td>NaN</td>\n",
              "      <td>No info</td>\n",
              "      <td>7480</td>\n",
              "    </tr>\n",
              "  </tbody>\n",
              "</table>\n",
              "</div>\n",
              "    <div class=\"colab-df-buttons\">\n",
              "\n",
              "  <div class=\"colab-df-container\">\n",
              "    <button class=\"colab-df-convert\" onclick=\"convertToInteractive('df-73c685ac-2683-47be-83dc-2f0139fa9fb2')\"\n",
              "            title=\"Convert this dataframe to an interactive table.\"\n",
              "            style=\"display:none;\">\n",
              "\n",
              "  <svg xmlns=\"http://www.w3.org/2000/svg\" height=\"24px\" viewBox=\"0 -960 960 960\">\n",
              "    <path d=\"M120-120v-720h720v720H120Zm60-500h600v-160H180v160Zm220 220h160v-160H400v160Zm0 220h160v-160H400v160ZM180-400h160v-160H180v160Zm440 0h160v-160H620v160ZM180-180h160v-160H180v160Zm440 0h160v-160H620v160Z\"/>\n",
              "  </svg>\n",
              "    </button>\n",
              "\n",
              "  <style>\n",
              "    .colab-df-container {\n",
              "      display:flex;\n",
              "      gap: 12px;\n",
              "    }\n",
              "\n",
              "    .colab-df-convert {\n",
              "      background-color: #E8F0FE;\n",
              "      border: none;\n",
              "      border-radius: 50%;\n",
              "      cursor: pointer;\n",
              "      display: none;\n",
              "      fill: #1967D2;\n",
              "      height: 32px;\n",
              "      padding: 0 0 0 0;\n",
              "      width: 32px;\n",
              "    }\n",
              "\n",
              "    .colab-df-convert:hover {\n",
              "      background-color: #E2EBFA;\n",
              "      box-shadow: 0px 1px 2px rgba(60, 64, 67, 0.3), 0px 1px 3px 1px rgba(60, 64, 67, 0.15);\n",
              "      fill: #174EA6;\n",
              "    }\n",
              "\n",
              "    .colab-df-buttons div {\n",
              "      margin-bottom: 4px;\n",
              "    }\n",
              "\n",
              "    [theme=dark] .colab-df-convert {\n",
              "      background-color: #3B4455;\n",
              "      fill: #D2E3FC;\n",
              "    }\n",
              "\n",
              "    [theme=dark] .colab-df-convert:hover {\n",
              "      background-color: #434B5C;\n",
              "      box-shadow: 0px 1px 3px 1px rgba(0, 0, 0, 0.15);\n",
              "      filter: drop-shadow(0px 1px 2px rgba(0, 0, 0, 0.3));\n",
              "      fill: #FFFFFF;\n",
              "    }\n",
              "  </style>\n",
              "\n",
              "    <script>\n",
              "      const buttonEl =\n",
              "        document.querySelector('#df-73c685ac-2683-47be-83dc-2f0139fa9fb2 button.colab-df-convert');\n",
              "      buttonEl.style.display =\n",
              "        google.colab.kernel.accessAllowed ? 'block' : 'none';\n",
              "\n",
              "      async function convertToInteractive(key) {\n",
              "        const element = document.querySelector('#df-73c685ac-2683-47be-83dc-2f0139fa9fb2');\n",
              "        const dataTable =\n",
              "          await google.colab.kernel.invokeFunction('convertToInteractive',\n",
              "                                                    [key], {});\n",
              "        if (!dataTable) return;\n",
              "\n",
              "        const docLinkHtml = 'Like what you see? Visit the ' +\n",
              "          '<a target=\"_blank\" href=https://colab.research.google.com/notebooks/data_table.ipynb>data table notebook</a>'\n",
              "          + ' to learn more about interactive tables.';\n",
              "        element.innerHTML = '';\n",
              "        dataTable['output_type'] = 'display_data';\n",
              "        await google.colab.output.renderOutput(dataTable, element);\n",
              "        const docLink = document.createElement('div');\n",
              "        docLink.innerHTML = docLinkHtml;\n",
              "        element.appendChild(docLink);\n",
              "      }\n",
              "    </script>\n",
              "  </div>\n",
              "\n",
              "\n",
              "    </div>\n",
              "  </div>\n"
            ]
          },
          "metadata": {},
          "execution_count": 18
        }
      ],
      "source": [
        "### getting all the rows where we have missing value\n",
        "train_data[train_data['Total_Stops'].isnull()]"
      ]
    },
    {
      "cell_type": "code",
      "execution_count": null,
      "id": "331fc163",
      "metadata": {
        "id": "331fc163"
      },
      "outputs": [],
      "source": []
    },
    {
      "cell_type": "markdown",
      "id": "fefda914",
      "metadata": {
        "id": "fefda914"
      },
      "source": [
        "#### as we have 1 missing value , I can directly drop these"
      ]
    },
    {
      "cell_type": "code",
      "execution_count": 19,
      "id": "e6df2912",
      "metadata": {
        "id": "e6df2912"
      },
      "outputs": [],
      "source": [
        "train_data.dropna(inplace=True)"
      ]
    },
    {
      "cell_type": "code",
      "execution_count": 20,
      "id": "6fd3d49e",
      "metadata": {
        "id": "6fd3d49e",
        "outputId": "41773121-14fe-4b9f-bccd-5e1d823ec7bf",
        "colab": {
          "base_uri": "https://localhost:8080/"
        }
      },
      "outputs": [
        {
          "output_type": "execute_result",
          "data": {
            "text/plain": [
              "Airline            0\n",
              "Date_of_Journey    0\n",
              "Source             0\n",
              "Destination        0\n",
              "Route              0\n",
              "Dep_Time           0\n",
              "Arrival_Time       0\n",
              "Duration           0\n",
              "Total_Stops        0\n",
              "Additional_Info    0\n",
              "Price              0\n",
              "dtype: int64"
            ]
          },
          "metadata": {},
          "execution_count": 20
        }
      ],
      "source": [
        "train_data.isnull().sum()"
      ]
    },
    {
      "cell_type": "code",
      "execution_count": null,
      "id": "f0d5e87d",
      "metadata": {
        "id": "f0d5e87d"
      },
      "outputs": [],
      "source": []
    },
    {
      "cell_type": "code",
      "execution_count": null,
      "id": "04342e31",
      "metadata": {
        "id": "04342e31"
      },
      "outputs": [],
      "source": []
    },
    {
      "cell_type": "markdown",
      "id": "e3a9f60a",
      "metadata": {
        "id": "e3a9f60a"
      },
      "source": [
        "## Pre-process & Perform Featurization of \"Date_of_Journey\"\n",
        "    ie pre-process it & extract day,month,year from \"Date_of_Journey\" feature.."
      ]
    },
    {
      "cell_type": "code",
      "execution_count": 22,
      "id": "34648527",
      "metadata": {
        "id": "34648527"
      },
      "outputs": [],
      "source": [
        "data=train_data.copy()"
      ]
    },
    {
      "cell_type": "code",
      "execution_count": 23,
      "id": "cac7f3ed",
      "metadata": {
        "id": "cac7f3ed",
        "outputId": "333c0cae-88bb-4802-f3dc-733d81e561dc",
        "colab": {
          "base_uri": "https://localhost:8080/",
          "height": 271
        }
      },
      "outputs": [
        {
          "output_type": "execute_result",
          "data": {
            "text/plain": [
              "     Airline Date_of_Journey    Source Destination                  Route  \\\n",
              "0     IndiGo      24/03/2019  Banglore   New Delhi              BLR → DEL   \n",
              "1  Air India       1/05/2019   Kolkata    Banglore  CCU → IXR → BBI → BLR   \n",
              "\n",
              "  Dep_Time  Arrival_Time Duration Total_Stops Additional_Info  Price  \n",
              "0    22:20  01:10 22 Mar   2h 50m    non-stop         No info   3897  \n",
              "1    05:50         13:15   7h 25m     2 stops         No info   7662  "
            ],
            "text/html": [
              "\n",
              "  <div id=\"df-f22e054a-c994-455e-a030-75e4b66a2214\" class=\"colab-df-container\">\n",
              "    <div>\n",
              "<style scoped>\n",
              "    .dataframe tbody tr th:only-of-type {\n",
              "        vertical-align: middle;\n",
              "    }\n",
              "\n",
              "    .dataframe tbody tr th {\n",
              "        vertical-align: top;\n",
              "    }\n",
              "\n",
              "    .dataframe thead th {\n",
              "        text-align: right;\n",
              "    }\n",
              "</style>\n",
              "<table border=\"1\" class=\"dataframe\">\n",
              "  <thead>\n",
              "    <tr style=\"text-align: right;\">\n",
              "      <th></th>\n",
              "      <th>Airline</th>\n",
              "      <th>Date_of_Journey</th>\n",
              "      <th>Source</th>\n",
              "      <th>Destination</th>\n",
              "      <th>Route</th>\n",
              "      <th>Dep_Time</th>\n",
              "      <th>Arrival_Time</th>\n",
              "      <th>Duration</th>\n",
              "      <th>Total_Stops</th>\n",
              "      <th>Additional_Info</th>\n",
              "      <th>Price</th>\n",
              "    </tr>\n",
              "  </thead>\n",
              "  <tbody>\n",
              "    <tr>\n",
              "      <th>0</th>\n",
              "      <td>IndiGo</td>\n",
              "      <td>24/03/2019</td>\n",
              "      <td>Banglore</td>\n",
              "      <td>New Delhi</td>\n",
              "      <td>BLR → DEL</td>\n",
              "      <td>22:20</td>\n",
              "      <td>01:10 22 Mar</td>\n",
              "      <td>2h 50m</td>\n",
              "      <td>non-stop</td>\n",
              "      <td>No info</td>\n",
              "      <td>3897</td>\n",
              "    </tr>\n",
              "    <tr>\n",
              "      <th>1</th>\n",
              "      <td>Air India</td>\n",
              "      <td>1/05/2019</td>\n",
              "      <td>Kolkata</td>\n",
              "      <td>Banglore</td>\n",
              "      <td>CCU → IXR → BBI → BLR</td>\n",
              "      <td>05:50</td>\n",
              "      <td>13:15</td>\n",
              "      <td>7h 25m</td>\n",
              "      <td>2 stops</td>\n",
              "      <td>No info</td>\n",
              "      <td>7662</td>\n",
              "    </tr>\n",
              "  </tbody>\n",
              "</table>\n",
              "</div>\n",
              "    <div class=\"colab-df-buttons\">\n",
              "\n",
              "  <div class=\"colab-df-container\">\n",
              "    <button class=\"colab-df-convert\" onclick=\"convertToInteractive('df-f22e054a-c994-455e-a030-75e4b66a2214')\"\n",
              "            title=\"Convert this dataframe to an interactive table.\"\n",
              "            style=\"display:none;\">\n",
              "\n",
              "  <svg xmlns=\"http://www.w3.org/2000/svg\" height=\"24px\" viewBox=\"0 -960 960 960\">\n",
              "    <path d=\"M120-120v-720h720v720H120Zm60-500h600v-160H180v160Zm220 220h160v-160H400v160Zm0 220h160v-160H400v160ZM180-400h160v-160H180v160Zm440 0h160v-160H620v160ZM180-180h160v-160H180v160Zm440 0h160v-160H620v160Z\"/>\n",
              "  </svg>\n",
              "    </button>\n",
              "\n",
              "  <style>\n",
              "    .colab-df-container {\n",
              "      display:flex;\n",
              "      gap: 12px;\n",
              "    }\n",
              "\n",
              "    .colab-df-convert {\n",
              "      background-color: #E8F0FE;\n",
              "      border: none;\n",
              "      border-radius: 50%;\n",
              "      cursor: pointer;\n",
              "      display: none;\n",
              "      fill: #1967D2;\n",
              "      height: 32px;\n",
              "      padding: 0 0 0 0;\n",
              "      width: 32px;\n",
              "    }\n",
              "\n",
              "    .colab-df-convert:hover {\n",
              "      background-color: #E2EBFA;\n",
              "      box-shadow: 0px 1px 2px rgba(60, 64, 67, 0.3), 0px 1px 3px 1px rgba(60, 64, 67, 0.15);\n",
              "      fill: #174EA6;\n",
              "    }\n",
              "\n",
              "    .colab-df-buttons div {\n",
              "      margin-bottom: 4px;\n",
              "    }\n",
              "\n",
              "    [theme=dark] .colab-df-convert {\n",
              "      background-color: #3B4455;\n",
              "      fill: #D2E3FC;\n",
              "    }\n",
              "\n",
              "    [theme=dark] .colab-df-convert:hover {\n",
              "      background-color: #434B5C;\n",
              "      box-shadow: 0px 1px 3px 1px rgba(0, 0, 0, 0.15);\n",
              "      filter: drop-shadow(0px 1px 2px rgba(0, 0, 0, 0.3));\n",
              "      fill: #FFFFFF;\n",
              "    }\n",
              "  </style>\n",
              "\n",
              "    <script>\n",
              "      const buttonEl =\n",
              "        document.querySelector('#df-f22e054a-c994-455e-a030-75e4b66a2214 button.colab-df-convert');\n",
              "      buttonEl.style.display =\n",
              "        google.colab.kernel.accessAllowed ? 'block' : 'none';\n",
              "\n",
              "      async function convertToInteractive(key) {\n",
              "        const element = document.querySelector('#df-f22e054a-c994-455e-a030-75e4b66a2214');\n",
              "        const dataTable =\n",
              "          await google.colab.kernel.invokeFunction('convertToInteractive',\n",
              "                                                    [key], {});\n",
              "        if (!dataTable) return;\n",
              "\n",
              "        const docLinkHtml = 'Like what you see? Visit the ' +\n",
              "          '<a target=\"_blank\" href=https://colab.research.google.com/notebooks/data_table.ipynb>data table notebook</a>'\n",
              "          + ' to learn more about interactive tables.';\n",
              "        element.innerHTML = '';\n",
              "        dataTable['output_type'] = 'display_data';\n",
              "        await google.colab.output.renderOutput(dataTable, element);\n",
              "        const docLink = document.createElement('div');\n",
              "        docLink.innerHTML = docLinkHtml;\n",
              "        element.appendChild(docLink);\n",
              "      }\n",
              "    </script>\n",
              "  </div>\n",
              "\n",
              "\n",
              "<div id=\"df-5085c414-cb3d-453b-a60a-87a776ba0b8d\">\n",
              "  <button class=\"colab-df-quickchart\" onclick=\"quickchart('df-5085c414-cb3d-453b-a60a-87a776ba0b8d')\"\n",
              "            title=\"Suggest charts\"\n",
              "            style=\"display:none;\">\n",
              "\n",
              "<svg xmlns=\"http://www.w3.org/2000/svg\" height=\"24px\"viewBox=\"0 0 24 24\"\n",
              "     width=\"24px\">\n",
              "    <g>\n",
              "        <path d=\"M19 3H5c-1.1 0-2 .9-2 2v14c0 1.1.9 2 2 2h14c1.1 0 2-.9 2-2V5c0-1.1-.9-2-2-2zM9 17H7v-7h2v7zm4 0h-2V7h2v10zm4 0h-2v-4h2v4z\"/>\n",
              "    </g>\n",
              "</svg>\n",
              "  </button>\n",
              "\n",
              "<style>\n",
              "  .colab-df-quickchart {\n",
              "      --bg-color: #E8F0FE;\n",
              "      --fill-color: #1967D2;\n",
              "      --hover-bg-color: #E2EBFA;\n",
              "      --hover-fill-color: #174EA6;\n",
              "      --disabled-fill-color: #AAA;\n",
              "      --disabled-bg-color: #DDD;\n",
              "  }\n",
              "\n",
              "  [theme=dark] .colab-df-quickchart {\n",
              "      --bg-color: #3B4455;\n",
              "      --fill-color: #D2E3FC;\n",
              "      --hover-bg-color: #434B5C;\n",
              "      --hover-fill-color: #FFFFFF;\n",
              "      --disabled-bg-color: #3B4455;\n",
              "      --disabled-fill-color: #666;\n",
              "  }\n",
              "\n",
              "  .colab-df-quickchart {\n",
              "    background-color: var(--bg-color);\n",
              "    border: none;\n",
              "    border-radius: 50%;\n",
              "    cursor: pointer;\n",
              "    display: none;\n",
              "    fill: var(--fill-color);\n",
              "    height: 32px;\n",
              "    padding: 0;\n",
              "    width: 32px;\n",
              "  }\n",
              "\n",
              "  .colab-df-quickchart:hover {\n",
              "    background-color: var(--hover-bg-color);\n",
              "    box-shadow: 0 1px 2px rgba(60, 64, 67, 0.3), 0 1px 3px 1px rgba(60, 64, 67, 0.15);\n",
              "    fill: var(--button-hover-fill-color);\n",
              "  }\n",
              "\n",
              "  .colab-df-quickchart-complete:disabled,\n",
              "  .colab-df-quickchart-complete:disabled:hover {\n",
              "    background-color: var(--disabled-bg-color);\n",
              "    fill: var(--disabled-fill-color);\n",
              "    box-shadow: none;\n",
              "  }\n",
              "\n",
              "  .colab-df-spinner {\n",
              "    border: 2px solid var(--fill-color);\n",
              "    border-color: transparent;\n",
              "    border-bottom-color: var(--fill-color);\n",
              "    animation:\n",
              "      spin 1s steps(1) infinite;\n",
              "  }\n",
              "\n",
              "  @keyframes spin {\n",
              "    0% {\n",
              "      border-color: transparent;\n",
              "      border-bottom-color: var(--fill-color);\n",
              "      border-left-color: var(--fill-color);\n",
              "    }\n",
              "    20% {\n",
              "      border-color: transparent;\n",
              "      border-left-color: var(--fill-color);\n",
              "      border-top-color: var(--fill-color);\n",
              "    }\n",
              "    30% {\n",
              "      border-color: transparent;\n",
              "      border-left-color: var(--fill-color);\n",
              "      border-top-color: var(--fill-color);\n",
              "      border-right-color: var(--fill-color);\n",
              "    }\n",
              "    40% {\n",
              "      border-color: transparent;\n",
              "      border-right-color: var(--fill-color);\n",
              "      border-top-color: var(--fill-color);\n",
              "    }\n",
              "    60% {\n",
              "      border-color: transparent;\n",
              "      border-right-color: var(--fill-color);\n",
              "    }\n",
              "    80% {\n",
              "      border-color: transparent;\n",
              "      border-right-color: var(--fill-color);\n",
              "      border-bottom-color: var(--fill-color);\n",
              "    }\n",
              "    90% {\n",
              "      border-color: transparent;\n",
              "      border-bottom-color: var(--fill-color);\n",
              "    }\n",
              "  }\n",
              "</style>\n",
              "\n",
              "  <script>\n",
              "    async function quickchart(key) {\n",
              "      const quickchartButtonEl =\n",
              "        document.querySelector('#' + key + ' button');\n",
              "      quickchartButtonEl.disabled = true;  // To prevent multiple clicks.\n",
              "      quickchartButtonEl.classList.add('colab-df-spinner');\n",
              "      try {\n",
              "        const charts = await google.colab.kernel.invokeFunction(\n",
              "            'suggestCharts', [key], {});\n",
              "      } catch (error) {\n",
              "        console.error('Error during call to suggestCharts:', error);\n",
              "      }\n",
              "      quickchartButtonEl.classList.remove('colab-df-spinner');\n",
              "      quickchartButtonEl.classList.add('colab-df-quickchart-complete');\n",
              "    }\n",
              "    (() => {\n",
              "      let quickchartButtonEl =\n",
              "        document.querySelector('#df-5085c414-cb3d-453b-a60a-87a776ba0b8d button');\n",
              "      quickchartButtonEl.style.display =\n",
              "        google.colab.kernel.accessAllowed ? 'block' : 'none';\n",
              "    })();\n",
              "  </script>\n",
              "</div>\n",
              "\n",
              "    </div>\n",
              "  </div>\n"
            ]
          },
          "metadata": {},
          "execution_count": 23
        }
      ],
      "source": [
        "data.head(2)"
      ]
    },
    {
      "cell_type": "code",
      "execution_count": 24,
      "id": "e321d17e",
      "metadata": {
        "id": "e321d17e",
        "outputId": "007b1ecc-515e-4e76-8fd5-a5af0324ffe8",
        "colab": {
          "base_uri": "https://localhost:8080/"
        }
      },
      "outputs": [
        {
          "output_type": "execute_result",
          "data": {
            "text/plain": [
              "Airline            object\n",
              "Date_of_Journey    object\n",
              "Source             object\n",
              "Destination        object\n",
              "Route              object\n",
              "Dep_Time           object\n",
              "Arrival_Time       object\n",
              "Duration           object\n",
              "Total_Stops        object\n",
              "Additional_Info    object\n",
              "Price               int64\n",
              "dtype: object"
            ]
          },
          "metadata": {},
          "execution_count": 24
        }
      ],
      "source": [
        "data.dtypes"
      ]
    },
    {
      "cell_type": "raw",
      "id": "c47ae740",
      "metadata": {
        "id": "c47ae740"
      },
      "source": [
        "we can see that Date_of_Journey is a object data type,\n",
        "Therefore, we have to convert this datatype into timestamp bcz our\n",
        "model will not be able to understand these string values,it just understand Time-stamp..\n",
        "\n",
        "For this we require pandas to_datetime to convert object data type to datetime dtype."
      ]
    },
    {
      "cell_type": "code",
      "execution_count": null,
      "id": "a49c80b6",
      "metadata": {
        "id": "a49c80b6"
      },
      "outputs": [],
      "source": []
    },
    {
      "cell_type": "code",
      "execution_count": 25,
      "id": "8825899e",
      "metadata": {
        "id": "8825899e"
      },
      "outputs": [],
      "source": [
        "def change_into_datetime(col):\n",
        "    data[col]=pd.to_datetime(data[col])"
      ]
    },
    {
      "cell_type": "code",
      "execution_count": 26,
      "id": "674605ce",
      "metadata": {
        "id": "674605ce",
        "outputId": "688e90bc-f326-4ce5-faa8-4dd2615eccc9",
        "colab": {
          "base_uri": "https://localhost:8080/"
        }
      },
      "outputs": [
        {
          "output_type": "execute_result",
          "data": {
            "text/plain": [
              "Index(['Airline', 'Date_of_Journey', 'Source', 'Destination', 'Route',\n",
              "       'Dep_Time', 'Arrival_Time', 'Duration', 'Total_Stops',\n",
              "       'Additional_Info', 'Price'],\n",
              "      dtype='object')"
            ]
          },
          "metadata": {},
          "execution_count": 26
        }
      ],
      "source": [
        "data.columns"
      ]
    },
    {
      "cell_type": "code",
      "execution_count": 27,
      "id": "5d8b558a",
      "metadata": {
        "id": "5d8b558a",
        "outputId": "0ab11b4e-749a-4458-ca64-6d68697001b2",
        "colab": {
          "base_uri": "https://localhost:8080/"
        }
      },
      "outputs": [
        {
          "output_type": "stream",
          "name": "stderr",
          "text": [
            "<ipython-input-25-13b0a9cf4fe7>:2: UserWarning: Parsing dates in DD/MM/YYYY format when dayfirst=False (the default) was specified. This may lead to inconsistently parsed dates! Specify a format to ensure consistent parsing.\n",
            "  data[col]=pd.to_datetime(data[col])\n"
          ]
        }
      ],
      "source": [
        "for feature in ['Date_of_Journey','Dep_Time', 'Arrival_Time']:\n",
        "    change_into_datetime(feature)"
      ]
    },
    {
      "cell_type": "code",
      "execution_count": 28,
      "id": "c4119e13",
      "metadata": {
        "id": "c4119e13",
        "outputId": "b768be4a-ccc0-48d8-a2e8-e966ac59d8c1",
        "colab": {
          "base_uri": "https://localhost:8080/"
        }
      },
      "outputs": [
        {
          "output_type": "execute_result",
          "data": {
            "text/plain": [
              "Airline                    object\n",
              "Date_of_Journey    datetime64[ns]\n",
              "Source                     object\n",
              "Destination                object\n",
              "Route                      object\n",
              "Dep_Time           datetime64[ns]\n",
              "Arrival_Time       datetime64[ns]\n",
              "Duration                   object\n",
              "Total_Stops                object\n",
              "Additional_Info            object\n",
              "Price                       int64\n",
              "dtype: object"
            ]
          },
          "metadata": {},
          "execution_count": 28
        }
      ],
      "source": [
        "data.dtypes"
      ]
    },
    {
      "cell_type": "code",
      "execution_count": null,
      "id": "3a76d13c",
      "metadata": {
        "id": "3a76d13c"
      },
      "outputs": [],
      "source": []
    },
    {
      "cell_type": "code",
      "execution_count": null,
      "id": "922e7916",
      "metadata": {
        "id": "922e7916"
      },
      "outputs": [],
      "source": []
    },
    {
      "cell_type": "markdown",
      "id": "e492e500",
      "metadata": {
        "id": "e492e500"
      },
      "source": [
        "## lets do Feature Engineering of \"Date_of_Journey\" & fetch day,month,year !"
      ]
    },
    {
      "cell_type": "code",
      "execution_count": 32,
      "id": "4a19d931",
      "metadata": {
        "id": "4a19d931"
      },
      "outputs": [],
      "source": [
        "data['journey_day']=data['Date_of_Journey'].dt.day"
      ]
    },
    {
      "cell_type": "code",
      "execution_count": 33,
      "id": "2953c1b6",
      "metadata": {
        "id": "2953c1b6"
      },
      "outputs": [],
      "source": [
        "data['journey_month']=data['Date_of_Journey'].dt.month"
      ]
    },
    {
      "cell_type": "code",
      "execution_count": 34,
      "id": "6b0d9342",
      "metadata": {
        "id": "6b0d9342"
      },
      "outputs": [],
      "source": [
        "data['journey_year']=data['Date_of_Journey'].dt.year"
      ]
    },
    {
      "cell_type": "code",
      "execution_count": 35,
      "id": "7759f5e7",
      "metadata": {
        "id": "7759f5e7",
        "outputId": "caf1f63b-8f7f-49f2-b00b-4dcca74c3b29",
        "colab": {
          "base_uri": "https://localhost:8080/",
          "height": 271
        }
      },
      "outputs": [
        {
          "output_type": "execute_result",
          "data": {
            "text/plain": [
              "     Airline Date_of_Journey    Source Destination                  Route  \\\n",
              "0     IndiGo      2019-03-24  Banglore   New Delhi              BLR → DEL   \n",
              "1  Air India      2019-01-05   Kolkata    Banglore  CCU → IXR → BBI → BLR   \n",
              "\n",
              "             Dep_Time        Arrival_Time Duration Total_Stops  \\\n",
              "0 2024-01-09 22:20:00 2024-03-22 01:10:00   2h 50m    non-stop   \n",
              "1 2024-01-09 05:50:00 2024-01-09 13:15:00   7h 25m     2 stops   \n",
              "\n",
              "  Additional_Info  Price  journey_day  journey_month  journey_year  \n",
              "0         No info   3897           24              3          2019  \n",
              "1         No info   7662            5              1          2019  "
            ],
            "text/html": [
              "\n",
              "  <div id=\"df-d301f631-d7c5-49e1-aab3-8854d9d76a9a\" class=\"colab-df-container\">\n",
              "    <div>\n",
              "<style scoped>\n",
              "    .dataframe tbody tr th:only-of-type {\n",
              "        vertical-align: middle;\n",
              "    }\n",
              "\n",
              "    .dataframe tbody tr th {\n",
              "        vertical-align: top;\n",
              "    }\n",
              "\n",
              "    .dataframe thead th {\n",
              "        text-align: right;\n",
              "    }\n",
              "</style>\n",
              "<table border=\"1\" class=\"dataframe\">\n",
              "  <thead>\n",
              "    <tr style=\"text-align: right;\">\n",
              "      <th></th>\n",
              "      <th>Airline</th>\n",
              "      <th>Date_of_Journey</th>\n",
              "      <th>Source</th>\n",
              "      <th>Destination</th>\n",
              "      <th>Route</th>\n",
              "      <th>Dep_Time</th>\n",
              "      <th>Arrival_Time</th>\n",
              "      <th>Duration</th>\n",
              "      <th>Total_Stops</th>\n",
              "      <th>Additional_Info</th>\n",
              "      <th>Price</th>\n",
              "      <th>journey_day</th>\n",
              "      <th>journey_month</th>\n",
              "      <th>journey_year</th>\n",
              "    </tr>\n",
              "  </thead>\n",
              "  <tbody>\n",
              "    <tr>\n",
              "      <th>0</th>\n",
              "      <td>IndiGo</td>\n",
              "      <td>2019-03-24</td>\n",
              "      <td>Banglore</td>\n",
              "      <td>New Delhi</td>\n",
              "      <td>BLR → DEL</td>\n",
              "      <td>2024-01-09 22:20:00</td>\n",
              "      <td>2024-03-22 01:10:00</td>\n",
              "      <td>2h 50m</td>\n",
              "      <td>non-stop</td>\n",
              "      <td>No info</td>\n",
              "      <td>3897</td>\n",
              "      <td>24</td>\n",
              "      <td>3</td>\n",
              "      <td>2019</td>\n",
              "    </tr>\n",
              "    <tr>\n",
              "      <th>1</th>\n",
              "      <td>Air India</td>\n",
              "      <td>2019-01-05</td>\n",
              "      <td>Kolkata</td>\n",
              "      <td>Banglore</td>\n",
              "      <td>CCU → IXR → BBI → BLR</td>\n",
              "      <td>2024-01-09 05:50:00</td>\n",
              "      <td>2024-01-09 13:15:00</td>\n",
              "      <td>7h 25m</td>\n",
              "      <td>2 stops</td>\n",
              "      <td>No info</td>\n",
              "      <td>7662</td>\n",
              "      <td>5</td>\n",
              "      <td>1</td>\n",
              "      <td>2019</td>\n",
              "    </tr>\n",
              "  </tbody>\n",
              "</table>\n",
              "</div>\n",
              "    <div class=\"colab-df-buttons\">\n",
              "\n",
              "  <div class=\"colab-df-container\">\n",
              "    <button class=\"colab-df-convert\" onclick=\"convertToInteractive('df-d301f631-d7c5-49e1-aab3-8854d9d76a9a')\"\n",
              "            title=\"Convert this dataframe to an interactive table.\"\n",
              "            style=\"display:none;\">\n",
              "\n",
              "  <svg xmlns=\"http://www.w3.org/2000/svg\" height=\"24px\" viewBox=\"0 -960 960 960\">\n",
              "    <path d=\"M120-120v-720h720v720H120Zm60-500h600v-160H180v160Zm220 220h160v-160H400v160Zm0 220h160v-160H400v160ZM180-400h160v-160H180v160Zm440 0h160v-160H620v160ZM180-180h160v-160H180v160Zm440 0h160v-160H620v160Z\"/>\n",
              "  </svg>\n",
              "    </button>\n",
              "\n",
              "  <style>\n",
              "    .colab-df-container {\n",
              "      display:flex;\n",
              "      gap: 12px;\n",
              "    }\n",
              "\n",
              "    .colab-df-convert {\n",
              "      background-color: #E8F0FE;\n",
              "      border: none;\n",
              "      border-radius: 50%;\n",
              "      cursor: pointer;\n",
              "      display: none;\n",
              "      fill: #1967D2;\n",
              "      height: 32px;\n",
              "      padding: 0 0 0 0;\n",
              "      width: 32px;\n",
              "    }\n",
              "\n",
              "    .colab-df-convert:hover {\n",
              "      background-color: #E2EBFA;\n",
              "      box-shadow: 0px 1px 2px rgba(60, 64, 67, 0.3), 0px 1px 3px 1px rgba(60, 64, 67, 0.15);\n",
              "      fill: #174EA6;\n",
              "    }\n",
              "\n",
              "    .colab-df-buttons div {\n",
              "      margin-bottom: 4px;\n",
              "    }\n",
              "\n",
              "    [theme=dark] .colab-df-convert {\n",
              "      background-color: #3B4455;\n",
              "      fill: #D2E3FC;\n",
              "    }\n",
              "\n",
              "    [theme=dark] .colab-df-convert:hover {\n",
              "      background-color: #434B5C;\n",
              "      box-shadow: 0px 1px 3px 1px rgba(0, 0, 0, 0.15);\n",
              "      filter: drop-shadow(0px 1px 2px rgba(0, 0, 0, 0.3));\n",
              "      fill: #FFFFFF;\n",
              "    }\n",
              "  </style>\n",
              "\n",
              "    <script>\n",
              "      const buttonEl =\n",
              "        document.querySelector('#df-d301f631-d7c5-49e1-aab3-8854d9d76a9a button.colab-df-convert');\n",
              "      buttonEl.style.display =\n",
              "        google.colab.kernel.accessAllowed ? 'block' : 'none';\n",
              "\n",
              "      async function convertToInteractive(key) {\n",
              "        const element = document.querySelector('#df-d301f631-d7c5-49e1-aab3-8854d9d76a9a');\n",
              "        const dataTable =\n",
              "          await google.colab.kernel.invokeFunction('convertToInteractive',\n",
              "                                                    [key], {});\n",
              "        if (!dataTable) return;\n",
              "\n",
              "        const docLinkHtml = 'Like what you see? Visit the ' +\n",
              "          '<a target=\"_blank\" href=https://colab.research.google.com/notebooks/data_table.ipynb>data table notebook</a>'\n",
              "          + ' to learn more about interactive tables.';\n",
              "        element.innerHTML = '';\n",
              "        dataTable['output_type'] = 'display_data';\n",
              "        await google.colab.output.renderOutput(dataTable, element);\n",
              "        const docLink = document.createElement('div');\n",
              "        docLink.innerHTML = docLinkHtml;\n",
              "        element.appendChild(docLink);\n",
              "      }\n",
              "    </script>\n",
              "  </div>\n",
              "\n",
              "\n",
              "<div id=\"df-bbc5657b-180d-4dea-b338-066e23eb88e8\">\n",
              "  <button class=\"colab-df-quickchart\" onclick=\"quickchart('df-bbc5657b-180d-4dea-b338-066e23eb88e8')\"\n",
              "            title=\"Suggest charts\"\n",
              "            style=\"display:none;\">\n",
              "\n",
              "<svg xmlns=\"http://www.w3.org/2000/svg\" height=\"24px\"viewBox=\"0 0 24 24\"\n",
              "     width=\"24px\">\n",
              "    <g>\n",
              "        <path d=\"M19 3H5c-1.1 0-2 .9-2 2v14c0 1.1.9 2 2 2h14c1.1 0 2-.9 2-2V5c0-1.1-.9-2-2-2zM9 17H7v-7h2v7zm4 0h-2V7h2v10zm4 0h-2v-4h2v4z\"/>\n",
              "    </g>\n",
              "</svg>\n",
              "  </button>\n",
              "\n",
              "<style>\n",
              "  .colab-df-quickchart {\n",
              "      --bg-color: #E8F0FE;\n",
              "      --fill-color: #1967D2;\n",
              "      --hover-bg-color: #E2EBFA;\n",
              "      --hover-fill-color: #174EA6;\n",
              "      --disabled-fill-color: #AAA;\n",
              "      --disabled-bg-color: #DDD;\n",
              "  }\n",
              "\n",
              "  [theme=dark] .colab-df-quickchart {\n",
              "      --bg-color: #3B4455;\n",
              "      --fill-color: #D2E3FC;\n",
              "      --hover-bg-color: #434B5C;\n",
              "      --hover-fill-color: #FFFFFF;\n",
              "      --disabled-bg-color: #3B4455;\n",
              "      --disabled-fill-color: #666;\n",
              "  }\n",
              "\n",
              "  .colab-df-quickchart {\n",
              "    background-color: var(--bg-color);\n",
              "    border: none;\n",
              "    border-radius: 50%;\n",
              "    cursor: pointer;\n",
              "    display: none;\n",
              "    fill: var(--fill-color);\n",
              "    height: 32px;\n",
              "    padding: 0;\n",
              "    width: 32px;\n",
              "  }\n",
              "\n",
              "  .colab-df-quickchart:hover {\n",
              "    background-color: var(--hover-bg-color);\n",
              "    box-shadow: 0 1px 2px rgba(60, 64, 67, 0.3), 0 1px 3px 1px rgba(60, 64, 67, 0.15);\n",
              "    fill: var(--button-hover-fill-color);\n",
              "  }\n",
              "\n",
              "  .colab-df-quickchart-complete:disabled,\n",
              "  .colab-df-quickchart-complete:disabled:hover {\n",
              "    background-color: var(--disabled-bg-color);\n",
              "    fill: var(--disabled-fill-color);\n",
              "    box-shadow: none;\n",
              "  }\n",
              "\n",
              "  .colab-df-spinner {\n",
              "    border: 2px solid var(--fill-color);\n",
              "    border-color: transparent;\n",
              "    border-bottom-color: var(--fill-color);\n",
              "    animation:\n",
              "      spin 1s steps(1) infinite;\n",
              "  }\n",
              "\n",
              "  @keyframes spin {\n",
              "    0% {\n",
              "      border-color: transparent;\n",
              "      border-bottom-color: var(--fill-color);\n",
              "      border-left-color: var(--fill-color);\n",
              "    }\n",
              "    20% {\n",
              "      border-color: transparent;\n",
              "      border-left-color: var(--fill-color);\n",
              "      border-top-color: var(--fill-color);\n",
              "    }\n",
              "    30% {\n",
              "      border-color: transparent;\n",
              "      border-left-color: var(--fill-color);\n",
              "      border-top-color: var(--fill-color);\n",
              "      border-right-color: var(--fill-color);\n",
              "    }\n",
              "    40% {\n",
              "      border-color: transparent;\n",
              "      border-right-color: var(--fill-color);\n",
              "      border-top-color: var(--fill-color);\n",
              "    }\n",
              "    60% {\n",
              "      border-color: transparent;\n",
              "      border-right-color: var(--fill-color);\n",
              "    }\n",
              "    80% {\n",
              "      border-color: transparent;\n",
              "      border-right-color: var(--fill-color);\n",
              "      border-bottom-color: var(--fill-color);\n",
              "    }\n",
              "    90% {\n",
              "      border-color: transparent;\n",
              "      border-bottom-color: var(--fill-color);\n",
              "    }\n",
              "  }\n",
              "</style>\n",
              "\n",
              "  <script>\n",
              "    async function quickchart(key) {\n",
              "      const quickchartButtonEl =\n",
              "        document.querySelector('#' + key + ' button');\n",
              "      quickchartButtonEl.disabled = true;  // To prevent multiple clicks.\n",
              "      quickchartButtonEl.classList.add('colab-df-spinner');\n",
              "      try {\n",
              "        const charts = await google.colab.kernel.invokeFunction(\n",
              "            'suggestCharts', [key], {});\n",
              "      } catch (error) {\n",
              "        console.error('Error during call to suggestCharts:', error);\n",
              "      }\n",
              "      quickchartButtonEl.classList.remove('colab-df-spinner');\n",
              "      quickchartButtonEl.classList.add('colab-df-quickchart-complete');\n",
              "    }\n",
              "    (() => {\n",
              "      let quickchartButtonEl =\n",
              "        document.querySelector('#df-bbc5657b-180d-4dea-b338-066e23eb88e8 button');\n",
              "      quickchartButtonEl.style.display =\n",
              "        google.colab.kernel.accessAllowed ? 'block' : 'none';\n",
              "    })();\n",
              "  </script>\n",
              "</div>\n",
              "\n",
              "    </div>\n",
              "  </div>\n"
            ]
          },
          "metadata": {},
          "execution_count": 35
        }
      ],
      "source": [
        "data.head(2)"
      ]
    },
    {
      "cell_type": "code",
      "execution_count": 36,
      "id": "0d988395",
      "metadata": {
        "id": "0d988395"
      },
      "outputs": [],
      "source": [
        "data.drop('Date_of_Journey',axis=1,inplace=True)"
      ]
    },
    {
      "cell_type": "code",
      "execution_count": 37,
      "id": "0d7fbc13",
      "metadata": {
        "id": "0d7fbc13",
        "outputId": "31f34a58-98f8-4338-e5d3-2a812cfa2c17",
        "colab": {
          "base_uri": "https://localhost:8080/",
          "height": 271
        }
      },
      "outputs": [
        {
          "output_type": "execute_result",
          "data": {
            "text/plain": [
              "     Airline    Source Destination                  Route            Dep_Time  \\\n",
              "0     IndiGo  Banglore   New Delhi              BLR → DEL 2024-01-09 22:20:00   \n",
              "1  Air India   Kolkata    Banglore  CCU → IXR → BBI → BLR 2024-01-09 05:50:00   \n",
              "\n",
              "         Arrival_Time Duration Total_Stops Additional_Info  Price  \\\n",
              "0 2024-03-22 01:10:00   2h 50m    non-stop         No info   3897   \n",
              "1 2024-01-09 13:15:00   7h 25m     2 stops         No info   7662   \n",
              "\n",
              "   journey_day  journey_month  journey_year  \n",
              "0           24              3          2019  \n",
              "1            5              1          2019  "
            ],
            "text/html": [
              "\n",
              "  <div id=\"df-4cdd5451-0b33-4e2b-8987-5b84d75f07af\" class=\"colab-df-container\">\n",
              "    <div>\n",
              "<style scoped>\n",
              "    .dataframe tbody tr th:only-of-type {\n",
              "        vertical-align: middle;\n",
              "    }\n",
              "\n",
              "    .dataframe tbody tr th {\n",
              "        vertical-align: top;\n",
              "    }\n",
              "\n",
              "    .dataframe thead th {\n",
              "        text-align: right;\n",
              "    }\n",
              "</style>\n",
              "<table border=\"1\" class=\"dataframe\">\n",
              "  <thead>\n",
              "    <tr style=\"text-align: right;\">\n",
              "      <th></th>\n",
              "      <th>Airline</th>\n",
              "      <th>Source</th>\n",
              "      <th>Destination</th>\n",
              "      <th>Route</th>\n",
              "      <th>Dep_Time</th>\n",
              "      <th>Arrival_Time</th>\n",
              "      <th>Duration</th>\n",
              "      <th>Total_Stops</th>\n",
              "      <th>Additional_Info</th>\n",
              "      <th>Price</th>\n",
              "      <th>journey_day</th>\n",
              "      <th>journey_month</th>\n",
              "      <th>journey_year</th>\n",
              "    </tr>\n",
              "  </thead>\n",
              "  <tbody>\n",
              "    <tr>\n",
              "      <th>0</th>\n",
              "      <td>IndiGo</td>\n",
              "      <td>Banglore</td>\n",
              "      <td>New Delhi</td>\n",
              "      <td>BLR → DEL</td>\n",
              "      <td>2024-01-09 22:20:00</td>\n",
              "      <td>2024-03-22 01:10:00</td>\n",
              "      <td>2h 50m</td>\n",
              "      <td>non-stop</td>\n",
              "      <td>No info</td>\n",
              "      <td>3897</td>\n",
              "      <td>24</td>\n",
              "      <td>3</td>\n",
              "      <td>2019</td>\n",
              "    </tr>\n",
              "    <tr>\n",
              "      <th>1</th>\n",
              "      <td>Air India</td>\n",
              "      <td>Kolkata</td>\n",
              "      <td>Banglore</td>\n",
              "      <td>CCU → IXR → BBI → BLR</td>\n",
              "      <td>2024-01-09 05:50:00</td>\n",
              "      <td>2024-01-09 13:15:00</td>\n",
              "      <td>7h 25m</td>\n",
              "      <td>2 stops</td>\n",
              "      <td>No info</td>\n",
              "      <td>7662</td>\n",
              "      <td>5</td>\n",
              "      <td>1</td>\n",
              "      <td>2019</td>\n",
              "    </tr>\n",
              "  </tbody>\n",
              "</table>\n",
              "</div>\n",
              "    <div class=\"colab-df-buttons\">\n",
              "\n",
              "  <div class=\"colab-df-container\">\n",
              "    <button class=\"colab-df-convert\" onclick=\"convertToInteractive('df-4cdd5451-0b33-4e2b-8987-5b84d75f07af')\"\n",
              "            title=\"Convert this dataframe to an interactive table.\"\n",
              "            style=\"display:none;\">\n",
              "\n",
              "  <svg xmlns=\"http://www.w3.org/2000/svg\" height=\"24px\" viewBox=\"0 -960 960 960\">\n",
              "    <path d=\"M120-120v-720h720v720H120Zm60-500h600v-160H180v160Zm220 220h160v-160H400v160Zm0 220h160v-160H400v160ZM180-400h160v-160H180v160Zm440 0h160v-160H620v160ZM180-180h160v-160H180v160Zm440 0h160v-160H620v160Z\"/>\n",
              "  </svg>\n",
              "    </button>\n",
              "\n",
              "  <style>\n",
              "    .colab-df-container {\n",
              "      display:flex;\n",
              "      gap: 12px;\n",
              "    }\n",
              "\n",
              "    .colab-df-convert {\n",
              "      background-color: #E8F0FE;\n",
              "      border: none;\n",
              "      border-radius: 50%;\n",
              "      cursor: pointer;\n",
              "      display: none;\n",
              "      fill: #1967D2;\n",
              "      height: 32px;\n",
              "      padding: 0 0 0 0;\n",
              "      width: 32px;\n",
              "    }\n",
              "\n",
              "    .colab-df-convert:hover {\n",
              "      background-color: #E2EBFA;\n",
              "      box-shadow: 0px 1px 2px rgba(60, 64, 67, 0.3), 0px 1px 3px 1px rgba(60, 64, 67, 0.15);\n",
              "      fill: #174EA6;\n",
              "    }\n",
              "\n",
              "    .colab-df-buttons div {\n",
              "      margin-bottom: 4px;\n",
              "    }\n",
              "\n",
              "    [theme=dark] .colab-df-convert {\n",
              "      background-color: #3B4455;\n",
              "      fill: #D2E3FC;\n",
              "    }\n",
              "\n",
              "    [theme=dark] .colab-df-convert:hover {\n",
              "      background-color: #434B5C;\n",
              "      box-shadow: 0px 1px 3px 1px rgba(0, 0, 0, 0.15);\n",
              "      filter: drop-shadow(0px 1px 2px rgba(0, 0, 0, 0.3));\n",
              "      fill: #FFFFFF;\n",
              "    }\n",
              "  </style>\n",
              "\n",
              "    <script>\n",
              "      const buttonEl =\n",
              "        document.querySelector('#df-4cdd5451-0b33-4e2b-8987-5b84d75f07af button.colab-df-convert');\n",
              "      buttonEl.style.display =\n",
              "        google.colab.kernel.accessAllowed ? 'block' : 'none';\n",
              "\n",
              "      async function convertToInteractive(key) {\n",
              "        const element = document.querySelector('#df-4cdd5451-0b33-4e2b-8987-5b84d75f07af');\n",
              "        const dataTable =\n",
              "          await google.colab.kernel.invokeFunction('convertToInteractive',\n",
              "                                                    [key], {});\n",
              "        if (!dataTable) return;\n",
              "\n",
              "        const docLinkHtml = 'Like what you see? Visit the ' +\n",
              "          '<a target=\"_blank\" href=https://colab.research.google.com/notebooks/data_table.ipynb>data table notebook</a>'\n",
              "          + ' to learn more about interactive tables.';\n",
              "        element.innerHTML = '';\n",
              "        dataTable['output_type'] = 'display_data';\n",
              "        await google.colab.output.renderOutput(dataTable, element);\n",
              "        const docLink = document.createElement('div');\n",
              "        docLink.innerHTML = docLinkHtml;\n",
              "        element.appendChild(docLink);\n",
              "      }\n",
              "    </script>\n",
              "  </div>\n",
              "\n",
              "\n",
              "<div id=\"df-a546cd30-9e66-4b01-b7ed-fa076c186fb6\">\n",
              "  <button class=\"colab-df-quickchart\" onclick=\"quickchart('df-a546cd30-9e66-4b01-b7ed-fa076c186fb6')\"\n",
              "            title=\"Suggest charts\"\n",
              "            style=\"display:none;\">\n",
              "\n",
              "<svg xmlns=\"http://www.w3.org/2000/svg\" height=\"24px\"viewBox=\"0 0 24 24\"\n",
              "     width=\"24px\">\n",
              "    <g>\n",
              "        <path d=\"M19 3H5c-1.1 0-2 .9-2 2v14c0 1.1.9 2 2 2h14c1.1 0 2-.9 2-2V5c0-1.1-.9-2-2-2zM9 17H7v-7h2v7zm4 0h-2V7h2v10zm4 0h-2v-4h2v4z\"/>\n",
              "    </g>\n",
              "</svg>\n",
              "  </button>\n",
              "\n",
              "<style>\n",
              "  .colab-df-quickchart {\n",
              "      --bg-color: #E8F0FE;\n",
              "      --fill-color: #1967D2;\n",
              "      --hover-bg-color: #E2EBFA;\n",
              "      --hover-fill-color: #174EA6;\n",
              "      --disabled-fill-color: #AAA;\n",
              "      --disabled-bg-color: #DDD;\n",
              "  }\n",
              "\n",
              "  [theme=dark] .colab-df-quickchart {\n",
              "      --bg-color: #3B4455;\n",
              "      --fill-color: #D2E3FC;\n",
              "      --hover-bg-color: #434B5C;\n",
              "      --hover-fill-color: #FFFFFF;\n",
              "      --disabled-bg-color: #3B4455;\n",
              "      --disabled-fill-color: #666;\n",
              "  }\n",
              "\n",
              "  .colab-df-quickchart {\n",
              "    background-color: var(--bg-color);\n",
              "    border: none;\n",
              "    border-radius: 50%;\n",
              "    cursor: pointer;\n",
              "    display: none;\n",
              "    fill: var(--fill-color);\n",
              "    height: 32px;\n",
              "    padding: 0;\n",
              "    width: 32px;\n",
              "  }\n",
              "\n",
              "  .colab-df-quickchart:hover {\n",
              "    background-color: var(--hover-bg-color);\n",
              "    box-shadow: 0 1px 2px rgba(60, 64, 67, 0.3), 0 1px 3px 1px rgba(60, 64, 67, 0.15);\n",
              "    fill: var(--button-hover-fill-color);\n",
              "  }\n",
              "\n",
              "  .colab-df-quickchart-complete:disabled,\n",
              "  .colab-df-quickchart-complete:disabled:hover {\n",
              "    background-color: var(--disabled-bg-color);\n",
              "    fill: var(--disabled-fill-color);\n",
              "    box-shadow: none;\n",
              "  }\n",
              "\n",
              "  .colab-df-spinner {\n",
              "    border: 2px solid var(--fill-color);\n",
              "    border-color: transparent;\n",
              "    border-bottom-color: var(--fill-color);\n",
              "    animation:\n",
              "      spin 1s steps(1) infinite;\n",
              "  }\n",
              "\n",
              "  @keyframes spin {\n",
              "    0% {\n",
              "      border-color: transparent;\n",
              "      border-bottom-color: var(--fill-color);\n",
              "      border-left-color: var(--fill-color);\n",
              "    }\n",
              "    20% {\n",
              "      border-color: transparent;\n",
              "      border-left-color: var(--fill-color);\n",
              "      border-top-color: var(--fill-color);\n",
              "    }\n",
              "    30% {\n",
              "      border-color: transparent;\n",
              "      border-left-color: var(--fill-color);\n",
              "      border-top-color: var(--fill-color);\n",
              "      border-right-color: var(--fill-color);\n",
              "    }\n",
              "    40% {\n",
              "      border-color: transparent;\n",
              "      border-right-color: var(--fill-color);\n",
              "      border-top-color: var(--fill-color);\n",
              "    }\n",
              "    60% {\n",
              "      border-color: transparent;\n",
              "      border-right-color: var(--fill-color);\n",
              "    }\n",
              "    80% {\n",
              "      border-color: transparent;\n",
              "      border-right-color: var(--fill-color);\n",
              "      border-bottom-color: var(--fill-color);\n",
              "    }\n",
              "    90% {\n",
              "      border-color: transparent;\n",
              "      border-bottom-color: var(--fill-color);\n",
              "    }\n",
              "  }\n",
              "</style>\n",
              "\n",
              "  <script>\n",
              "    async function quickchart(key) {\n",
              "      const quickchartButtonEl =\n",
              "        document.querySelector('#' + key + ' button');\n",
              "      quickchartButtonEl.disabled = true;  // To prevent multiple clicks.\n",
              "      quickchartButtonEl.classList.add('colab-df-spinner');\n",
              "      try {\n",
              "        const charts = await google.colab.kernel.invokeFunction(\n",
              "            'suggestCharts', [key], {});\n",
              "      } catch (error) {\n",
              "        console.error('Error during call to suggestCharts:', error);\n",
              "      }\n",
              "      quickchartButtonEl.classList.remove('colab-df-spinner');\n",
              "      quickchartButtonEl.classList.add('colab-df-quickchart-complete');\n",
              "    }\n",
              "    (() => {\n",
              "      let quickchartButtonEl =\n",
              "        document.querySelector('#df-a546cd30-9e66-4b01-b7ed-fa076c186fb6 button');\n",
              "      quickchartButtonEl.style.display =\n",
              "        google.colab.kernel.accessAllowed ? 'block' : 'none';\n",
              "    })();\n",
              "  </script>\n",
              "</div>\n",
              "\n",
              "    </div>\n",
              "  </div>\n"
            ]
          },
          "metadata": {},
          "execution_count": 37
        }
      ],
      "source": [
        "data.head(2)"
      ]
    },
    {
      "cell_type": "code",
      "execution_count": null,
      "id": "f3578fc1",
      "metadata": {
        "id": "f3578fc1"
      },
      "outputs": [],
      "source": []
    },
    {
      "cell_type": "markdown",
      "id": "85d03969",
      "metadata": {
        "id": "85d03969"
      },
      "source": [
        "## Lets try to clean Dep_Time & Arrival_Time & featurize it.."
      ]
    },
    {
      "cell_type": "code",
      "execution_count": 38,
      "id": "419c541b",
      "metadata": {
        "id": "419c541b"
      },
      "outputs": [],
      "source": [
        "def extract_hour_min(df,col):\n",
        "    df[col+'_hour']=df[col].dt.hour\n",
        "    df[col+'_minute']=df[col].dt.minute\n",
        "    df.drop(col,axis=1,inplace=True)\n",
        "    return df.head(2)"
      ]
    },
    {
      "cell_type": "code",
      "execution_count": 39,
      "id": "9661c843",
      "metadata": {
        "id": "9661c843",
        "outputId": "3f9981ea-c46a-4289-c620-f71360469055",
        "colab": {
          "base_uri": "https://localhost:8080/",
          "height": 271
        }
      },
      "outputs": [
        {
          "output_type": "execute_result",
          "data": {
            "text/plain": [
              "     Airline    Source Destination                  Route        Arrival_Time  \\\n",
              "0     IndiGo  Banglore   New Delhi              BLR → DEL 2024-03-22 01:10:00   \n",
              "1  Air India   Kolkata    Banglore  CCU → IXR → BBI → BLR 2024-01-09 13:15:00   \n",
              "\n",
              "  Duration Total_Stops Additional_Info  Price  journey_day  journey_month  \\\n",
              "0   2h 50m    non-stop         No info   3897           24              3   \n",
              "1   7h 25m     2 stops         No info   7662            5              1   \n",
              "\n",
              "   journey_year  Dep_Time_hour  Dep_Time_minute  \n",
              "0          2019             22               20  \n",
              "1          2019              5               50  "
            ],
            "text/html": [
              "\n",
              "  <div id=\"df-2886428b-2fe0-443b-964e-2474e99a8e99\" class=\"colab-df-container\">\n",
              "    <div>\n",
              "<style scoped>\n",
              "    .dataframe tbody tr th:only-of-type {\n",
              "        vertical-align: middle;\n",
              "    }\n",
              "\n",
              "    .dataframe tbody tr th {\n",
              "        vertical-align: top;\n",
              "    }\n",
              "\n",
              "    .dataframe thead th {\n",
              "        text-align: right;\n",
              "    }\n",
              "</style>\n",
              "<table border=\"1\" class=\"dataframe\">\n",
              "  <thead>\n",
              "    <tr style=\"text-align: right;\">\n",
              "      <th></th>\n",
              "      <th>Airline</th>\n",
              "      <th>Source</th>\n",
              "      <th>Destination</th>\n",
              "      <th>Route</th>\n",
              "      <th>Arrival_Time</th>\n",
              "      <th>Duration</th>\n",
              "      <th>Total_Stops</th>\n",
              "      <th>Additional_Info</th>\n",
              "      <th>Price</th>\n",
              "      <th>journey_day</th>\n",
              "      <th>journey_month</th>\n",
              "      <th>journey_year</th>\n",
              "      <th>Dep_Time_hour</th>\n",
              "      <th>Dep_Time_minute</th>\n",
              "    </tr>\n",
              "  </thead>\n",
              "  <tbody>\n",
              "    <tr>\n",
              "      <th>0</th>\n",
              "      <td>IndiGo</td>\n",
              "      <td>Banglore</td>\n",
              "      <td>New Delhi</td>\n",
              "      <td>BLR → DEL</td>\n",
              "      <td>2024-03-22 01:10:00</td>\n",
              "      <td>2h 50m</td>\n",
              "      <td>non-stop</td>\n",
              "      <td>No info</td>\n",
              "      <td>3897</td>\n",
              "      <td>24</td>\n",
              "      <td>3</td>\n",
              "      <td>2019</td>\n",
              "      <td>22</td>\n",
              "      <td>20</td>\n",
              "    </tr>\n",
              "    <tr>\n",
              "      <th>1</th>\n",
              "      <td>Air India</td>\n",
              "      <td>Kolkata</td>\n",
              "      <td>Banglore</td>\n",
              "      <td>CCU → IXR → BBI → BLR</td>\n",
              "      <td>2024-01-09 13:15:00</td>\n",
              "      <td>7h 25m</td>\n",
              "      <td>2 stops</td>\n",
              "      <td>No info</td>\n",
              "      <td>7662</td>\n",
              "      <td>5</td>\n",
              "      <td>1</td>\n",
              "      <td>2019</td>\n",
              "      <td>5</td>\n",
              "      <td>50</td>\n",
              "    </tr>\n",
              "  </tbody>\n",
              "</table>\n",
              "</div>\n",
              "    <div class=\"colab-df-buttons\">\n",
              "\n",
              "  <div class=\"colab-df-container\">\n",
              "    <button class=\"colab-df-convert\" onclick=\"convertToInteractive('df-2886428b-2fe0-443b-964e-2474e99a8e99')\"\n",
              "            title=\"Convert this dataframe to an interactive table.\"\n",
              "            style=\"display:none;\">\n",
              "\n",
              "  <svg xmlns=\"http://www.w3.org/2000/svg\" height=\"24px\" viewBox=\"0 -960 960 960\">\n",
              "    <path d=\"M120-120v-720h720v720H120Zm60-500h600v-160H180v160Zm220 220h160v-160H400v160Zm0 220h160v-160H400v160ZM180-400h160v-160H180v160Zm440 0h160v-160H620v160ZM180-180h160v-160H180v160Zm440 0h160v-160H620v160Z\"/>\n",
              "  </svg>\n",
              "    </button>\n",
              "\n",
              "  <style>\n",
              "    .colab-df-container {\n",
              "      display:flex;\n",
              "      gap: 12px;\n",
              "    }\n",
              "\n",
              "    .colab-df-convert {\n",
              "      background-color: #E8F0FE;\n",
              "      border: none;\n",
              "      border-radius: 50%;\n",
              "      cursor: pointer;\n",
              "      display: none;\n",
              "      fill: #1967D2;\n",
              "      height: 32px;\n",
              "      padding: 0 0 0 0;\n",
              "      width: 32px;\n",
              "    }\n",
              "\n",
              "    .colab-df-convert:hover {\n",
              "      background-color: #E2EBFA;\n",
              "      box-shadow: 0px 1px 2px rgba(60, 64, 67, 0.3), 0px 1px 3px 1px rgba(60, 64, 67, 0.15);\n",
              "      fill: #174EA6;\n",
              "    }\n",
              "\n",
              "    .colab-df-buttons div {\n",
              "      margin-bottom: 4px;\n",
              "    }\n",
              "\n",
              "    [theme=dark] .colab-df-convert {\n",
              "      background-color: #3B4455;\n",
              "      fill: #D2E3FC;\n",
              "    }\n",
              "\n",
              "    [theme=dark] .colab-df-convert:hover {\n",
              "      background-color: #434B5C;\n",
              "      box-shadow: 0px 1px 3px 1px rgba(0, 0, 0, 0.15);\n",
              "      filter: drop-shadow(0px 1px 2px rgba(0, 0, 0, 0.3));\n",
              "      fill: #FFFFFF;\n",
              "    }\n",
              "  </style>\n",
              "\n",
              "    <script>\n",
              "      const buttonEl =\n",
              "        document.querySelector('#df-2886428b-2fe0-443b-964e-2474e99a8e99 button.colab-df-convert');\n",
              "      buttonEl.style.display =\n",
              "        google.colab.kernel.accessAllowed ? 'block' : 'none';\n",
              "\n",
              "      async function convertToInteractive(key) {\n",
              "        const element = document.querySelector('#df-2886428b-2fe0-443b-964e-2474e99a8e99');\n",
              "        const dataTable =\n",
              "          await google.colab.kernel.invokeFunction('convertToInteractive',\n",
              "                                                    [key], {});\n",
              "        if (!dataTable) return;\n",
              "\n",
              "        const docLinkHtml = 'Like what you see? Visit the ' +\n",
              "          '<a target=\"_blank\" href=https://colab.research.google.com/notebooks/data_table.ipynb>data table notebook</a>'\n",
              "          + ' to learn more about interactive tables.';\n",
              "        element.innerHTML = '';\n",
              "        dataTable['output_type'] = 'display_data';\n",
              "        await google.colab.output.renderOutput(dataTable, element);\n",
              "        const docLink = document.createElement('div');\n",
              "        docLink.innerHTML = docLinkHtml;\n",
              "        element.appendChild(docLink);\n",
              "      }\n",
              "    </script>\n",
              "  </div>\n",
              "\n",
              "\n",
              "<div id=\"df-eb7341c1-8c10-40d6-825e-1577382b9b03\">\n",
              "  <button class=\"colab-df-quickchart\" onclick=\"quickchart('df-eb7341c1-8c10-40d6-825e-1577382b9b03')\"\n",
              "            title=\"Suggest charts\"\n",
              "            style=\"display:none;\">\n",
              "\n",
              "<svg xmlns=\"http://www.w3.org/2000/svg\" height=\"24px\"viewBox=\"0 0 24 24\"\n",
              "     width=\"24px\">\n",
              "    <g>\n",
              "        <path d=\"M19 3H5c-1.1 0-2 .9-2 2v14c0 1.1.9 2 2 2h14c1.1 0 2-.9 2-2V5c0-1.1-.9-2-2-2zM9 17H7v-7h2v7zm4 0h-2V7h2v10zm4 0h-2v-4h2v4z\"/>\n",
              "    </g>\n",
              "</svg>\n",
              "  </button>\n",
              "\n",
              "<style>\n",
              "  .colab-df-quickchart {\n",
              "      --bg-color: #E8F0FE;\n",
              "      --fill-color: #1967D2;\n",
              "      --hover-bg-color: #E2EBFA;\n",
              "      --hover-fill-color: #174EA6;\n",
              "      --disabled-fill-color: #AAA;\n",
              "      --disabled-bg-color: #DDD;\n",
              "  }\n",
              "\n",
              "  [theme=dark] .colab-df-quickchart {\n",
              "      --bg-color: #3B4455;\n",
              "      --fill-color: #D2E3FC;\n",
              "      --hover-bg-color: #434B5C;\n",
              "      --hover-fill-color: #FFFFFF;\n",
              "      --disabled-bg-color: #3B4455;\n",
              "      --disabled-fill-color: #666;\n",
              "  }\n",
              "\n",
              "  .colab-df-quickchart {\n",
              "    background-color: var(--bg-color);\n",
              "    border: none;\n",
              "    border-radius: 50%;\n",
              "    cursor: pointer;\n",
              "    display: none;\n",
              "    fill: var(--fill-color);\n",
              "    height: 32px;\n",
              "    padding: 0;\n",
              "    width: 32px;\n",
              "  }\n",
              "\n",
              "  .colab-df-quickchart:hover {\n",
              "    background-color: var(--hover-bg-color);\n",
              "    box-shadow: 0 1px 2px rgba(60, 64, 67, 0.3), 0 1px 3px 1px rgba(60, 64, 67, 0.15);\n",
              "    fill: var(--button-hover-fill-color);\n",
              "  }\n",
              "\n",
              "  .colab-df-quickchart-complete:disabled,\n",
              "  .colab-df-quickchart-complete:disabled:hover {\n",
              "    background-color: var(--disabled-bg-color);\n",
              "    fill: var(--disabled-fill-color);\n",
              "    box-shadow: none;\n",
              "  }\n",
              "\n",
              "  .colab-df-spinner {\n",
              "    border: 2px solid var(--fill-color);\n",
              "    border-color: transparent;\n",
              "    border-bottom-color: var(--fill-color);\n",
              "    animation:\n",
              "      spin 1s steps(1) infinite;\n",
              "  }\n",
              "\n",
              "  @keyframes spin {\n",
              "    0% {\n",
              "      border-color: transparent;\n",
              "      border-bottom-color: var(--fill-color);\n",
              "      border-left-color: var(--fill-color);\n",
              "    }\n",
              "    20% {\n",
              "      border-color: transparent;\n",
              "      border-left-color: var(--fill-color);\n",
              "      border-top-color: var(--fill-color);\n",
              "    }\n",
              "    30% {\n",
              "      border-color: transparent;\n",
              "      border-left-color: var(--fill-color);\n",
              "      border-top-color: var(--fill-color);\n",
              "      border-right-color: var(--fill-color);\n",
              "    }\n",
              "    40% {\n",
              "      border-color: transparent;\n",
              "      border-right-color: var(--fill-color);\n",
              "      border-top-color: var(--fill-color);\n",
              "    }\n",
              "    60% {\n",
              "      border-color: transparent;\n",
              "      border-right-color: var(--fill-color);\n",
              "    }\n",
              "    80% {\n",
              "      border-color: transparent;\n",
              "      border-right-color: var(--fill-color);\n",
              "      border-bottom-color: var(--fill-color);\n",
              "    }\n",
              "    90% {\n",
              "      border-color: transparent;\n",
              "      border-bottom-color: var(--fill-color);\n",
              "    }\n",
              "  }\n",
              "</style>\n",
              "\n",
              "  <script>\n",
              "    async function quickchart(key) {\n",
              "      const quickchartButtonEl =\n",
              "        document.querySelector('#' + key + ' button');\n",
              "      quickchartButtonEl.disabled = true;  // To prevent multiple clicks.\n",
              "      quickchartButtonEl.classList.add('colab-df-spinner');\n",
              "      try {\n",
              "        const charts = await google.colab.kernel.invokeFunction(\n",
              "            'suggestCharts', [key], {});\n",
              "      } catch (error) {\n",
              "        console.error('Error during call to suggestCharts:', error);\n",
              "      }\n",
              "      quickchartButtonEl.classList.remove('colab-df-spinner');\n",
              "      quickchartButtonEl.classList.add('colab-df-quickchart-complete');\n",
              "    }\n",
              "    (() => {\n",
              "      let quickchartButtonEl =\n",
              "        document.querySelector('#df-eb7341c1-8c10-40d6-825e-1577382b9b03 button');\n",
              "      quickchartButtonEl.style.display =\n",
              "        google.colab.kernel.accessAllowed ? 'block' : 'none';\n",
              "    })();\n",
              "  </script>\n",
              "</div>\n",
              "\n",
              "    </div>\n",
              "  </div>\n"
            ]
          },
          "metadata": {},
          "execution_count": 39
        }
      ],
      "source": [
        "# Departure time is when a plane leaves the gate\n",
        "\n",
        "extract_hour_min(data,'Dep_Time')"
      ]
    },
    {
      "cell_type": "code",
      "execution_count": null,
      "id": "c5bedc4d",
      "metadata": {
        "id": "c5bedc4d"
      },
      "outputs": [],
      "source": [
        "### lets Featurize 'Arrival_Time' !"
      ]
    },
    {
      "cell_type": "code",
      "execution_count": 40,
      "id": "0819bb7c",
      "metadata": {
        "id": "0819bb7c",
        "outputId": "f3046498-921d-463d-f9ea-eaa565f54fde",
        "colab": {
          "base_uri": "https://localhost:8080/",
          "height": 271
        }
      },
      "outputs": [
        {
          "output_type": "execute_result",
          "data": {
            "text/plain": [
              "     Airline    Source Destination                  Route Duration  \\\n",
              "0     IndiGo  Banglore   New Delhi              BLR → DEL   2h 50m   \n",
              "1  Air India   Kolkata    Banglore  CCU → IXR → BBI → BLR   7h 25m   \n",
              "\n",
              "  Total_Stops Additional_Info  Price  journey_day  journey_month  \\\n",
              "0    non-stop         No info   3897           24              3   \n",
              "1     2 stops         No info   7662            5              1   \n",
              "\n",
              "   journey_year  Dep_Time_hour  Dep_Time_minute  Arrival_Time_hour  \\\n",
              "0          2019             22               20                  1   \n",
              "1          2019              5               50                 13   \n",
              "\n",
              "   Arrival_Time_minute  \n",
              "0                   10  \n",
              "1                   15  "
            ],
            "text/html": [
              "\n",
              "  <div id=\"df-f62686e2-cd71-4f3a-926e-56edf781c474\" class=\"colab-df-container\">\n",
              "    <div>\n",
              "<style scoped>\n",
              "    .dataframe tbody tr th:only-of-type {\n",
              "        vertical-align: middle;\n",
              "    }\n",
              "\n",
              "    .dataframe tbody tr th {\n",
              "        vertical-align: top;\n",
              "    }\n",
              "\n",
              "    .dataframe thead th {\n",
              "        text-align: right;\n",
              "    }\n",
              "</style>\n",
              "<table border=\"1\" class=\"dataframe\">\n",
              "  <thead>\n",
              "    <tr style=\"text-align: right;\">\n",
              "      <th></th>\n",
              "      <th>Airline</th>\n",
              "      <th>Source</th>\n",
              "      <th>Destination</th>\n",
              "      <th>Route</th>\n",
              "      <th>Duration</th>\n",
              "      <th>Total_Stops</th>\n",
              "      <th>Additional_Info</th>\n",
              "      <th>Price</th>\n",
              "      <th>journey_day</th>\n",
              "      <th>journey_month</th>\n",
              "      <th>journey_year</th>\n",
              "      <th>Dep_Time_hour</th>\n",
              "      <th>Dep_Time_minute</th>\n",
              "      <th>Arrival_Time_hour</th>\n",
              "      <th>Arrival_Time_minute</th>\n",
              "    </tr>\n",
              "  </thead>\n",
              "  <tbody>\n",
              "    <tr>\n",
              "      <th>0</th>\n",
              "      <td>IndiGo</td>\n",
              "      <td>Banglore</td>\n",
              "      <td>New Delhi</td>\n",
              "      <td>BLR → DEL</td>\n",
              "      <td>2h 50m</td>\n",
              "      <td>non-stop</td>\n",
              "      <td>No info</td>\n",
              "      <td>3897</td>\n",
              "      <td>24</td>\n",
              "      <td>3</td>\n",
              "      <td>2019</td>\n",
              "      <td>22</td>\n",
              "      <td>20</td>\n",
              "      <td>1</td>\n",
              "      <td>10</td>\n",
              "    </tr>\n",
              "    <tr>\n",
              "      <th>1</th>\n",
              "      <td>Air India</td>\n",
              "      <td>Kolkata</td>\n",
              "      <td>Banglore</td>\n",
              "      <td>CCU → IXR → BBI → BLR</td>\n",
              "      <td>7h 25m</td>\n",
              "      <td>2 stops</td>\n",
              "      <td>No info</td>\n",
              "      <td>7662</td>\n",
              "      <td>5</td>\n",
              "      <td>1</td>\n",
              "      <td>2019</td>\n",
              "      <td>5</td>\n",
              "      <td>50</td>\n",
              "      <td>13</td>\n",
              "      <td>15</td>\n",
              "    </tr>\n",
              "  </tbody>\n",
              "</table>\n",
              "</div>\n",
              "    <div class=\"colab-df-buttons\">\n",
              "\n",
              "  <div class=\"colab-df-container\">\n",
              "    <button class=\"colab-df-convert\" onclick=\"convertToInteractive('df-f62686e2-cd71-4f3a-926e-56edf781c474')\"\n",
              "            title=\"Convert this dataframe to an interactive table.\"\n",
              "            style=\"display:none;\">\n",
              "\n",
              "  <svg xmlns=\"http://www.w3.org/2000/svg\" height=\"24px\" viewBox=\"0 -960 960 960\">\n",
              "    <path d=\"M120-120v-720h720v720H120Zm60-500h600v-160H180v160Zm220 220h160v-160H400v160Zm0 220h160v-160H400v160ZM180-400h160v-160H180v160Zm440 0h160v-160H620v160ZM180-180h160v-160H180v160Zm440 0h160v-160H620v160Z\"/>\n",
              "  </svg>\n",
              "    </button>\n",
              "\n",
              "  <style>\n",
              "    .colab-df-container {\n",
              "      display:flex;\n",
              "      gap: 12px;\n",
              "    }\n",
              "\n",
              "    .colab-df-convert {\n",
              "      background-color: #E8F0FE;\n",
              "      border: none;\n",
              "      border-radius: 50%;\n",
              "      cursor: pointer;\n",
              "      display: none;\n",
              "      fill: #1967D2;\n",
              "      height: 32px;\n",
              "      padding: 0 0 0 0;\n",
              "      width: 32px;\n",
              "    }\n",
              "\n",
              "    .colab-df-convert:hover {\n",
              "      background-color: #E2EBFA;\n",
              "      box-shadow: 0px 1px 2px rgba(60, 64, 67, 0.3), 0px 1px 3px 1px rgba(60, 64, 67, 0.15);\n",
              "      fill: #174EA6;\n",
              "    }\n",
              "\n",
              "    .colab-df-buttons div {\n",
              "      margin-bottom: 4px;\n",
              "    }\n",
              "\n",
              "    [theme=dark] .colab-df-convert {\n",
              "      background-color: #3B4455;\n",
              "      fill: #D2E3FC;\n",
              "    }\n",
              "\n",
              "    [theme=dark] .colab-df-convert:hover {\n",
              "      background-color: #434B5C;\n",
              "      box-shadow: 0px 1px 3px 1px rgba(0, 0, 0, 0.15);\n",
              "      filter: drop-shadow(0px 1px 2px rgba(0, 0, 0, 0.3));\n",
              "      fill: #FFFFFF;\n",
              "    }\n",
              "  </style>\n",
              "\n",
              "    <script>\n",
              "      const buttonEl =\n",
              "        document.querySelector('#df-f62686e2-cd71-4f3a-926e-56edf781c474 button.colab-df-convert');\n",
              "      buttonEl.style.display =\n",
              "        google.colab.kernel.accessAllowed ? 'block' : 'none';\n",
              "\n",
              "      async function convertToInteractive(key) {\n",
              "        const element = document.querySelector('#df-f62686e2-cd71-4f3a-926e-56edf781c474');\n",
              "        const dataTable =\n",
              "          await google.colab.kernel.invokeFunction('convertToInteractive',\n",
              "                                                    [key], {});\n",
              "        if (!dataTable) return;\n",
              "\n",
              "        const docLinkHtml = 'Like what you see? Visit the ' +\n",
              "          '<a target=\"_blank\" href=https://colab.research.google.com/notebooks/data_table.ipynb>data table notebook</a>'\n",
              "          + ' to learn more about interactive tables.';\n",
              "        element.innerHTML = '';\n",
              "        dataTable['output_type'] = 'display_data';\n",
              "        await google.colab.output.renderOutput(dataTable, element);\n",
              "        const docLink = document.createElement('div');\n",
              "        docLink.innerHTML = docLinkHtml;\n",
              "        element.appendChild(docLink);\n",
              "      }\n",
              "    </script>\n",
              "  </div>\n",
              "\n",
              "\n",
              "<div id=\"df-d93cb694-c8a8-47b3-ad4a-2758e8bc391e\">\n",
              "  <button class=\"colab-df-quickchart\" onclick=\"quickchart('df-d93cb694-c8a8-47b3-ad4a-2758e8bc391e')\"\n",
              "            title=\"Suggest charts\"\n",
              "            style=\"display:none;\">\n",
              "\n",
              "<svg xmlns=\"http://www.w3.org/2000/svg\" height=\"24px\"viewBox=\"0 0 24 24\"\n",
              "     width=\"24px\">\n",
              "    <g>\n",
              "        <path d=\"M19 3H5c-1.1 0-2 .9-2 2v14c0 1.1.9 2 2 2h14c1.1 0 2-.9 2-2V5c0-1.1-.9-2-2-2zM9 17H7v-7h2v7zm4 0h-2V7h2v10zm4 0h-2v-4h2v4z\"/>\n",
              "    </g>\n",
              "</svg>\n",
              "  </button>\n",
              "\n",
              "<style>\n",
              "  .colab-df-quickchart {\n",
              "      --bg-color: #E8F0FE;\n",
              "      --fill-color: #1967D2;\n",
              "      --hover-bg-color: #E2EBFA;\n",
              "      --hover-fill-color: #174EA6;\n",
              "      --disabled-fill-color: #AAA;\n",
              "      --disabled-bg-color: #DDD;\n",
              "  }\n",
              "\n",
              "  [theme=dark] .colab-df-quickchart {\n",
              "      --bg-color: #3B4455;\n",
              "      --fill-color: #D2E3FC;\n",
              "      --hover-bg-color: #434B5C;\n",
              "      --hover-fill-color: #FFFFFF;\n",
              "      --disabled-bg-color: #3B4455;\n",
              "      --disabled-fill-color: #666;\n",
              "  }\n",
              "\n",
              "  .colab-df-quickchart {\n",
              "    background-color: var(--bg-color);\n",
              "    border: none;\n",
              "    border-radius: 50%;\n",
              "    cursor: pointer;\n",
              "    display: none;\n",
              "    fill: var(--fill-color);\n",
              "    height: 32px;\n",
              "    padding: 0;\n",
              "    width: 32px;\n",
              "  }\n",
              "\n",
              "  .colab-df-quickchart:hover {\n",
              "    background-color: var(--hover-bg-color);\n",
              "    box-shadow: 0 1px 2px rgba(60, 64, 67, 0.3), 0 1px 3px 1px rgba(60, 64, 67, 0.15);\n",
              "    fill: var(--button-hover-fill-color);\n",
              "  }\n",
              "\n",
              "  .colab-df-quickchart-complete:disabled,\n",
              "  .colab-df-quickchart-complete:disabled:hover {\n",
              "    background-color: var(--disabled-bg-color);\n",
              "    fill: var(--disabled-fill-color);\n",
              "    box-shadow: none;\n",
              "  }\n",
              "\n",
              "  .colab-df-spinner {\n",
              "    border: 2px solid var(--fill-color);\n",
              "    border-color: transparent;\n",
              "    border-bottom-color: var(--fill-color);\n",
              "    animation:\n",
              "      spin 1s steps(1) infinite;\n",
              "  }\n",
              "\n",
              "  @keyframes spin {\n",
              "    0% {\n",
              "      border-color: transparent;\n",
              "      border-bottom-color: var(--fill-color);\n",
              "      border-left-color: var(--fill-color);\n",
              "    }\n",
              "    20% {\n",
              "      border-color: transparent;\n",
              "      border-left-color: var(--fill-color);\n",
              "      border-top-color: var(--fill-color);\n",
              "    }\n",
              "    30% {\n",
              "      border-color: transparent;\n",
              "      border-left-color: var(--fill-color);\n",
              "      border-top-color: var(--fill-color);\n",
              "      border-right-color: var(--fill-color);\n",
              "    }\n",
              "    40% {\n",
              "      border-color: transparent;\n",
              "      border-right-color: var(--fill-color);\n",
              "      border-top-color: var(--fill-color);\n",
              "    }\n",
              "    60% {\n",
              "      border-color: transparent;\n",
              "      border-right-color: var(--fill-color);\n",
              "    }\n",
              "    80% {\n",
              "      border-color: transparent;\n",
              "      border-right-color: var(--fill-color);\n",
              "      border-bottom-color: var(--fill-color);\n",
              "    }\n",
              "    90% {\n",
              "      border-color: transparent;\n",
              "      border-bottom-color: var(--fill-color);\n",
              "    }\n",
              "  }\n",
              "</style>\n",
              "\n",
              "  <script>\n",
              "    async function quickchart(key) {\n",
              "      const quickchartButtonEl =\n",
              "        document.querySelector('#' + key + ' button');\n",
              "      quickchartButtonEl.disabled = true;  // To prevent multiple clicks.\n",
              "      quickchartButtonEl.classList.add('colab-df-spinner');\n",
              "      try {\n",
              "        const charts = await google.colab.kernel.invokeFunction(\n",
              "            'suggestCharts', [key], {});\n",
              "      } catch (error) {\n",
              "        console.error('Error during call to suggestCharts:', error);\n",
              "      }\n",
              "      quickchartButtonEl.classList.remove('colab-df-spinner');\n",
              "      quickchartButtonEl.classList.add('colab-df-quickchart-complete');\n",
              "    }\n",
              "    (() => {\n",
              "      let quickchartButtonEl =\n",
              "        document.querySelector('#df-d93cb694-c8a8-47b3-ad4a-2758e8bc391e button');\n",
              "      quickchartButtonEl.style.display =\n",
              "        google.colab.kernel.accessAllowed ? 'block' : 'none';\n",
              "    })();\n",
              "  </script>\n",
              "</div>\n",
              "\n",
              "    </div>\n",
              "  </div>\n"
            ]
          },
          "metadata": {},
          "execution_count": 40
        }
      ],
      "source": [
        "extract_hour_min(data,'Arrival_Time')"
      ]
    },
    {
      "cell_type": "code",
      "execution_count": null,
      "id": "7b3292ae",
      "metadata": {
        "id": "7b3292ae"
      },
      "outputs": [],
      "source": []
    },
    {
      "cell_type": "markdown",
      "id": "67776691",
      "metadata": {
        "id": "67776691"
      },
      "source": [
        "## lets analyse when will most of the flights will take-off"
      ]
    },
    {
      "cell_type": "code",
      "execution_count": 41,
      "id": "9b0413a6",
      "metadata": {
        "id": "9b0413a6"
      },
      "outputs": [],
      "source": [
        "### Converting the flight Dep_Time into proper time i.e. mid_night, morning, afternoon and evening.\n",
        "\n",
        "def flight_dep_time(x):\n",
        "    '''\n",
        "    This function takes the flight Departure time\n",
        "    and convert into appropriate format.\n",
        "    '''\n",
        "    if ( x> 4) and (x<=8 ):\n",
        "        return 'Early mrng'\n",
        "\n",
        "    elif ( x>8 ) and (x<=12 ):\n",
        "        return 'Morning'\n",
        "\n",
        "    elif ( x>12 ) and (x<=16 ):\n",
        "        return 'Noon'\n",
        "\n",
        "    elif ( x>16 ) and (x<=20 ):\n",
        "        return 'Evening'\n",
        "\n",
        "    elif ( x>20 ) and (x<=24 ):\n",
        "        return 'Night'\n",
        "    else:\n",
        "        return 'Late night'"
      ]
    },
    {
      "cell_type": "code",
      "execution_count": 42,
      "id": "2569f96b",
      "metadata": {
        "id": "2569f96b",
        "outputId": "be0ca39b-c01b-42f1-85d0-0e5ce9220924",
        "colab": {
          "base_uri": "https://localhost:8080/",
          "height": 512
        }
      },
      "outputs": [
        {
          "output_type": "execute_result",
          "data": {
            "text/plain": [
              "<Axes: >"
            ]
          },
          "metadata": {},
          "execution_count": 42
        },
        {
          "output_type": "display_data",
          "data": {
            "text/plain": [
              "<Figure size 640x480 with 1 Axes>"
            ],
            "image/png": "[encoded data removed]"
          },
          "metadata": {}
        }
      ],
      "source": [
        "data['Dep_Time_hour'].apply(flight_dep_time).value_counts().plot(kind='bar')"
      ]
    },
    {
      "cell_type": "code",
      "execution_count": null,
      "id": "3ad79f23",
      "metadata": {
        "id": "3ad79f23"
      },
      "outputs": [],
      "source": []
    },
    {
      "cell_type": "markdown",
      "id": "33b9e3a7",
      "metadata": {
        "id": "33b9e3a7"
      },
      "source": [
        "## lets use Cufflinks"
      ]
    },
    {
      "cell_type": "code",
      "execution_count": 43,
      "id": "710519c5",
      "metadata": {
        "id": "710519c5"
      },
      "outputs": [],
      "source": [
        "## Lets use Plotly interactive plots directly with Pandas dataframes, but First u need below set-up !\n",
        "\n",
        "import plotly\n",
        "import cufflinks as cf\n",
        "from cufflinks.offline import go_offline\n",
        "from plotly.offline import download_plotlyjs,init_notebook_mode,plot,iplot"
      ]
    },
    {
      "cell_type": "code",
      "execution_count": 44,
      "id": "886e8212",
      "metadata": {
        "id": "886e8212",
        "outputId": "e76938df-8007-42ed-af03-3bf5813cfacf",
        "colab": {
          "base_uri": "https://localhost:8080/",
          "height": 17
        }
      },
      "outputs": [
        {
          "output_type": "display_data",
          "data": {
            "text/html": [
              "        <script type=\"text/javascript\">\n",
              "        window.PlotlyConfig = {MathJaxConfig: 'local'};\n",
              "        if (window.MathJax && window.MathJax.Hub && window.MathJax.Hub.Config) {window.MathJax.Hub.Config({SVG: {font: \"STIX-Web\"}});}\n",
              "        if (typeof require !== 'undefined') {\n",
              "        require.undef(\"plotly\");\n",
              "        requirejs.config({\n",
              "            paths: {\n",
              "                'plotly': ['https://cdn.plot.ly/plotly-2.24.1.min']\n",
              "            }\n",
              "        });\n",
              "        require(['plotly'], function(Plotly) {\n",
              "            window._Plotly = Plotly;\n",
              "        });\n",
              "        }\n",
              "        </script>\n",
              "        "
            ]
          },
          "metadata": {}
        }
      ],
      "source": [
        "cf.go_offline()"
      ]
    },
    {
      "cell_type": "code",
      "execution_count": 45,
      "id": "34dcc26f",
      "metadata": {
        "id": "34dcc26f",
        "outputId": "e9348982-ef02-491b-ad29-8b6628d31f99",
        "colab": {
          "base_uri": "https://localhost:8080/",
          "height": 542
        }
      },
      "outputs": [
        {
          "output_type": "display_data",
          "data": {
            "application/vnd.plotly.v1+json": {
              "data": [
                {
                  "marker": {
                    "color": "rgba(255, 153, 51, 0.6)",
                    "line": {
                      "color": "rgba(255, 153, 51, 1.0)",
                      "width": 1
                    }
                  },
                  "name": "Dep_Time_hour",
                  "orientation": "v",
                  "text": "",
                  "x": [
                    "Early mrng",
                    "Evening",
                    "Morning",
                    "Noon",
                    "Night",
                    "Late night"
                  ],
                  "y": [
                    2880,
                    2357,
                    2209,
                    1731,
                    1040,
                    465
                  ],
                  "type": "bar"
                }
              ],
              "layout": {
                "legend": {
                  "bgcolor": "#F5F6F9",
                  "font": {
                    "color": "#4D5663"
                  }
                },
                "paper_bgcolor": "#F5F6F9",
                "plot_bgcolor": "#F5F6F9",
                "template": {
                  "data": {
                    "barpolar": [
                      {
                        "marker": {
                          "line": {
                            "color": "#E5ECF6",
                            "width": 0.5
                          },
                          "pattern": {
                            "fillmode": "overlay",
                            "size": 10,
                            "solidity": 0.2
                          }
                        },
                        "type": "barpolar"
                      }
                    ],
                    "bar": [
                      {
                        "error_x": {
                          "color": "#2a3f5f"
                        },
                        "error_y": {
                          "color": "#2a3f5f"
                        },
                        "marker": {
                          "line": {
                            "color": "#E5ECF6",
                            "width": 0.5
                          },
                          "pattern": {
                            "fillmode": "overlay",
                            "size": 10,
                            "solidity": 0.2
                          }
                        },
                        "type": "bar"
                      }
                    ],
                    "carpet": [
                      {
                        "aaxis": {
                          "endlinecolor": "#2a3f5f",
                          "gridcolor": "white",
                          "linecolor": "white",
                          "minorgridcolor": "white",
                          "startlinecolor": "#2a3f5f"
                        },
                        "baxis": {
                          "endlinecolor": "#2a3f5f",
                          "gridcolor": "white",
                          "linecolor": "white",
                          "minorgridcolor": "white",
                          "startlinecolor": "#2a3f5f"
                        },
                        "type": "carpet"
                      }
                    ],
                    "choropleth": [
                      {
                        "colorbar": {
                          "outlinewidth": 0,
                          "ticks": ""
                        },
                        "type": "choropleth"
                      }
                    ],
                    "contourcarpet": [
                      {
                        "colorbar": {
                          "outlinewidth": 0,
                          "ticks": ""
                        },
                        "type": "contourcarpet"
                      }
                    ],
                    "contour": [
                      {
                        "colorbar": {
                          "outlinewidth": 0,
                          "ticks": ""
                        },
                        "colorscale": [
                          [
                            0,
                            "#0d0887"
                          ],
                          [
                            0.1111111111111111,
                            "#46039f"
                          ],
                          [
                            0.2222222222222222,
                            "#7201a8"
                          ],
                          [
                            0.3333333333333333,
                            "#9c179e"
                          ],
                          [
                            0.4444444444444444,
                            "#bd3786"
                          ],
                          [
                            0.5555555555555556,
                            "#d8576b"
                          ],
                          [
                            0.6666666666666666,
                            "#ed7953"
                          ],
                          [
                            0.7777777777777778,
                            "#fb9f3a"
                          ],
                          [
                            0.8888888888888888,
                            "#fdca26"
                          ],
                          [
                            1,
                            "#f0f921"
                          ]
                        ],
                        "type": "contour"
                      }
                    ],
                    "heatmapgl": [
                      {
                        "colorbar": {
                          "outlinewidth": 0,
                          "ticks": ""
                        },
                        "colorscale": [
                          [
                            0,
                            "#0d0887"
                          ],
                          [
                            0.1111111111111111,
                            "#46039f"
                          ],
                          [
                            0.2222222222222222,
                            "#7201a8"
                          ],
                          [
                            0.3333333333333333,
                            "#9c179e"
                          ],
                          [
                            0.4444444444444444,
                            "#bd3786"
                          ],
                          [
                            0.5555555555555556,
                            "#d8576b"
                          ],
                          [
                            0.6666666666666666,
                            "#ed7953"
                          ],
                          [
                            0.7777777777777778,
                            "#fb9f3a"
                          ],
                          [
                            0.8888888888888888,
                            "#fdca26"
                          ],
                          [
                            1,
                            "#f0f921"
                          ]
                        ],
                        "type": "heatmapgl"
                      }
                    ],
                    "heatmap": [
                      {
                        "colorbar": {
                          "outlinewidth": 0,
                          "ticks": ""
                        },
                        "colorscale": [
                          [
                            0,
                            "#0d0887"
                          ],
                          [
                            0.1111111111111111,
                            "#46039f"
                          ],
                          [
                            0.2222222222222222,
                            "#7201a8"
                          ],
                          [
                            0.3333333333333333,
                            "#9c179e"
                          ],
                          [
                            0.4444444444444444,
                            "#bd3786"
                          ],
                          [
                            0.5555555555555556,
                            "#d8576b"
                          ],
                          [
                            0.6666666666666666,
                            "#ed7953"
                          ],
                          [
                            0.7777777777777778,
                            "#fb9f3a"
                          ],
                          [
                            0.8888888888888888,
                            "#fdca26"
                          ],
                          [
                            1,
                            "#f0f921"
                          ]
                        ],
                        "type": "heatmap"
                      }
                    ],
                    "histogram2dcontour": [
                      {
                        "colorbar": {
                          "outlinewidth": 0,
                          "ticks": ""
                        },
                        "colorscale": [
                          [
                            0,
                            "#0d0887"
                          ],
                          [
                            0.1111111111111111,
                            "#46039f"
                          ],
                          [
                            0.2222222222222222,
                            "#7201a8"
                          ],
                          [
                            0.3333333333333333,
                            "#9c179e"
                          ],
                          [
                            0.4444444444444444,
                            "#bd3786"
                          ],
                          [
                            0.5555555555555556,
                            "#d8576b"
                          ],
                          [
                            0.6666666666666666,
                            "#ed7953"
                          ],
                          [
                            0.7777777777777778,
                            "#fb9f3a"
                          ],
                          [
                            0.8888888888888888,
                            "#fdca26"
                          ],
                          [
                            1,
                            "#f0f921"
                          ]
                        ],
                        "type": "histogram2dcontour"
                      }
                    ],
                    "histogram2d": [
                      {
                        "colorbar": {
                          "outlinewidth": 0,
                          "ticks": ""
                        },
                        "colorscale": [
                          [
                            0,
                            "#0d0887"
                          ],
                          [
                            0.1111111111111111,
                            "#46039f"
                          ],
                          [
                            0.2222222222222222,
                            "#7201a8"
                          ],
                          [
                            0.3333333333333333,
                            "#9c179e"
                          ],
                          [
                            0.4444444444444444,
                            "#bd3786"
                          ],
                          [
                            0.5555555555555556,
                            "#d8576b"
                          ],
                          [
                            0.6666666666666666,
                            "#ed7953"
                          ],
                          [
                            0.7777777777777778,
                            "#fb9f3a"
                          ],
                          [
                            0.8888888888888888,
                            "#fdca26"
                          ],
                          [
                            1,
                            "#f0f921"
                          ]
                        ],
                        "type": "histogram2d"
                      }
                    ],
                    "histogram": [
                      {
                        "marker": {
                          "pattern": {
                            "fillmode": "overlay",
                            "size": 10,
                            "solidity": 0.2
                          }
                        },
                        "type": "histogram"
                      }
                    ],
                    "mesh3d": [
                      {
                        "colorbar": {
                          "outlinewidth": 0,
                          "ticks": ""
                        },
                        "type": "mesh3d"
                      }
                    ],
                    "parcoords": [
                      {
                        "line": {
                          "colorbar": {
                            "outlinewidth": 0,
                            "ticks": ""
                          }
                        },
                        "type": "parcoords"
                      }
                    ],
                    "pie": [
                      {
                        "automargin": true,
                        "type": "pie"
                      }
                    ],
                    "scatter3d": [
                      {
                        "line": {
                          "colorbar": {
                            "outlinewidth": 0,
                            "ticks": ""
                          }
                        },
                        "marker": {
                          "colorbar": {
                            "outlinewidth": 0,
                            "ticks": ""
                          }
                        },
                        "type": "scatter3d"
                      }
                    ],
                    "scattercarpet": [
                      {
                        "marker": {
                          "colorbar": {
                            "outlinewidth": 0,
                            "ticks": ""
                          }
                        },
                        "type": "scattercarpet"
                      }
                    ],
                    "scattergeo": [
                      {
                        "marker": {
                          "colorbar": {
                            "outlinewidth": 0,
                            "ticks": ""
                          }
                        },
                        "type": "scattergeo"
                      }
                    ],
                    "scattergl": [
                      {
                        "marker": {
                          "colorbar": {
                            "outlinewidth": 0,
                            "ticks": ""
                          }
                        },
                        "type": "scattergl"
                      }
                    ],
                    "scattermapbox": [
                      {
                        "marker": {
                          "colorbar": {
                            "outlinewidth": 0,
                            "ticks": ""
                          }
                        },
                        "type": "scattermapbox"
                      }
                    ],
                    "scatterpolargl": [
                      {
                        "marker": {
                          "colorbar": {
                            "outlinewidth": 0,
                            "ticks": ""
                          }
                        },
                        "type": "scatterpolargl"
                      }
                    ],
                    "scatterpolar": [
                      {
                        "marker": {
                          "colorbar": {
                            "outlinewidth": 0,
                            "ticks": ""
                          }
                        },
                        "type": "scatterpolar"
                      }
                    ],
                    "scatter": [
                      {
                        "fillpattern": {
                          "fillmode": "overlay",
                          "size": 10,
                          "solidity": 0.2
                        },
                        "type": "scatter"
                      }
                    ],
                    "scatterternary": [
                      {
                        "marker": {
                          "colorbar": {
                            "outlinewidth": 0,
                            "ticks": ""
                          }
                        },
                        "type": "scatterternary"
                      }
                    ],
                    "surface": [
                      {
                        "colorbar": {
                          "outlinewidth": 0,
                          "ticks": ""
                        },
                        "colorscale": [
                          [
                            0,
                            "#0d0887"
                          ],
                          [
                            0.1111111111111111,
                            "#46039f"
                          ],
                          [
                            0.2222222222222222,
                            "#7201a8"
                          ],
                          [
                            0.3333333333333333,
                            "#9c179e"
                          ],
                          [
                            0.4444444444444444,
                            "#bd3786"
                          ],
                          [
                            0.5555555555555556,
                            "#d8576b"
                          ],
                          [
                            0.6666666666666666,
                            "#ed7953"
                          ],
                          [
                            0.7777777777777778,
                            "#fb9f3a"
                          ],
                          [
                            0.8888888888888888,
                            "#fdca26"
                          ],
                          [
                            1,
                            "#f0f921"
                          ]
                        ],
                        "type": "surface"
                      }
                    ],
                    "table": [
                      {
                        "cells": {
                          "fill": {
                            "color": "#EBF0F8"
                          },
                          "line": {
                            "color": "white"
                          }
                        },
                        "header": {
                          "fill": {
                            "color": "#C8D4E3"
                          },
                          "line": {
                            "color": "white"
                          }
                        },
                        "type": "table"
                      }
                    ]
                  },
                  "layout": {
                    "annotationdefaults": {
                      "arrowcolor": "#2a3f5f",
                      "arrowhead": 0,
                      "arrowwidth": 1
                    },
                    "autotypenumbers": "strict",
                    "coloraxis": {
                      "colorbar": {
                        "outlinewidth": 0,
                        "ticks": ""
                      }
                    },
                    "colorscale": {
                      "diverging": [
                        [
                          0,
                          "#8e0152"
                        ],
                        [
                          0.1,
                          "#c51b7d"
                        ],
                        [
                          0.2,
                          "#de77ae"
                        ],
                        [
                          0.3,
                          "#f1b6da"
                        ],
                        [
                          0.4,
                          "#fde0ef"
                        ],
                        [
                          0.5,
                          "#f7f7f7"
                        ],
                        [
                          0.6,
                          "#e6f5d0"
                        ],
                        [
                          0.7,
                          "#b8e186"
                        ],
                        [
                          0.8,
                          "#7fbc41"
                        ],
                        [
                          0.9,
                          "#4d9221"
                        ],
                        [
                          1,
                          "#276419"
                        ]
                      ],
                      "sequential": [
                        [
                          0,
                          "#0d0887"
                        ],
                        [
                          0.1111111111111111,
                          "#46039f"
                        ],
                        [
                          0.2222222222222222,
                          "#7201a8"
                        ],
                        [
                          0.3333333333333333,
                          "#9c179e"
                        ],
                        [
                          0.4444444444444444,
                          "#bd3786"
                        ],
                        [
                          0.5555555555555556,
                          "#d8576b"
                        ],
                        [
                          0.6666666666666666,
                          "#ed7953"
                        ],
                        [
                          0.7777777777777778,
                          "#fb9f3a"
                        ],
                        [
                          0.8888888888888888,
                          "#fdca26"
                        ],
                        [
                          1,
                          "#f0f921"
                        ]
                      ],
                      "sequentialminus": [
                        [
                          0,
                          "#0d0887"
                        ],
                        [
                          0.1111111111111111,
                          "#46039f"
                        ],
                        [
                          0.2222222222222222,
                          "#7201a8"
                        ],
                        [
                          0.3333333333333333,
                          "#9c179e"
                        ],
                        [
                          0.4444444444444444,
                          "#bd3786"
                        ],
                        [
                          0.5555555555555556,
                          "#d8576b"
                        ],
                        [
                          0.6666666666666666,
                          "#ed7953"
                        ],
                        [
                          0.7777777777777778,
                          "#fb9f3a"
                        ],
                        [
                          0.8888888888888888,
                          "#fdca26"
                        ],
                        [
                          1,
                          "#f0f921"
                        ]
                      ]
                    },
                    "colorway": [
                      "#636efa",
                      "#EF553B",
                      "#00cc96",
                      "#ab63fa",
                      "#FFA15A",
                      "#19d3f3",
                      "#FF6692",
                      "#B6E880",
                      "#FF97FF",
                      "#FECB52"
                    ],
                    "font": {
                      "color": "#2a3f5f"
                    },
                    "geo": {
                      "bgcolor": "white",
                      "lakecolor": "white",
                      "landcolor": "#E5ECF6",
                      "showlakes": true,
                      "showland": true,
                      "subunitcolor": "white"
                    },
                    "hoverlabel": {
                      "align": "left"
                    },
                    "hovermode": "closest",
                    "mapbox": {
                      "style": "light"
                    },
                    "paper_bgcolor": "white",
                    "plot_bgcolor": "#E5ECF6",
                    "polar": {
                      "angularaxis": {
                        "gridcolor": "white",
                        "linecolor": "white",
                        "ticks": ""
                      },
                      "bgcolor": "#E5ECF6",
                      "radialaxis": {
                        "gridcolor": "white",
                        "linecolor": "white",
                        "ticks": ""
                      }
                    },
                    "scene": {
                      "xaxis": {
                        "backgroundcolor": "#E5ECF6",
                        "gridcolor": "white",
                        "gridwidth": 2,
                        "linecolor": "white",
                        "showbackground": true,
                        "ticks": "",
                        "zerolinecolor": "white"
                      },
                      "yaxis": {
                        "backgroundcolor": "#E5ECF6",
                        "gridcolor": "white",
                        "gridwidth": 2,
                        "linecolor": "white",
                        "showbackground": true,
                        "ticks": "",
                        "zerolinecolor": "white"
                      },
                      "zaxis": {
                        "backgroundcolor": "#E5ECF6",
                        "gridcolor": "white",
                        "gridwidth": 2,
                        "linecolor": "white",
                        "showbackground": true,
                        "ticks": "",
                        "zerolinecolor": "white"
                      }
                    },
                    "shapedefaults": {
                      "line": {
                        "color": "#2a3f5f"
                      }
                    },
                    "ternary": {
                      "aaxis": {
                        "gridcolor": "white",
                        "linecolor": "white",
                        "ticks": ""
                      },
                      "baxis": {
                        "gridcolor": "white",
                        "linecolor": "white",
                        "ticks": ""
                      },
                      "bgcolor": "#E5ECF6",
                      "caxis": {
                        "gridcolor": "white",
                        "linecolor": "white",
                        "ticks": ""
                      }
                    },
                    "title": {
                      "x": 0.05
                    },
                    "xaxis": {
                      "automargin": true,
                      "gridcolor": "white",
                      "linecolor": "white",
                      "ticks": "",
                      "title": {
                        "standoff": 15
                      },
                      "zerolinecolor": "white",
                      "zerolinewidth": 2
                    },
                    "yaxis": {
                      "automargin": true,
                      "gridcolor": "white",
                      "linecolor": "white",
                      "ticks": "",
                      "title": {
                        "standoff": 15
                      },
                      "zerolinecolor": "white",
                      "zerolinewidth": 2
                    }
                  }
                },
                "title": {
                  "font": {
                    "color": "#4D5663"
                  }
                },
                "xaxis": {
                  "gridcolor": "#E1E5ED",
                  "showgrid": true,
                  "tickfont": {
                    "color": "#4D5663"
                  },
                  "title": {
                    "font": {
                      "color": "#4D5663"
                    },
                    "text": ""
                  },
                  "zerolinecolor": "#E1E5ED"
                },
                "yaxis": {
                  "gridcolor": "#E1E5ED",
                  "showgrid": true,
                  "tickfont": {
                    "color": "#4D5663"
                  },
                  "title": {
                    "font": {
                      "color": "#4D5663"
                    },
                    "text": ""
                  },
                  "zerolinecolor": "#E1E5ED"
                }
              },
              "config": {
                "showLink": true,
                "linkText": "Export to plot.ly",
                "plotlyServerURL": "https://plot.ly"
              }
            },
            "text/html": [
              "<div>                            <div id=\"22ae3039-8403-4706-a97f-a84725cc37b8\" class=\"plotly-graph-div\" style=\"height:525px; width:100%;\"></div>            <script type=\"text/javascript\">                require([\"plotly\"], function(Plotly) {                    window.PLOTLYENV=window.PLOTLYENV || {};\n",
              "                    window.PLOTLYENV.BASE_URL='https://plot.ly';                                    if (document.getElementById(\"22ae3039-8403-4706-a97f-a84725cc37b8\")) {                    Plotly.newPlot(                        \"22ae3039-8403-4706-a97f-a84725cc37b8\",                        [{\"marker\":{\"color\":\"rgba(255, 153, 51, 0.6)\",\"line\":{\"color\":\"rgba(255, 153, 51, 1.0)\",\"width\":1}},\"name\":\"Dep_Time_hour\",\"orientation\":\"v\",\"text\":\"\",\"x\":[\"Early mrng\",\"Evening\",\"Morning\",\"Noon\",\"Night\",\"Late night\"],\"y\":[2880,2357,2209,1731,1040,465],\"type\":\"bar\"}],                        {\"legend\":{\"bgcolor\":\"#F5F6F9\",\"font\":{\"color\":\"#4D5663\"}},\"paper_bgcolor\":\"#F5F6F9\",\"plot_bgcolor\":\"#F5F6F9\",\"template\":{\"data\":{\"barpolar\":[{\"marker\":{\"line\":{\"color\":\"#E5ECF6\",\"width\":0.5},\"pattern\":{\"fillmode\":\"overlay\",\"size\":10,\"solidity\":0.2}},\"type\":\"barpolar\"}],\"bar\":[{\"error_x\":{\"color\":\"#2a3f5f\"},\"error_y\":{\"color\":\"#2a3f5f\"},\"marker\":{\"line\":{\"color\":\"#E5ECF6\",\"width\":0.5},\"pattern\":{\"fillmode\":\"overlay\",\"size\":10,\"solidity\":0.2}},\"type\":\"bar\"}],\"carpet\":[{\"aaxis\":{\"endlinecolor\":\"#2a3f5f\",\"gridcolor\":\"white\",\"linecolor\":\"white\",\"minorgridcolor\":\"white\",\"startlinecolor\":\"#2a3f5f\"},\"baxis\":{\"endlinecolor\":\"#2a3f5f\",\"gridcolor\":\"white\",\"linecolor\":\"white\",\"minorgridcolor\":\"white\",\"startlinecolor\":\"#2a3f5f\"},\"type\":\"carpet\"}],\"choropleth\":[{\"colorbar\":{\"outlinewidth\":0,\"ticks\":\"\"},\"type\":\"choropleth\"}],\"contourcarpet\":[{\"colorbar\":{\"outlinewidth\":0,\"ticks\":\"\"},\"type\":\"contourcarpet\"}],\"contour\":[{\"colorbar\":{\"outlinewidth\":0,\"ticks\":\"\"},\"colorscale\":[[0.0,\"#0d0887\"],[0.1111111111111111,\"#46039f\"],[0.2222222222222222,\"#7201a8\"],[0.3333333333333333,\"#9c179e\"],[0.4444444444444444,\"#bd3786\"],[0.5555555555555556,\"#d8576b\"],[0.6666666666666666,\"#ed7953\"],[0.7777777777777778,\"#fb9f3a\"],[0.8888888888888888,\"#fdca26\"],[1.0,\"#f0f921\"]],\"type\":\"contour\"}],\"heatmapgl\":[{\"colorbar\":{\"outlinewidth\":0,\"ticks\":\"\"},\"colorscale\":[[0.0,\"#0d0887\"],[0.1111111111111111,\"#46039f\"],[0.2222222222222222,\"#7201a8\"],[0.3333333333333333,\"#9c179e\"],[0.4444444444444444,\"#bd3786\"],[0.5555555555555556,\"#d8576b\"],[0.6666666666666666,\"#ed7953\"],[0.7777777777777778,\"#fb9f3a\"],[0.8888888888888888,\"#fdca26\"],[1.0,\"#f0f921\"]],\"type\":\"heatmapgl\"}],\"heatmap\":[{\"colorbar\":{\"outlinewidth\":0,\"ticks\":\"\"},\"colorscale\":[[0.0,\"#0d0887\"],[0.1111111111111111,\"#46039f\"],[0.2222222222222222,\"#7201a8\"],[0.3333333333333333,\"#9c179e\"],[0.4444444444444444,\"#bd3786\"],[0.5555555555555556,\"#d8576b\"],[0.6666666666666666,\"#ed7953\"],[0.7777777777777778,\"#fb9f3a\"],[0.8888888888888888,\"#fdca26\"],[1.0,\"#f0f921\"]],\"type\":\"heatmap\"}],\"histogram2dcontour\":[{\"colorbar\":{\"outlinewidth\":0,\"ticks\":\"\"},\"colorscale\":[[0.0,\"#0d0887\"],[0.1111111111111111,\"#46039f\"],[0.2222222222222222,\"#7201a8\"],[0.3333333333333333,\"#9c179e\"],[0.4444444444444444,\"#bd3786\"],[0.5555555555555556,\"#d8576b\"],[0.6666666666666666,\"#ed7953\"],[0.7777777777777778,\"#fb9f3a\"],[0.8888888888888888,\"#fdca26\"],[1.0,\"#f0f921\"]],\"type\":\"histogram2dcontour\"}],\"histogram2d\":[{\"colorbar\":{\"outlinewidth\":0,\"ticks\":\"\"},\"colorscale\":[[0.0,\"#0d0887\"],[0.1111111111111111,\"#46039f\"],[0.2222222222222222,\"#7201a8\"],[0.3333333333333333,\"#9c179e\"],[0.4444444444444444,\"#bd3786\"],[0.5555555555555556,\"#d8576b\"],[0.6666666666666666,\"#ed7953\"],[0.7777777777777778,\"#fb9f3a\"],[0.8888888888888888,\"#fdca26\"],[1.0,\"#f0f921\"]],\"type\":\"histogram2d\"}],\"histogram\":[{\"marker\":{\"pattern\":{\"fillmode\":\"overlay\",\"size\":10,\"solidity\":0.2}},\"type\":\"histogram\"}],\"mesh3d\":[{\"colorbar\":{\"outlinewidth\":0,\"ticks\":\"\"},\"type\":\"mesh3d\"}],\"parcoords\":[{\"line\":{\"colorbar\":{\"outlinewidth\":0,\"ticks\":\"\"}},\"type\":\"parcoords\"}],\"pie\":[{\"automargin\":true,\"type\":\"pie\"}],\"scatter3d\":[{\"line\":{\"colorbar\":{\"outlinewidth\":0,\"ticks\":\"\"}},\"marker\":{\"colorbar\":{\"outlinewidth\":0,\"ticks\":\"\"}},\"type\":\"scatter3d\"}],\"scattercarpet\":[{\"marker\":{\"colorbar\":{\"outlinewidth\":0,\"ticks\":\"\"}},\"type\":\"scattercarpet\"}],\"scattergeo\":[{\"marker\":{\"colorbar\":{\"outlinewidth\":0,\"ticks\":\"\"}},\"type\":\"scattergeo\"}],\"scattergl\":[{\"marker\":{\"colorbar\":{\"outlinewidth\":0,\"ticks\":\"\"}},\"type\":\"scattergl\"}],\"scattermapbox\":[{\"marker\":{\"colorbar\":{\"outlinewidth\":0,\"ticks\":\"\"}},\"type\":\"scattermapbox\"}],\"scatterpolargl\":[{\"marker\":{\"colorbar\":{\"outlinewidth\":0,\"ticks\":\"\"}},\"type\":\"scatterpolargl\"}],\"scatterpolar\":[{\"marker\":{\"colorbar\":{\"outlinewidth\":0,\"ticks\":\"\"}},\"type\":\"scatterpolar\"}],\"scatter\":[{\"fillpattern\":{\"fillmode\":\"overlay\",\"size\":10,\"solidity\":0.2},\"type\":\"scatter\"}],\"scatterternary\":[{\"marker\":{\"colorbar\":{\"outlinewidth\":0,\"ticks\":\"\"}},\"type\":\"scatterternary\"}],\"surface\":[{\"colorbar\":{\"outlinewidth\":0,\"ticks\":\"\"},\"colorscale\":[[0.0,\"#0d0887\"],[0.1111111111111111,\"#46039f\"],[0.2222222222222222,\"#7201a8\"],[0.3333333333333333,\"#9c179e\"],[0.4444444444444444,\"#bd3786\"],[0.5555555555555556,\"#d8576b\"],[0.6666666666666666,\"#ed7953\"],[0.7777777777777778,\"#fb9f3a\"],[0.8888888888888888,\"#fdca26\"],[1.0,\"#f0f921\"]],\"type\":\"surface\"}],\"table\":[{\"cells\":{\"fill\":{\"color\":\"#EBF0F8\"},\"line\":{\"color\":\"white\"}},\"header\":{\"fill\":{\"color\":\"#C8D4E3\"},\"line\":{\"color\":\"white\"}},\"type\":\"table\"}]},\"layout\":{\"annotationdefaults\":{\"arrowcolor\":\"#2a3f5f\",\"arrowhead\":0,\"arrowwidth\":1},\"autotypenumbers\":\"strict\",\"coloraxis\":{\"colorbar\":{\"outlinewidth\":0,\"ticks\":\"\"}},\"colorscale\":{\"diverging\":[[0,\"#8e0152\"],[0.1,\"#c51b7d\"],[0.2,\"#de77ae\"],[0.3,\"#f1b6da\"],[0.4,\"#fde0ef\"],[0.5,\"#f7f7f7\"],[0.6,\"#e6f5d0\"],[0.7,\"#b8e186\"],[0.8,\"#7fbc41\"],[0.9,\"#4d9221\"],[1,\"#276419\"]],\"sequential\":[[0.0,\"#0d0887\"],[0.1111111111111111,\"#46039f\"],[0.2222222222222222,\"#7201a8\"],[0.3333333333333333,\"#9c179e\"],[0.4444444444444444,\"#bd3786\"],[0.5555555555555556,\"#d8576b\"],[0.6666666666666666,\"#ed7953\"],[0.7777777777777778,\"#fb9f3a\"],[0.8888888888888888,\"#fdca26\"],[1.0,\"#f0f921\"]],\"sequentialminus\":[[0.0,\"#0d0887\"],[0.1111111111111111,\"#46039f\"],[0.2222222222222222,\"#7201a8\"],[0.3333333333333333,\"#9c179e\"],[0.4444444444444444,\"#bd3786\"],[0.5555555555555556,\"#d8576b\"],[0.6666666666666666,\"#ed7953\"],[0.7777777777777778,\"#fb9f3a\"],[0.8888888888888888,\"#fdca26\"],[1.0,\"#f0f921\"]]},\"colorway\":[\"#636efa\",\"#EF553B\",\"#00cc96\",\"#ab63fa\",\"#FFA15A\",\"#19d3f3\",\"#FF6692\",\"#B6E880\",\"#FF97FF\",\"#FECB52\"],\"font\":{\"color\":\"#2a3f5f\"},\"geo\":{\"bgcolor\":\"white\",\"lakecolor\":\"white\",\"landcolor\":\"#E5ECF6\",\"showlakes\":true,\"showland\":true,\"subunitcolor\":\"white\"},\"hoverlabel\":{\"align\":\"left\"},\"hovermode\":\"closest\",\"mapbox\":{\"style\":\"light\"},\"paper_bgcolor\":\"white\",\"plot_bgcolor\":\"#E5ECF6\",\"polar\":{\"angularaxis\":{\"gridcolor\":\"white\",\"linecolor\":\"white\",\"ticks\":\"\"},\"bgcolor\":\"#E5ECF6\",\"radialaxis\":{\"gridcolor\":\"white\",\"linecolor\":\"white\",\"ticks\":\"\"}},\"scene\":{\"xaxis\":{\"backgroundcolor\":\"#E5ECF6\",\"gridcolor\":\"white\",\"gridwidth\":2,\"linecolor\":\"white\",\"showbackground\":true,\"ticks\":\"\",\"zerolinecolor\":\"white\"},\"yaxis\":{\"backgroundcolor\":\"#E5ECF6\",\"gridcolor\":\"white\",\"gridwidth\":2,\"linecolor\":\"white\",\"showbackground\":true,\"ticks\":\"\",\"zerolinecolor\":\"white\"},\"zaxis\":{\"backgroundcolor\":\"#E5ECF6\",\"gridcolor\":\"white\",\"gridwidth\":2,\"linecolor\":\"white\",\"showbackground\":true,\"ticks\":\"\",\"zerolinecolor\":\"white\"}},\"shapedefaults\":{\"line\":{\"color\":\"#2a3f5f\"}},\"ternary\":{\"aaxis\":{\"gridcolor\":\"white\",\"linecolor\":\"white\",\"ticks\":\"\"},\"baxis\":{\"gridcolor\":\"white\",\"linecolor\":\"white\",\"ticks\":\"\"},\"bgcolor\":\"#E5ECF6\",\"caxis\":{\"gridcolor\":\"white\",\"linecolor\":\"white\",\"ticks\":\"\"}},\"title\":{\"x\":0.05},\"xaxis\":{\"automargin\":true,\"gridcolor\":\"white\",\"linecolor\":\"white\",\"ticks\":\"\",\"title\":{\"standoff\":15},\"zerolinecolor\":\"white\",\"zerolinewidth\":2},\"yaxis\":{\"automargin\":true,\"gridcolor\":\"white\",\"linecolor\":\"white\",\"ticks\":\"\",\"title\":{\"standoff\":15},\"zerolinecolor\":\"white\",\"zerolinewidth\":2}}},\"title\":{\"font\":{\"color\":\"#4D5663\"}},\"xaxis\":{\"gridcolor\":\"#E1E5ED\",\"showgrid\":true,\"tickfont\":{\"color\":\"#4D5663\"},\"title\":{\"font\":{\"color\":\"#4D5663\"},\"text\":\"\"},\"zerolinecolor\":\"#E1E5ED\"},\"yaxis\":{\"gridcolor\":\"#E1E5ED\",\"showgrid\":true,\"tickfont\":{\"color\":\"#4D5663\"},\"title\":{\"font\":{\"color\":\"#4D5663\"},\"text\":\"\"},\"zerolinecolor\":\"#E1E5ED\"}},                        {\"showLink\": true, \"linkText\": \"Export to plot.ly\", \"plotlyServerURL\": \"https://plot.ly\", \"responsive\": true}                    ).then(function(){\n",
              "                            \n",
              "var gd = document.getElementById('22ae3039-8403-4706-a97f-a84725cc37b8');\n",
              "var x = new MutationObserver(function (mutations, observer) {{\n",
              "        var display = window.getComputedStyle(gd).display;\n",
              "        if (!display || display === 'none') {{\n",
              "            console.log([gd, 'removed!']);\n",
              "            Plotly.purge(gd);\n",
              "            observer.disconnect();\n",
              "        }}\n",
              "}});\n",
              "\n",
              "// Listen for the removal of the full notebook cells\n",
              "var notebookContainer = gd.closest('#notebook-container');\n",
              "if (notebookContainer) {{\n",
              "    x.observe(notebookContainer, {childList: true});\n",
              "}}\n",
              "\n",
              "// Listen for the clearing of the current output cell\n",
              "var outputEl = gd.closest('.output');\n",
              "if (outputEl) {{\n",
              "    x.observe(outputEl, {childList: true});\n",
              "}}\n",
              "\n",
              "                        })                };                });            </script>        </div>"
            ]
          },
          "metadata": {}
        }
      ],
      "source": [
        "data['Dep_Time_hour'].apply(flight_dep_time).value_counts().iplot(kind='bar')"
      ]
    },
    {
      "cell_type": "code",
      "execution_count": 46,
      "id": "df1aa7c6",
      "metadata": {
        "id": "df1aa7c6",
        "outputId": "b91b786a-84ce-4d1f-85dd-8449c6619144",
        "colab": {
          "base_uri": "https://localhost:8080/",
          "height": 1000
        }
      },
      "outputs": [
        {
          "output_type": "execute_result",
          "data": {
            "text/plain": [
              "             Airline    Source Destination                  Route Duration  \\\n",
              "0             IndiGo  Banglore   New Delhi              BLR → DEL   2h 50m   \n",
              "1          Air India   Kolkata    Banglore  CCU → IXR → BBI → BLR   7h 25m   \n",
              "2        Jet Airways     Delhi      Cochin  DEL → LKO → BOM → COK      19h   \n",
              "3             IndiGo   Kolkata    Banglore        CCU → NAG → BLR   5h 25m   \n",
              "4             IndiGo  Banglore   New Delhi        BLR → NAG → DEL   4h 45m   \n",
              "5           SpiceJet   Kolkata    Banglore              CCU → BLR   2h 25m   \n",
              "6        Jet Airways  Banglore   New Delhi        BLR → BOM → DEL  15h 30m   \n",
              "7        Jet Airways  Banglore   New Delhi        BLR → BOM → DEL   21h 5m   \n",
              "8        Jet Airways  Banglore   New Delhi        BLR → BOM → DEL  25h 30m   \n",
              "9  Multiple carriers     Delhi      Cochin        DEL → BOM → COK   7h 50m   \n",
              "\n",
              "  Total_Stops              Additional_Info  Price  journey_day  journey_month  \\\n",
              "0    non-stop                      No info   3897           24              3   \n",
              "1     2 stops                      No info   7662            5              1   \n",
              "2     2 stops                      No info  13882            6              9   \n",
              "3      1 stop                      No info   6218            5             12   \n",
              "4      1 stop                      No info  13302            3              1   \n",
              "5    non-stop                      No info   3873           24              6   \n",
              "6      1 stop  In-flight meal not included  11087            3             12   \n",
              "7      1 stop                      No info  22270            3              1   \n",
              "8      1 stop  In-flight meal not included  11087            3             12   \n",
              "9      1 stop                      No info   8625           27              5   \n",
              "\n",
              "   journey_year  Dep_Time_hour  Dep_Time_minute  Arrival_Time_hour  \\\n",
              "0          2019             22               20                  1   \n",
              "1          2019              5               50                 13   \n",
              "2          2019              9               25                  4   \n",
              "3          2019             18                5                 23   \n",
              "4          2019             16               50                 21   \n",
              "5          2019              9                0                 11   \n",
              "6          2019             18               55                 10   \n",
              "7          2019              8                0                  5   \n",
              "8          2019              8               55                 10   \n",
              "9          2019             11               25                 19   \n",
              "\n",
              "   Arrival_Time_minute  \n",
              "0                   10  \n",
              "1                   15  \n",
              "2                   25  \n",
              "3                   30  \n",
              "4                   35  \n",
              "5                   25  \n",
              "6                   25  \n",
              "7                    5  \n",
              "8                   25  \n",
              "9                   15  "
            ],
            "text/html": [
              "\n",
              "  <div id=\"df-e6408773-5bf1-4020-b939-be995f817f74\" class=\"colab-df-container\">\n",
              "    <div>\n",
              "<style scoped>\n",
              "    .dataframe tbody tr th:only-of-type {\n",
              "        vertical-align: middle;\n",
              "    }\n",
              "\n",
              "    .dataframe tbody tr th {\n",
              "        vertical-align: top;\n",
              "    }\n",
              "\n",
              "    .dataframe thead th {\n",
              "        text-align: right;\n",
              "    }\n",
              "</style>\n",
              "<table border=\"1\" class=\"dataframe\">\n",
              "  <thead>\n",
              "    <tr style=\"text-align: right;\">\n",
              "      <th></th>\n",
              "      <th>Airline</th>\n",
              "      <th>Source</th>\n",
              "      <th>Destination</th>\n",
              "      <th>Route</th>\n",
              "      <th>Duration</th>\n",
              "      <th>Total_Stops</th>\n",
              "      <th>Additional_Info</th>\n",
              "      <th>Price</th>\n",
              "      <th>journey_day</th>\n",
              "      <th>journey_month</th>\n",
              "      <th>journey_year</th>\n",
              "      <th>Dep_Time_hour</th>\n",
              "      <th>Dep_Time_minute</th>\n",
              "      <th>Arrival_Time_hour</th>\n",
              "      <th>Arrival_Time_minute</th>\n",
              "    </tr>\n",
              "  </thead>\n",
              "  <tbody>\n",
              "    <tr>\n",
              "      <th>0</th>\n",
              "      <td>IndiGo</td>\n",
              "      <td>Banglore</td>\n",
              "      <td>New Delhi</td>\n",
              "      <td>BLR → DEL</td>\n",
              "      <td>2h 50m</td>\n",
              "      <td>non-stop</td>\n",
              "      <td>No info</td>\n",
              "      <td>3897</td>\n",
              "      <td>24</td>\n",
              "      <td>3</td>\n",
              "      <td>2019</td>\n",
              "      <td>22</td>\n",
              "      <td>20</td>\n",
              "      <td>1</td>\n",
              "      <td>10</td>\n",
              "    </tr>\n",
              "    <tr>\n",
              "      <th>1</th>\n",
              "      <td>Air India</td>\n",
              "      <td>Kolkata</td>\n",
              "      <td>Banglore</td>\n",
              "      <td>CCU → IXR → BBI → BLR</td>\n",
              "      <td>7h 25m</td>\n",
              "      <td>2 stops</td>\n",
              "      <td>No info</td>\n",
              "      <td>7662</td>\n",
              "      <td>5</td>\n",
              "      <td>1</td>\n",
              "      <td>2019</td>\n",
              "      <td>5</td>\n",
              "      <td>50</td>\n",
              "      <td>13</td>\n",
              "      <td>15</td>\n",
              "    </tr>\n",
              "    <tr>\n",
              "      <th>2</th>\n",
              "      <td>Jet Airways</td>\n",
              "      <td>Delhi</td>\n",
              "      <td>Cochin</td>\n",
              "      <td>DEL → LKO → BOM → COK</td>\n",
              "      <td>19h</td>\n",
              "      <td>2 stops</td>\n",
              "      <td>No info</td>\n",
              "      <td>13882</td>\n",
              "      <td>6</td>\n",
              "      <td>9</td>\n",
              "      <td>2019</td>\n",
              "      <td>9</td>\n",
              "      <td>25</td>\n",
              "      <td>4</td>\n",
              "      <td>25</td>\n",
              "    </tr>\n",
              "    <tr>\n",
              "      <th>3</th>\n",
              "      <td>IndiGo</td>\n",
              "      <td>Kolkata</td>\n",
              "      <td>Banglore</td>\n",
              "      <td>CCU → NAG → BLR</td>\n",
              "      <td>5h 25m</td>\n",
              "      <td>1 stop</td>\n",
              "      <td>No info</td>\n",
              "      <td>6218</td>\n",
              "      <td>5</td>\n",
              "      <td>12</td>\n",
              "      <td>2019</td>\n",
              "      <td>18</td>\n",
              "      <td>5</td>\n",
              "      <td>23</td>\n",
              "      <td>30</td>\n",
              "    </tr>\n",
              "    <tr>\n",
              "      <th>4</th>\n",
              "      <td>IndiGo</td>\n",
              "      <td>Banglore</td>\n",
              "      <td>New Delhi</td>\n",
              "      <td>BLR → NAG → DEL</td>\n",
              "      <td>4h 45m</td>\n",
              "      <td>1 stop</td>\n",
              "      <td>No info</td>\n",
              "      <td>13302</td>\n",
              "      <td>3</td>\n",
              "      <td>1</td>\n",
              "      <td>2019</td>\n",
              "      <td>16</td>\n",
              "      <td>50</td>\n",
              "      <td>21</td>\n",
              "      <td>35</td>\n",
              "    </tr>\n",
              "    <tr>\n",
              "      <th>5</th>\n",
              "      <td>SpiceJet</td>\n",
              "      <td>Kolkata</td>\n",
              "      <td>Banglore</td>\n",
              "      <td>CCU → BLR</td>\n",
              "      <td>2h 25m</td>\n",
              "      <td>non-stop</td>\n",
              "      <td>No info</td>\n",
              "      <td>3873</td>\n",
              "      <td>24</td>\n",
              "      <td>6</td>\n",
              "      <td>2019</td>\n",
              "      <td>9</td>\n",
              "      <td>0</td>\n",
              "      <td>11</td>\n",
              "      <td>25</td>\n",
              "    </tr>\n",
              "    <tr>\n",
              "      <th>6</th>\n",
              "      <td>Jet Airways</td>\n",
              "      <td>Banglore</td>\n",
              "      <td>New Delhi</td>\n",
              "      <td>BLR → BOM → DEL</td>\n",
              "      <td>15h 30m</td>\n",
              "      <td>1 stop</td>\n",
              "      <td>In-flight meal not included</td>\n",
              "      <td>11087</td>\n",
              "      <td>3</td>\n",
              "      <td>12</td>\n",
              "      <td>2019</td>\n",
              "      <td>18</td>\n",
              "      <td>55</td>\n",
              "      <td>10</td>\n",
              "      <td>25</td>\n",
              "    </tr>\n",
              "    <tr>\n",
              "      <th>7</th>\n",
              "      <td>Jet Airways</td>\n",
              "      <td>Banglore</td>\n",
              "      <td>New Delhi</td>\n",
              "      <td>BLR → BOM → DEL</td>\n",
              "      <td>21h 5m</td>\n",
              "      <td>1 stop</td>\n",
              "      <td>No info</td>\n",
              "      <td>22270</td>\n",
              "      <td>3</td>\n",
              "      <td>1</td>\n",
              "      <td>2019</td>\n",
              "      <td>8</td>\n",
              "      <td>0</td>\n",
              "      <td>5</td>\n",
              "      <td>5</td>\n",
              "    </tr>\n",
              "    <tr>\n",
              "      <th>8</th>\n",
              "      <td>Jet Airways</td>\n",
              "      <td>Banglore</td>\n",
              "      <td>New Delhi</td>\n",
              "      <td>BLR → BOM → DEL</td>\n",
              "      <td>25h 30m</td>\n",
              "      <td>1 stop</td>\n",
              "      <td>In-flight meal not included</td>\n",
              "      <td>11087</td>\n",
              "      <td>3</td>\n",
              "      <td>12</td>\n",
              "      <td>2019</td>\n",
              "      <td>8</td>\n",
              "      <td>55</td>\n",
              "      <td>10</td>\n",
              "      <td>25</td>\n",
              "    </tr>\n",
              "    <tr>\n",
              "      <th>9</th>\n",
              "      <td>Multiple carriers</td>\n",
              "      <td>Delhi</td>\n",
              "      <td>Cochin</td>\n",
              "      <td>DEL → BOM → COK</td>\n",
              "      <td>7h 50m</td>\n",
              "      <td>1 stop</td>\n",
              "      <td>No info</td>\n",
              "      <td>8625</td>\n",
              "      <td>27</td>\n",
              "      <td>5</td>\n",
              "      <td>2019</td>\n",
              "      <td>11</td>\n",
              "      <td>25</td>\n",
              "      <td>19</td>\n",
              "      <td>15</td>\n",
              "    </tr>\n",
              "  </tbody>\n",
              "</table>\n",
              "</div>\n",
              "    <div class=\"colab-df-buttons\">\n",
              "\n",
              "  <div class=\"colab-df-container\">\n",
              "    <button class=\"colab-df-convert\" onclick=\"convertToInteractive('df-e6408773-5bf1-4020-b939-be995f817f74')\"\n",
              "            title=\"Convert this dataframe to an interactive table.\"\n",
              "            style=\"display:none;\">\n",
              "\n",
              "  <svg xmlns=\"http://www.w3.org/2000/svg\" height=\"24px\" viewBox=\"0 -960 960 960\">\n",
              "    <path d=\"M120-120v-720h720v720H120Zm60-500h600v-160H180v160Zm220 220h160v-160H400v160Zm0 220h160v-160H400v160ZM180-400h160v-160H180v160Zm440 0h160v-160H620v160ZM180-180h160v-160H180v160Zm440 0h160v-160H620v160Z\"/>\n",
              "  </svg>\n",
              "    </button>\n",
              "\n",
              "  <style>\n",
              "    .colab-df-container {\n",
              "      display:flex;\n",
              "      gap: 12px;\n",
              "    }\n",
              "\n",
              "    .colab-df-convert {\n",
              "      background-color: #E8F0FE;\n",
              "      border: none;\n",
              "      border-radius: 50%;\n",
              "      cursor: pointer;\n",
              "      display: none;\n",
              "      fill: #1967D2;\n",
              "      height: 32px;\n",
              "      padding: 0 0 0 0;\n",
              "      width: 32px;\n",
              "    }\n",
              "\n",
              "    .colab-df-convert:hover {\n",
              "      background-color: #E2EBFA;\n",
              "      box-shadow: 0px 1px 2px rgba(60, 64, 67, 0.3), 0px 1px 3px 1px rgba(60, 64, 67, 0.15);\n",
              "      fill: #174EA6;\n",
              "    }\n",
              "\n",
              "    .colab-df-buttons div {\n",
              "      margin-bottom: 4px;\n",
              "    }\n",
              "\n",
              "    [theme=dark] .colab-df-convert {\n",
              "      background-color: #3B4455;\n",
              "      fill: #D2E3FC;\n",
              "    }\n",
              "\n",
              "    [theme=dark] .colab-df-convert:hover {\n",
              "      background-color: #434B5C;\n",
              "      box-shadow: 0px 1px 3px 1px rgba(0, 0, 0, 0.15);\n",
              "      filter: drop-shadow(0px 1px 2px rgba(0, 0, 0, 0.3));\n",
              "      fill: #FFFFFF;\n",
              "    }\n",
              "  </style>\n",
              "\n",
              "    <script>\n",
              "      const buttonEl =\n",
              "        document.querySelector('#df-e6408773-5bf1-4020-b939-be995f817f74 button.colab-df-convert');\n",
              "      buttonEl.style.display =\n",
              "        google.colab.kernel.accessAllowed ? 'block' : 'none';\n",
              "\n",
              "      async function convertToInteractive(key) {\n",
              "        const element = document.querySelector('#df-e6408773-5bf1-4020-b939-be995f817f74');\n",
              "        const dataTable =\n",
              "          await google.colab.kernel.invokeFunction('convertToInteractive',\n",
              "                                                    [key], {});\n",
              "        if (!dataTable) return;\n",
              "\n",
              "        const docLinkHtml = 'Like what you see? Visit the ' +\n",
              "          '<a target=\"_blank\" href=https://colab.research.google.com/notebooks/data_table.ipynb>data table notebook</a>'\n",
              "          + ' to learn more about interactive tables.';\n",
              "        element.innerHTML = '';\n",
              "        dataTable['output_type'] = 'display_data';\n",
              "        await google.colab.output.renderOutput(dataTable, element);\n",
              "        const docLink = document.createElement('div');\n",
              "        docLink.innerHTML = docLinkHtml;\n",
              "        element.appendChild(docLink);\n",
              "      }\n",
              "    </script>\n",
              "  </div>\n",
              "\n",
              "\n",
              "<div id=\"df-d97dbd03-1a4e-4fdf-85d3-383af9b0bd32\">\n",
              "  <button class=\"colab-df-quickchart\" onclick=\"quickchart('df-d97dbd03-1a4e-4fdf-85d3-383af9b0bd32')\"\n",
              "            title=\"Suggest charts\"\n",
              "            style=\"display:none;\">\n",
              "\n",
              "<svg xmlns=\"http://www.w3.org/2000/svg\" height=\"24px\"viewBox=\"0 0 24 24\"\n",
              "     width=\"24px\">\n",
              "    <g>\n",
              "        <path d=\"M19 3H5c-1.1 0-2 .9-2 2v14c0 1.1.9 2 2 2h14c1.1 0 2-.9 2-2V5c0-1.1-.9-2-2-2zM9 17H7v-7h2v7zm4 0h-2V7h2v10zm4 0h-2v-4h2v4z\"/>\n",
              "    </g>\n",
              "</svg>\n",
              "  </button>\n",
              "\n",
              "<style>\n",
              "  .colab-df-quickchart {\n",
              "      --bg-color: #E8F0FE;\n",
              "      --fill-color: #1967D2;\n",
              "      --hover-bg-color: #E2EBFA;\n",
              "      --hover-fill-color: #174EA6;\n",
              "      --disabled-fill-color: #AAA;\n",
              "      --disabled-bg-color: #DDD;\n",
              "  }\n",
              "\n",
              "  [theme=dark] .colab-df-quickchart {\n",
              "      --bg-color: #3B4455;\n",
              "      --fill-color: #D2E3FC;\n",
              "      --hover-bg-color: #434B5C;\n",
              "      --hover-fill-color: #FFFFFF;\n",
              "      --disabled-bg-color: #3B4455;\n",
              "      --disabled-fill-color: #666;\n",
              "  }\n",
              "\n",
              "  .colab-df-quickchart {\n",
              "    background-color: var(--bg-color);\n",
              "    border: none;\n",
              "    border-radius: 50%;\n",
              "    cursor: pointer;\n",
              "    display: none;\n",
              "    fill: var(--fill-color);\n",
              "    height: 32px;\n",
              "    padding: 0;\n",
              "    width: 32px;\n",
              "  }\n",
              "\n",
              "  .colab-df-quickchart:hover {\n",
              "    background-color: var(--hover-bg-color);\n",
              "    box-shadow: 0 1px 2px rgba(60, 64, 67, 0.3), 0 1px 3px 1px rgba(60, 64, 67, 0.15);\n",
              "    fill: var(--button-hover-fill-color);\n",
              "  }\n",
              "\n",
              "  .colab-df-quickchart-complete:disabled,\n",
              "  .colab-df-quickchart-complete:disabled:hover {\n",
              "    background-color: var(--disabled-bg-color);\n",
              "    fill: var(--disabled-fill-color);\n",
              "    box-shadow: none;\n",
              "  }\n",
              "\n",
              "  .colab-df-spinner {\n",
              "    border: 2px solid var(--fill-color);\n",
              "    border-color: transparent;\n",
              "    border-bottom-color: var(--fill-color);\n",
              "    animation:\n",
              "      spin 1s steps(1) infinite;\n",
              "  }\n",
              "\n",
              "  @keyframes spin {\n",
              "    0% {\n",
              "      border-color: transparent;\n",
              "      border-bottom-color: var(--fill-color);\n",
              "      border-left-color: var(--fill-color);\n",
              "    }\n",
              "    20% {\n",
              "      border-color: transparent;\n",
              "      border-left-color: var(--fill-color);\n",
              "      border-top-color: var(--fill-color);\n",
              "    }\n",
              "    30% {\n",
              "      border-color: transparent;\n",
              "      border-left-color: var(--fill-color);\n",
              "      border-top-color: var(--fill-color);\n",
              "      border-right-color: var(--fill-color);\n",
              "    }\n",
              "    40% {\n",
              "      border-color: transparent;\n",
              "      border-right-color: var(--fill-color);\n",
              "      border-top-color: var(--fill-color);\n",
              "    }\n",
              "    60% {\n",
              "      border-color: transparent;\n",
              "      border-right-color: var(--fill-color);\n",
              "    }\n",
              "    80% {\n",
              "      border-color: transparent;\n",
              "      border-right-color: var(--fill-color);\n",
              "      border-bottom-color: var(--fill-color);\n",
              "    }\n",
              "    90% {\n",
              "      border-color: transparent;\n",
              "      border-bottom-color: var(--fill-color);\n",
              "    }\n",
              "  }\n",
              "</style>\n",
              "\n",
              "  <script>\n",
              "    async function quickchart(key) {\n",
              "      const quickchartButtonEl =\n",
              "        document.querySelector('#' + key + ' button');\n",
              "      quickchartButtonEl.disabled = true;  // To prevent multiple clicks.\n",
              "      quickchartButtonEl.classList.add('colab-df-spinner');\n",
              "      try {\n",
              "        const charts = await google.colab.kernel.invokeFunction(\n",
              "            'suggestCharts', [key], {});\n",
              "      } catch (error) {\n",
              "        console.error('Error during call to suggestCharts:', error);\n",
              "      }\n",
              "      quickchartButtonEl.classList.remove('colab-df-spinner');\n",
              "      quickchartButtonEl.classList.add('colab-df-quickchart-complete');\n",
              "    }\n",
              "    (() => {\n",
              "      let quickchartButtonEl =\n",
              "        document.querySelector('#df-d97dbd03-1a4e-4fdf-85d3-383af9b0bd32 button');\n",
              "      quickchartButtonEl.style.display =\n",
              "        google.colab.kernel.accessAllowed ? 'block' : 'none';\n",
              "    })();\n",
              "  </script>\n",
              "</div>\n",
              "\n",
              "    </div>\n",
              "  </div>\n"
            ]
          },
          "metadata": {},
          "execution_count": 46
        }
      ],
      "source": [
        "data.head(10)"
      ]
    },
    {
      "cell_type": "code",
      "execution_count": null,
      "id": "68f30a32",
      "metadata": {
        "id": "68f30a32"
      },
      "outputs": [],
      "source": []
    },
    {
      "cell_type": "code",
      "execution_count": null,
      "id": "4b267f44",
      "metadata": {
        "id": "4b267f44"
      },
      "outputs": [],
      "source": []
    },
    {
      "cell_type": "markdown",
      "id": "7da831dd",
      "metadata": {
        "id": "7da831dd"
      },
      "source": [
        "## Pre-process Duration Feature & extract meaningful features"
      ]
    },
    {
      "cell_type": "raw",
      "id": "d008db5e",
      "metadata": {
        "id": "d008db5e"
      },
      "source": []
    },
    {
      "cell_type": "code",
      "execution_count": 47,
      "id": "613c4872",
      "metadata": {
        "id": "613c4872"
      },
      "outputs": [],
      "source": [
        "def preprocess_duration(x):\n",
        "    if 'h' not in x:\n",
        "        x='0h '+x\n",
        "    elif 'm' not in x:\n",
        "        x=x+' 0m'\n",
        "    return x\n",
        ""
      ]
    },
    {
      "cell_type": "code",
      "execution_count": 48,
      "id": "a5c54d74",
      "metadata": {
        "id": "a5c54d74"
      },
      "outputs": [],
      "source": [
        "data['Duration']=data['Duration'].apply(preprocess_duration)"
      ]
    },
    {
      "cell_type": "code",
      "execution_count": 49,
      "id": "d9a22fa0",
      "metadata": {
        "id": "d9a22fa0",
        "outputId": "4cbd8f75-b8fa-4502-c7ee-7b0872575b55",
        "colab": {
          "base_uri": "https://localhost:8080/"
        }
      },
      "outputs": [
        {
          "output_type": "execute_result",
          "data": {
            "text/plain": [
              "0        2h 50m\n",
              "1        7h 25m\n",
              "2        19h 0m\n",
              "3        5h 25m\n",
              "4        4h 45m\n",
              "          ...  \n",
              "10678    2h 30m\n",
              "10679    2h 35m\n",
              "10680     3h 0m\n",
              "10681    2h 40m\n",
              "10682    8h 20m\n",
              "Name: Duration, Length: 10682, dtype: object"
            ]
          },
          "metadata": {},
          "execution_count": 49
        }
      ],
      "source": [
        "data['Duration']"
      ]
    },
    {
      "cell_type": "code",
      "execution_count": 50,
      "id": "5a740019",
      "metadata": {
        "id": "5a740019",
        "outputId": "75ebe948-aee2-4e80-cdcf-d99a075dcf9d",
        "colab": {
          "base_uri": "https://localhost:8080/",
          "height": 35
        }
      },
      "outputs": [
        {
          "output_type": "execute_result",
          "data": {
            "text/plain": [
              "'2h'"
            ],
            "application/vnd.google.colaboratory.intrinsic+json": {
              "type": "string"
            }
          },
          "metadata": {},
          "execution_count": 50
        }
      ],
      "source": [
        "data['Duration'][0].split(' ')[0]"
      ]
    },
    {
      "cell_type": "code",
      "execution_count": 51,
      "id": "a2d7009b",
      "metadata": {
        "id": "a2d7009b",
        "outputId": "9af68ba9-2096-48d7-8a30-4ac21ef7f904",
        "colab": {
          "base_uri": "https://localhost:8080/"
        }
      },
      "outputs": [
        {
          "output_type": "execute_result",
          "data": {
            "text/plain": [
              "2"
            ]
          },
          "metadata": {},
          "execution_count": 51
        }
      ],
      "source": [
        "int(data['Duration'][0].split(' ')[0][0:-1])"
      ]
    },
    {
      "cell_type": "code",
      "execution_count": 52,
      "id": "717d643e",
      "metadata": {
        "id": "717d643e",
        "outputId": "8abe80f3-b978-4789-9b1d-e0ce7131b6ff",
        "colab": {
          "base_uri": "https://localhost:8080/"
        }
      },
      "outputs": [
        {
          "output_type": "execute_result",
          "data": {
            "text/plain": [
              "50"
            ]
          },
          "metadata": {},
          "execution_count": 52
        }
      ],
      "source": [
        "int(data['Duration'][0].split(' ')[1][0:-1])"
      ]
    },
    {
      "cell_type": "code",
      "execution_count": 53,
      "id": "426c5fa0",
      "metadata": {
        "id": "426c5fa0"
      },
      "outputs": [],
      "source": [
        "data['Duration_hours']=data['Duration'].apply(lambda x:int(x.split(' ')[0][0:-1]))"
      ]
    },
    {
      "cell_type": "code",
      "execution_count": 54,
      "id": "df3ab960",
      "metadata": {
        "id": "df3ab960"
      },
      "outputs": [],
      "source": [
        "data['Duration_mins']=data['Duration'].apply(lambda x:int(x.split(' ')[1][0:-1]))"
      ]
    },
    {
      "cell_type": "code",
      "execution_count": 55,
      "id": "d4a56d35",
      "metadata": {
        "id": "d4a56d35",
        "outputId": "e0a09a71-a795-4701-d490-dc89c3c4cbc8",
        "colab": {
          "base_uri": "https://localhost:8080/",
          "height": 406
        }
      },
      "outputs": [
        {
          "output_type": "execute_result",
          "data": {
            "text/plain": [
              "       Airline    Source Destination                  Route Duration  \\\n",
              "0       IndiGo  Banglore   New Delhi              BLR → DEL   2h 50m   \n",
              "1    Air India   Kolkata    Banglore  CCU → IXR → BBI → BLR   7h 25m   \n",
              "2  Jet Airways     Delhi      Cochin  DEL → LKO → BOM → COK   19h 0m   \n",
              "\n",
              "  Total_Stops Additional_Info  Price  journey_day  journey_month  \\\n",
              "0    non-stop         No info   3897           24              3   \n",
              "1     2 stops         No info   7662            5              1   \n",
              "2     2 stops         No info  13882            6              9   \n",
              "\n",
              "   journey_year  Dep_Time_hour  Dep_Time_minute  Arrival_Time_hour  \\\n",
              "0          2019             22               20                  1   \n",
              "1          2019              5               50                 13   \n",
              "2          2019              9               25                  4   \n",
              "\n",
              "   Arrival_Time_minute  Duration_hours  Duration_mins  \n",
              "0                   10               2             50  \n",
              "1                   15               7             25  \n",
              "2                   25              19              0  "
            ],
            "text/html": [
              "\n",
              "  <div id=\"df-78806f65-6d35-425f-9c58-a85ced5ca4ef\" class=\"colab-df-container\">\n",
              "    <div>\n",
              "<style scoped>\n",
              "    .dataframe tbody tr th:only-of-type {\n",
              "        vertical-align: middle;\n",
              "    }\n",
              "\n",
              "    .dataframe tbody tr th {\n",
              "        vertical-align: top;\n",
              "    }\n",
              "\n",
              "    .dataframe thead th {\n",
              "        text-align: right;\n",
              "    }\n",
              "</style>\n",
              "<table border=\"1\" class=\"dataframe\">\n",
              "  <thead>\n",
              "    <tr style=\"text-align: right;\">\n",
              "      <th></th>\n",
              "      <th>Airline</th>\n",
              "      <th>Source</th>\n",
              "      <th>Destination</th>\n",
              "      <th>Route</th>\n",
              "      <th>Duration</th>\n",
              "      <th>Total_Stops</th>\n",
              "      <th>Additional_Info</th>\n",
              "      <th>Price</th>\n",
              "      <th>journey_day</th>\n",
              "      <th>journey_month</th>\n",
              "      <th>journey_year</th>\n",
              "      <th>Dep_Time_hour</th>\n",
              "      <th>Dep_Time_minute</th>\n",
              "      <th>Arrival_Time_hour</th>\n",
              "      <th>Arrival_Time_minute</th>\n",
              "      <th>Duration_hours</th>\n",
              "      <th>Duration_mins</th>\n",
              "    </tr>\n",
              "  </thead>\n",
              "  <tbody>\n",
              "    <tr>\n",
              "      <th>0</th>\n",
              "      <td>IndiGo</td>\n",
              "      <td>Banglore</td>\n",
              "      <td>New Delhi</td>\n",
              "      <td>BLR → DEL</td>\n",
              "      <td>2h 50m</td>\n",
              "      <td>non-stop</td>\n",
              "      <td>No info</td>\n",
              "      <td>3897</td>\n",
              "      <td>24</td>\n",
              "      <td>3</td>\n",
              "      <td>2019</td>\n",
              "      <td>22</td>\n",
              "      <td>20</td>\n",
              "      <td>1</td>\n",
              "      <td>10</td>\n",
              "      <td>2</td>\n",
              "      <td>50</td>\n",
              "    </tr>\n",
              "    <tr>\n",
              "      <th>1</th>\n",
              "      <td>Air India</td>\n",
              "      <td>Kolkata</td>\n",
              "      <td>Banglore</td>\n",
              "      <td>CCU → IXR → BBI → BLR</td>\n",
              "      <td>7h 25m</td>\n",
              "      <td>2 stops</td>\n",
              "      <td>No info</td>\n",
              "      <td>7662</td>\n",
              "      <td>5</td>\n",
              "      <td>1</td>\n",
              "      <td>2019</td>\n",
              "      <td>5</td>\n",
              "      <td>50</td>\n",
              "      <td>13</td>\n",
              "      <td>15</td>\n",
              "      <td>7</td>\n",
              "      <td>25</td>\n",
              "    </tr>\n",
              "    <tr>\n",
              "      <th>2</th>\n",
              "      <td>Jet Airways</td>\n",
              "      <td>Delhi</td>\n",
              "      <td>Cochin</td>\n",
              "      <td>DEL → LKO → BOM → COK</td>\n",
              "      <td>19h 0m</td>\n",
              "      <td>2 stops</td>\n",
              "      <td>No info</td>\n",
              "      <td>13882</td>\n",
              "      <td>6</td>\n",
              "      <td>9</td>\n",
              "      <td>2019</td>\n",
              "      <td>9</td>\n",
              "      <td>25</td>\n",
              "      <td>4</td>\n",
              "      <td>25</td>\n",
              "      <td>19</td>\n",
              "      <td>0</td>\n",
              "    </tr>\n",
              "  </tbody>\n",
              "</table>\n",
              "</div>\n",
              "    <div class=\"colab-df-buttons\">\n",
              "\n",
              "  <div class=\"colab-df-container\">\n",
              "    <button class=\"colab-df-convert\" onclick=\"convertToInteractive('df-78806f65-6d35-425f-9c58-a85ced5ca4ef')\"\n",
              "            title=\"Convert this dataframe to an interactive table.\"\n",
              "            style=\"display:none;\">\n",
              "\n",
              "  <svg xmlns=\"http://www.w3.org/2000/svg\" height=\"24px\" viewBox=\"0 -960 960 960\">\n",
              "    <path d=\"M120-120v-720h720v720H120Zm60-500h600v-160H180v160Zm220 220h160v-160H400v160Zm0 220h160v-160H400v160ZM180-400h160v-160H180v160Zm440 0h160v-160H620v160ZM180-180h160v-160H180v160Zm440 0h160v-160H620v160Z\"/>\n",
              "  </svg>\n",
              "    </button>\n",
              "\n",
              "  <style>\n",
              "    .colab-df-container {\n",
              "      display:flex;\n",
              "      gap: 12px;\n",
              "    }\n",
              "\n",
              "    .colab-df-convert {\n",
              "      background-color: #E8F0FE;\n",
              "      border: none;\n",
              "      border-radius: 50%;\n",
              "      cursor: pointer;\n",
              "      display: none;\n",
              "      fill: #1967D2;\n",
              "      height: 32px;\n",
              "      padding: 0 0 0 0;\n",
              "      width: 32px;\n",
              "    }\n",
              "\n",
              "    .colab-df-convert:hover {\n",
              "      background-color: #E2EBFA;\n",
              "      box-shadow: 0px 1px 2px rgba(60, 64, 67, 0.3), 0px 1px 3px 1px rgba(60, 64, 67, 0.15);\n",
              "      fill: #174EA6;\n",
              "    }\n",
              "\n",
              "    .colab-df-buttons div {\n",
              "      margin-bottom: 4px;\n",
              "    }\n",
              "\n",
              "    [theme=dark] .colab-df-convert {\n",
              "      background-color: #3B4455;\n",
              "      fill: #D2E3FC;\n",
              "    }\n",
              "\n",
              "    [theme=dark] .colab-df-convert:hover {\n",
              "      background-color: #434B5C;\n",
              "      box-shadow: 0px 1px 3px 1px rgba(0, 0, 0, 0.15);\n",
              "      filter: drop-shadow(0px 1px 2px rgba(0, 0, 0, 0.3));\n",
              "      fill: #FFFFFF;\n",
              "    }\n",
              "  </style>\n",
              "\n",
              "    <script>\n",
              "      const buttonEl =\n",
              "        document.querySelector('#df-78806f65-6d35-425f-9c58-a85ced5ca4ef button.colab-df-convert');\n",
              "      buttonEl.style.display =\n",
              "        google.colab.kernel.accessAllowed ? 'block' : 'none';\n",
              "\n",
              "      async function convertToInteractive(key) {\n",
              "        const element = document.querySelector('#df-78806f65-6d35-425f-9c58-a85ced5ca4ef');\n",
              "        const dataTable =\n",
              "          await google.colab.kernel.invokeFunction('convertToInteractive',\n",
              "                                                    [key], {});\n",
              "        if (!dataTable) return;\n",
              "\n",
              "        const docLinkHtml = 'Like what you see? Visit the ' +\n",
              "          '<a target=\"_blank\" href=https://colab.research.google.com/notebooks/data_table.ipynb>data table notebook</a>'\n",
              "          + ' to learn more about interactive tables.';\n",
              "        element.innerHTML = '';\n",
              "        dataTable['output_type'] = 'display_data';\n",
              "        await google.colab.output.renderOutput(dataTable, element);\n",
              "        const docLink = document.createElement('div');\n",
              "        docLink.innerHTML = docLinkHtml;\n",
              "        element.appendChild(docLink);\n",
              "      }\n",
              "    </script>\n",
              "  </div>\n",
              "\n",
              "\n",
              "<div id=\"df-afc4e271-f1b4-443d-8fb6-f6252f5971de\">\n",
              "  <button class=\"colab-df-quickchart\" onclick=\"quickchart('df-afc4e271-f1b4-443d-8fb6-f6252f5971de')\"\n",
              "            title=\"Suggest charts\"\n",
              "            style=\"display:none;\">\n",
              "\n",
              "<svg xmlns=\"http://www.w3.org/2000/svg\" height=\"24px\"viewBox=\"0 0 24 24\"\n",
              "     width=\"24px\">\n",
              "    <g>\n",
              "        <path d=\"M19 3H5c-1.1 0-2 .9-2 2v14c0 1.1.9 2 2 2h14c1.1 0 2-.9 2-2V5c0-1.1-.9-2-2-2zM9 17H7v-7h2v7zm4 0h-2V7h2v10zm4 0h-2v-4h2v4z\"/>\n",
              "    </g>\n",
              "</svg>\n",
              "  </button>\n",
              "\n",
              "<style>\n",
              "  .colab-df-quickchart {\n",
              "      --bg-color: #E8F0FE;\n",
              "      --fill-color: #1967D2;\n",
              "      --hover-bg-color: #E2EBFA;\n",
              "      --hover-fill-color: #174EA6;\n",
              "      --disabled-fill-color: #AAA;\n",
              "      --disabled-bg-color: #DDD;\n",
              "  }\n",
              "\n",
              "  [theme=dark] .colab-df-quickchart {\n",
              "      --bg-color: #3B4455;\n",
              "      --fill-color: #D2E3FC;\n",
              "      --hover-bg-color: #434B5C;\n",
              "      --hover-fill-color: #FFFFFF;\n",
              "      --disabled-bg-color: #3B4455;\n",
              "      --disabled-fill-color: #666;\n",
              "  }\n",
              "\n",
              "  .colab-df-quickchart {\n",
              "    background-color: var(--bg-color);\n",
              "    border: none;\n",
              "    border-radius: 50%;\n",
              "    cursor: pointer;\n",
              "    display: none;\n",
              "    fill: var(--fill-color);\n",
              "    height: 32px;\n",
              "    padding: 0;\n",
              "    width: 32px;\n",
              "  }\n",
              "\n",
              "  .colab-df-quickchart:hover {\n",
              "    background-color: var(--hover-bg-color);\n",
              "    box-shadow: 0 1px 2px rgba(60, 64, 67, 0.3), 0 1px 3px 1px rgba(60, 64, 67, 0.15);\n",
              "    fill: var(--button-hover-fill-color);\n",
              "  }\n",
              "\n",
              "  .colab-df-quickchart-complete:disabled,\n",
              "  .colab-df-quickchart-complete:disabled:hover {\n",
              "    background-color: var(--disabled-bg-color);\n",
              "    fill: var(--disabled-fill-color);\n",
              "    box-shadow: none;\n",
              "  }\n",
              "\n",
              "  .colab-df-spinner {\n",
              "    border: 2px solid var(--fill-color);\n",
              "    border-color: transparent;\n",
              "    border-bottom-color: var(--fill-color);\n",
              "    animation:\n",
              "      spin 1s steps(1) infinite;\n",
              "  }\n",
              "\n",
              "  @keyframes spin {\n",
              "    0% {\n",
              "      border-color: transparent;\n",
              "      border-bottom-color: var(--fill-color);\n",
              "      border-left-color: var(--fill-color);\n",
              "    }\n",
              "    20% {\n",
              "      border-color: transparent;\n",
              "      border-left-color: var(--fill-color);\n",
              "      border-top-color: var(--fill-color);\n",
              "    }\n",
              "    30% {\n",
              "      border-color: transparent;\n",
              "      border-left-color: var(--fill-color);\n",
              "      border-top-color: var(--fill-color);\n",
              "      border-right-color: var(--fill-color);\n",
              "    }\n",
              "    40% {\n",
              "      border-color: transparent;\n",
              "      border-right-color: var(--fill-color);\n",
              "      border-top-color: var(--fill-color);\n",
              "    }\n",
              "    60% {\n",
              "      border-color: transparent;\n",
              "      border-right-color: var(--fill-color);\n",
              "    }\n",
              "    80% {\n",
              "      border-color: transparent;\n",
              "      border-right-color: var(--fill-color);\n",
              "      border-bottom-color: var(--fill-color);\n",
              "    }\n",
              "    90% {\n",
              "      border-color: transparent;\n",
              "      border-bottom-color: var(--fill-color);\n",
              "    }\n",
              "  }\n",
              "</style>\n",
              "\n",
              "  <script>\n",
              "    async function quickchart(key) {\n",
              "      const quickchartButtonEl =\n",
              "        document.querySelector('#' + key + ' button');\n",
              "      quickchartButtonEl.disabled = true;  // To prevent multiple clicks.\n",
              "      quickchartButtonEl.classList.add('colab-df-spinner');\n",
              "      try {\n",
              "        const charts = await google.colab.kernel.invokeFunction(\n",
              "            'suggestCharts', [key], {});\n",
              "      } catch (error) {\n",
              "        console.error('Error during call to suggestCharts:', error);\n",
              "      }\n",
              "      quickchartButtonEl.classList.remove('colab-df-spinner');\n",
              "      quickchartButtonEl.classList.add('colab-df-quickchart-complete');\n",
              "    }\n",
              "    (() => {\n",
              "      let quickchartButtonEl =\n",
              "        document.querySelector('#df-afc4e271-f1b4-443d-8fb6-f6252f5971de button');\n",
              "      quickchartButtonEl.style.display =\n",
              "        google.colab.kernel.accessAllowed ? 'block' : 'none';\n",
              "    })();\n",
              "  </script>\n",
              "</div>\n",
              "\n",
              "    </div>\n",
              "  </div>\n"
            ]
          },
          "metadata": {},
          "execution_count": 55
        }
      ],
      "source": [
        "data.head(3)"
      ]
    },
    {
      "cell_type": "code",
      "execution_count": null,
      "id": "74b01fae",
      "metadata": {
        "id": "74b01fae"
      },
      "outputs": [],
      "source": []
    },
    {
      "cell_type": "code",
      "execution_count": null,
      "id": "1063d644",
      "metadata": {
        "id": "1063d644"
      },
      "outputs": [],
      "source": []
    },
    {
      "cell_type": "markdown",
      "id": "201c1efb",
      "metadata": {
        "id": "201c1efb"
      },
      "source": [
        "## Lets Analyse whether Duration impacts on Price or not ?"
      ]
    },
    {
      "cell_type": "code",
      "execution_count": 59,
      "id": "19e174e8",
      "metadata": {
        "id": "19e174e8"
      },
      "outputs": [],
      "source": [
        "### eval is a in-built function of python which evaluates the “String” like a python expression and returns the result as an integer.\n"
      ]
    },
    {
      "cell_type": "code",
      "execution_count": null,
      "id": "3e17b67b",
      "metadata": {
        "id": "3e17b67b"
      },
      "outputs": [],
      "source": []
    },
    {
      "cell_type": "code",
      "execution_count": null,
      "id": "f7b6e5f3",
      "metadata": {
        "id": "f7b6e5f3"
      },
      "outputs": [],
      "source": [
        "data['Duration_total_mins']=data['Duration'].str.replace('h','*60').str.replace(' ','+').str.replace('m','*1').apply(eval)"
      ]
    },
    {
      "cell_type": "code",
      "execution_count": 58,
      "id": "38578903",
      "metadata": {
        "id": "38578903",
        "outputId": "e0f199e4-1be9-4599-f680-f375f9130252",
        "colab": {
          "base_uri": "https://localhost:8080/",
          "height": 271
        }
      },
      "outputs": [
        {
          "output_type": "execute_result",
          "data": {
            "text/plain": [
              "     Airline    Source Destination                  Route Duration  \\\n",
              "0     IndiGo  Banglore   New Delhi              BLR → DEL   2h 50m   \n",
              "1  Air India   Kolkata    Banglore  CCU → IXR → BBI → BLR   7h 25m   \n",
              "\n",
              "  Total_Stops Additional_Info  Price  journey_day  journey_month  \\\n",
              "0    non-stop         No info   3897           24              3   \n",
              "1     2 stops         No info   7662            5              1   \n",
              "\n",
              "   journey_year  Dep_Time_hour  Dep_Time_minute  Arrival_Time_hour  \\\n",
              "0          2019             22               20                  1   \n",
              "1          2019              5               50                 13   \n",
              "\n",
              "   Arrival_Time_minute  Duration_hours  Duration_mins  \n",
              "0                   10               2             50  \n",
              "1                   15               7             25  "
            ],
            "text/html": [
              "\n",
              "  <div id=\"df-250a8729-3e9b-4b1b-b830-42dbd309521e\" class=\"colab-df-container\">\n",
              "    <div>\n",
              "<style scoped>\n",
              "    .dataframe tbody tr th:only-of-type {\n",
              "        vertical-align: middle;\n",
              "    }\n",
              "\n",
              "    .dataframe tbody tr th {\n",
              "        vertical-align: top;\n",
              "    }\n",
              "\n",
              "    .dataframe thead th {\n",
              "        text-align: right;\n",
              "    }\n",
              "</style>\n",
              "<table border=\"1\" class=\"dataframe\">\n",
              "  <thead>\n",
              "    <tr style=\"text-align: right;\">\n",
              "      <th></th>\n",
              "      <th>Airline</th>\n",
              "      <th>Source</th>\n",
              "      <th>Destination</th>\n",
              "      <th>Route</th>\n",
              "      <th>Duration</th>\n",
              "      <th>Total_Stops</th>\n",
              "      <th>Additional_Info</th>\n",
              "      <th>Price</th>\n",
              "      <th>journey_day</th>\n",
              "      <th>journey_month</th>\n",
              "      <th>journey_year</th>\n",
              "      <th>Dep_Time_hour</th>\n",
              "      <th>Dep_Time_minute</th>\n",
              "      <th>Arrival_Time_hour</th>\n",
              "      <th>Arrival_Time_minute</th>\n",
              "      <th>Duration_hours</th>\n",
              "      <th>Duration_mins</th>\n",
              "    </tr>\n",
              "  </thead>\n",
              "  <tbody>\n",
              "    <tr>\n",
              "      <th>0</th>\n",
              "      <td>IndiGo</td>\n",
              "      <td>Banglore</td>\n",
              "      <td>New Delhi</td>\n",
              "      <td>BLR → DEL</td>\n",
              "      <td>2h 50m</td>\n",
              "      <td>non-stop</td>\n",
              "      <td>No info</td>\n",
              "      <td>3897</td>\n",
              "      <td>24</td>\n",
              "      <td>3</td>\n",
              "      <td>2019</td>\n",
              "      <td>22</td>\n",
              "      <td>20</td>\n",
              "      <td>1</td>\n",
              "      <td>10</td>\n",
              "      <td>2</td>\n",
              "      <td>50</td>\n",
              "    </tr>\n",
              "    <tr>\n",
              "      <th>1</th>\n",
              "      <td>Air India</td>\n",
              "      <td>Kolkata</td>\n",
              "      <td>Banglore</td>\n",
              "      <td>CCU → IXR → BBI → BLR</td>\n",
              "      <td>7h 25m</td>\n",
              "      <td>2 stops</td>\n",
              "      <td>No info</td>\n",
              "      <td>7662</td>\n",
              "      <td>5</td>\n",
              "      <td>1</td>\n",
              "      <td>2019</td>\n",
              "      <td>5</td>\n",
              "      <td>50</td>\n",
              "      <td>13</td>\n",
              "      <td>15</td>\n",
              "      <td>7</td>\n",
              "      <td>25</td>\n",
              "    </tr>\n",
              "  </tbody>\n",
              "</table>\n",
              "</div>\n",
              "    <div class=\"colab-df-buttons\">\n",
              "\n",
              "  <div class=\"colab-df-container\">\n",
              "    <button class=\"colab-df-convert\" onclick=\"convertToInteractive('df-250a8729-3e9b-4b1b-b830-42dbd309521e')\"\n",
              "            title=\"Convert this dataframe to an interactive table.\"\n",
              "            style=\"display:none;\">\n",
              "\n",
              "  <svg xmlns=\"http://www.w3.org/2000/svg\" height=\"24px\" viewBox=\"0 -960 960 960\">\n",
              "    <path d=\"M120-120v-720h720v720H120Zm60-500h600v-160H180v160Zm220 220h160v-160H400v160Zm0 220h160v-160H400v160ZM180-400h160v-160H180v160Zm440 0h160v-160H620v160ZM180-180h160v-160H180v160Zm440 0h160v-160H620v160Z\"/>\n",
              "  </svg>\n",
              "    </button>\n",
              "\n",
              "  <style>\n",
              "    .colab-df-container {\n",
              "      display:flex;\n",
              "      gap: 12px;\n",
              "    }\n",
              "\n",
              "    .colab-df-convert {\n",
              "      background-color: #E8F0FE;\n",
              "      border: none;\n",
              "      border-radius: 50%;\n",
              "      cursor: pointer;\n",
              "      display: none;\n",
              "      fill: #1967D2;\n",
              "      height: 32px;\n",
              "      padding: 0 0 0 0;\n",
              "      width: 32px;\n",
              "    }\n",
              "\n",
              "    .colab-df-convert:hover {\n",
              "      background-color: #E2EBFA;\n",
              "      box-shadow: 0px 1px 2px rgba(60, 64, 67, 0.3), 0px 1px 3px 1px rgba(60, 64, 67, 0.15);\n",
              "      fill: #174EA6;\n",
              "    }\n",
              "\n",
              "    .colab-df-buttons div {\n",
              "      margin-bottom: 4px;\n",
              "    }\n",
              "\n",
              "    [theme=dark] .colab-df-convert {\n",
              "      background-color: #3B4455;\n",
              "      fill: #D2E3FC;\n",
              "    }\n",
              "\n",
              "    [theme=dark] .colab-df-convert:hover {\n",
              "      background-color: #434B5C;\n",
              "      box-shadow: 0px 1px 3px 1px rgba(0, 0, 0, 0.15);\n",
              "      filter: drop-shadow(0px 1px 2px rgba(0, 0, 0, 0.3));\n",
              "      fill: #FFFFFF;\n",
              "    }\n",
              "  </style>\n",
              "\n",
              "    <script>\n",
              "      const buttonEl =\n",
              "        document.querySelector('#df-250a8729-3e9b-4b1b-b830-42dbd309521e button.colab-df-convert');\n",
              "      buttonEl.style.display =\n",
              "        google.colab.kernel.accessAllowed ? 'block' : 'none';\n",
              "\n",
              "      async function convertToInteractive(key) {\n",
              "        const element = document.querySelector('#df-250a8729-3e9b-4b1b-b830-42dbd309521e');\n",
              "        const dataTable =\n",
              "          await google.colab.kernel.invokeFunction('convertToInteractive',\n",
              "                                                    [key], {});\n",
              "        if (!dataTable) return;\n",
              "\n",
              "        const docLinkHtml = 'Like what you see? Visit the ' +\n",
              "          '<a target=\"_blank\" href=https://colab.research.google.com/notebooks/data_table.ipynb>data table notebook</a>'\n",
              "          + ' to learn more about interactive tables.';\n",
              "        element.innerHTML = '';\n",
              "        dataTable['output_type'] = 'display_data';\n",
              "        await google.colab.output.renderOutput(dataTable, element);\n",
              "        const docLink = document.createElement('div');\n",
              "        docLink.innerHTML = docLinkHtml;\n",
              "        element.appendChild(docLink);\n",
              "      }\n",
              "    </script>\n",
              "  </div>\n",
              "\n",
              "\n",
              "<div id=\"df-3011a376-3391-4583-a4b2-9a52d2ffc702\">\n",
              "  <button class=\"colab-df-quickchart\" onclick=\"quickchart('df-3011a376-3391-4583-a4b2-9a52d2ffc702')\"\n",
              "            title=\"Suggest charts\"\n",
              "            style=\"display:none;\">\n",
              "\n",
              "<svg xmlns=\"http://www.w3.org/2000/svg\" height=\"24px\"viewBox=\"0 0 24 24\"\n",
              "     width=\"24px\">\n",
              "    <g>\n",
              "        <path d=\"M19 3H5c-1.1 0-2 .9-2 2v14c0 1.1.9 2 2 2h14c1.1 0 2-.9 2-2V5c0-1.1-.9-2-2-2zM9 17H7v-7h2v7zm4 0h-2V7h2v10zm4 0h-2v-4h2v4z\"/>\n",
              "    </g>\n",
              "</svg>\n",
              "  </button>\n",
              "\n",
              "<style>\n",
              "  .colab-df-quickchart {\n",
              "      --bg-color: #E8F0FE;\n",
              "      --fill-color: #1967D2;\n",
              "      --hover-bg-color: #E2EBFA;\n",
              "      --hover-fill-color: #174EA6;\n",
              "      --disabled-fill-color: #AAA;\n",
              "      --disabled-bg-color: #DDD;\n",
              "  }\n",
              "\n",
              "  [theme=dark] .colab-df-quickchart {\n",
              "      --bg-color: #3B4455;\n",
              "      --fill-color: #D2E3FC;\n",
              "      --hover-bg-color: #434B5C;\n",
              "      --hover-fill-color: #FFFFFF;\n",
              "      --disabled-bg-color: #3B4455;\n",
              "      --disabled-fill-color: #666;\n",
              "  }\n",
              "\n",
              "  .colab-df-quickchart {\n",
              "    background-color: var(--bg-color);\n",
              "    border: none;\n",
              "    border-radius: 50%;\n",
              "    cursor: pointer;\n",
              "    display: none;\n",
              "    fill: var(--fill-color);\n",
              "    height: 32px;\n",
              "    padding: 0;\n",
              "    width: 32px;\n",
              "  }\n",
              "\n",
              "  .colab-df-quickchart:hover {\n",
              "    background-color: var(--hover-bg-color);\n",
              "    box-shadow: 0 1px 2px rgba(60, 64, 67, 0.3), 0 1px 3px 1px rgba(60, 64, 67, 0.15);\n",
              "    fill: var(--button-hover-fill-color);\n",
              "  }\n",
              "\n",
              "  .colab-df-quickchart-complete:disabled,\n",
              "  .colab-df-quickchart-complete:disabled:hover {\n",
              "    background-color: var(--disabled-bg-color);\n",
              "    fill: var(--disabled-fill-color);\n",
              "    box-shadow: none;\n",
              "  }\n",
              "\n",
              "  .colab-df-spinner {\n",
              "    border: 2px solid var(--fill-color);\n",
              "    border-color: transparent;\n",
              "    border-bottom-color: var(--fill-color);\n",
              "    animation:\n",
              "      spin 1s steps(1) infinite;\n",
              "  }\n",
              "\n",
              "  @keyframes spin {\n",
              "    0% {\n",
              "      border-color: transparent;\n",
              "      border-bottom-color: var(--fill-color);\n",
              "      border-left-color: var(--fill-color);\n",
              "    }\n",
              "    20% {\n",
              "      border-color: transparent;\n",
              "      border-left-color: var(--fill-color);\n",
              "      border-top-color: var(--fill-color);\n",
              "    }\n",
              "    30% {\n",
              "      border-color: transparent;\n",
              "      border-left-color: var(--fill-color);\n",
              "      border-top-color: var(--fill-color);\n",
              "      border-right-color: var(--fill-color);\n",
              "    }\n",
              "    40% {\n",
              "      border-color: transparent;\n",
              "      border-right-color: var(--fill-color);\n",
              "      border-top-color: var(--fill-color);\n",
              "    }\n",
              "    60% {\n",
              "      border-color: transparent;\n",
              "      border-right-color: var(--fill-color);\n",
              "    }\n",
              "    80% {\n",
              "      border-color: transparent;\n",
              "      border-right-color: var(--fill-color);\n",
              "      border-bottom-color: var(--fill-color);\n",
              "    }\n",
              "    90% {\n",
              "      border-color: transparent;\n",
              "      border-bottom-color: var(--fill-color);\n",
              "    }\n",
              "  }\n",
              "</style>\n",
              "\n",
              "  <script>\n",
              "    async function quickchart(key) {\n",
              "      const quickchartButtonEl =\n",
              "        document.querySelector('#' + key + ' button');\n",
              "      quickchartButtonEl.disabled = true;  // To prevent multiple clicks.\n",
              "      quickchartButtonEl.classList.add('colab-df-spinner');\n",
              "      try {\n",
              "        const charts = await google.colab.kernel.invokeFunction(\n",
              "            'suggestCharts', [key], {});\n",
              "      } catch (error) {\n",
              "        console.error('Error during call to suggestCharts:', error);\n",
              "      }\n",
              "      quickchartButtonEl.classList.remove('colab-df-spinner');\n",
              "      quickchartButtonEl.classList.add('colab-df-quickchart-complete');\n",
              "    }\n",
              "    (() => {\n",
              "      let quickchartButtonEl =\n",
              "        document.querySelector('#df-3011a376-3391-4583-a4b2-9a52d2ffc702 button');\n",
              "      quickchartButtonEl.style.display =\n",
              "        google.colab.kernel.accessAllowed ? 'block' : 'none';\n",
              "    })();\n",
              "  </script>\n",
              "</div>\n",
              "\n",
              "    </div>\n",
              "  </div>\n"
            ]
          },
          "metadata": {},
          "execution_count": 58
        }
      ],
      "source": [
        "data.head(2)"
      ]
    },
    {
      "cell_type": "code",
      "execution_count": null,
      "id": "4ddb6fdd",
      "metadata": {
        "id": "4ddb6fdd"
      },
      "outputs": [],
      "source": []
    },
    {
      "cell_type": "code",
      "execution_count": null,
      "id": "cf033d96",
      "metadata": {
        "id": "cf033d96"
      },
      "outputs": [],
      "source": []
    },
    {
      "cell_type": "markdown",
      "id": "4171ab52",
      "metadata": {
        "id": "4171ab52"
      },
      "source": [
        "## which city has maximum final destination of flights ?"
      ]
    },
    {
      "cell_type": "code",
      "execution_count": 61,
      "id": "5fb6fc1f",
      "metadata": {
        "id": "5fb6fc1f",
        "outputId": "77d49c47-5054-40ea-f56c-ee0fa22476da",
        "colab": {
          "base_uri": "https://localhost:8080/"
        }
      },
      "outputs": [
        {
          "output_type": "execute_result",
          "data": {
            "text/plain": [
              "array(['New Delhi', 'Banglore', 'Cochin', 'Kolkata', 'Delhi', 'Hyderabad'],\n",
              "      dtype=object)"
            ]
          },
          "metadata": {},
          "execution_count": 61
        }
      ],
      "source": [
        "data['Destination'].unique()"
      ]
    },
    {
      "cell_type": "code",
      "execution_count": 62,
      "id": "c31277c1",
      "metadata": {
        "id": "c31277c1",
        "outputId": "c3d30d50-c290-4a23-d0d6-8186a5fdc53b",
        "colab": {
          "base_uri": "https://localhost:8080/",
          "height": 423
        }
      },
      "outputs": [
        {
          "output_type": "execute_result",
          "data": {
            "text/plain": [
              "<Axes: ylabel='Destination'>"
            ]
          },
          "metadata": {},
          "execution_count": 62
        },
        {
          "output_type": "display_data",
          "data": {
            "text/plain": [
              "<Figure size 640x480 with 1 Axes>"
            ],
            "image/png": "[encoded data removed]"
          },
          "metadata": {}
        }
      ],
      "source": [
        "data['Destination'].value_counts().plot(kind='pie')"
      ]
    },
    {
      "cell_type": "code",
      "execution_count": null,
      "id": "7fda6268",
      "metadata": {
        "id": "7fda6268"
      },
      "outputs": [],
      "source": []
    },
    {
      "cell_type": "markdown",
      "id": "98c5f454",
      "metadata": {
        "id": "98c5f454"
      },
      "source": [
        "\n",
        "    Problem Statement-->> on which route Jet Airways is extremely used???"
      ]
    },
    {
      "cell_type": "code",
      "execution_count": 63,
      "id": "e3295092",
      "metadata": {
        "id": "e3295092",
        "outputId": "ae934b43-a407-43ab-9217-79d1e7208fe5",
        "colab": {
          "base_uri": "https://localhost:8080/"
        }
      },
      "outputs": [
        {
          "output_type": "execute_result",
          "data": {
            "text/plain": [
              "0                    BLR → DEL\n",
              "1        CCU → IXR → BBI → BLR\n",
              "2        DEL → LKO → BOM → COK\n",
              "3              CCU → NAG → BLR\n",
              "4              BLR → NAG → DEL\n",
              "                 ...          \n",
              "10678                CCU → BLR\n",
              "10679                CCU → BLR\n",
              "10680                BLR → DEL\n",
              "10681                BLR → DEL\n",
              "10682    DEL → GOI → BOM → COK\n",
              "Name: Route, Length: 10682, dtype: object"
            ]
          },
          "metadata": {},
          "execution_count": 63
        }
      ],
      "source": [
        "data['Route']"
      ]
    },
    {
      "cell_type": "code",
      "execution_count": 64,
      "id": "cf6bbffa",
      "metadata": {
        "id": "cf6bbffa",
        "outputId": "449bed1f-f803-4975-b2cf-5ebb7ed01c32",
        "colab": {
          "base_uri": "https://localhost:8080/"
        }
      },
      "outputs": [
        {
          "output_type": "execute_result",
          "data": {
            "text/plain": [
              "Route\n",
              "CCU → BOM → BLR          930\n",
              "DEL → BOM → COK          875\n",
              "BLR → BOM → DEL          385\n",
              "BLR → DEL                382\n",
              "CCU → DEL → BLR          300\n",
              "BOM → HYD                207\n",
              "DEL → JAI → BOM → COK    207\n",
              "DEL → AMD → BOM → COK    141\n",
              "DEL → IDR → BOM → COK     86\n",
              "DEL → NAG → BOM → COK     61\n",
              "DEL → ATQ → BOM → COK     38\n",
              "DEL → COK                 34\n",
              "DEL → BHO → BOM → COK     29\n",
              "DEL → BDQ → BOM → COK     28\n",
              "DEL → LKO → BOM → COK     25\n",
              "DEL → JDH → BOM → COK     23\n",
              "CCU → GAU → BLR           22\n",
              "DEL → MAA → BOM → COK     16\n",
              "DEL → IXC → BOM → COK     13\n",
              "BLR → MAA → DEL           10\n",
              "BLR → BDQ → DEL            8\n",
              "DEL → UDR → BOM → COK      7\n",
              "BOM → DEL → HYD            5\n",
              "CCU → BOM → PNQ → BLR      4\n",
              "BLR → BOM → JDH → DEL      3\n",
              "DEL → DED → BOM → COK      2\n",
              "BOM → BDQ → DEL → HYD      2\n",
              "DEL → CCU → BOM → COK      1\n",
              "BOM → VNS → DEL → HYD      1\n",
              "BOM → UDR → DEL → HYD      1\n",
              "BOM → JDH → DEL → HYD      1\n",
              "BOM → IDR → DEL → HYD      1\n",
              "BOM → DED → DEL → HYD      1\n",
              "dtype: int64"
            ]
          },
          "metadata": {},
          "execution_count": 64
        }
      ],
      "source": [
        "data[data['Airline']=='Jet Airways'].groupby('Route').size().sort_values(ascending=False)"
      ]
    },
    {
      "cell_type": "code",
      "execution_count": null,
      "id": "bde5d36c",
      "metadata": {
        "id": "bde5d36c"
      },
      "outputs": [],
      "source": []
    },
    {
      "cell_type": "markdown",
      "id": "673fe808",
      "metadata": {
        "id": "673fe808"
      },
      "source": [
        "## Airline vs Price Analysis\n",
        "    ie finding price distribution & 5-point summary of each Airline.."
      ]
    },
    {
      "cell_type": "code",
      "execution_count": 65,
      "id": "8b531f53",
      "metadata": {
        "id": "8b531f53",
        "outputId": "01d14f53-65d7-4826-a3ac-42124dd38112",
        "colab": {
          "base_uri": "https://localhost:8080/",
          "height": 707
        }
      },
      "outputs": [
        {
          "output_type": "execute_result",
          "data": {
            "text/plain": [
              "(array([ 0,  1,  2,  3,  4,  5,  6,  7,  8,  9, 10, 11]),\n",
              " [Text(0, 0, 'IndiGo'),\n",
              "  Text(1, 0, 'Air India'),\n",
              "  Text(2, 0, 'Jet Airways'),\n",
              "  Text(3, 0, 'SpiceJet'),\n",
              "  Text(4, 0, 'Multiple carriers'),\n",
              "  Text(5, 0, 'GoAir'),\n",
              "  Text(6, 0, 'Vistara'),\n",
              "  Text(7, 0, 'Air Asia'),\n",
              "  Text(8, 0, 'Vistara Premium economy'),\n",
              "  Text(9, 0, 'Jet Airways Business'),\n",
              "  Text(10, 0, 'Multiple carriers Premium economy'),\n",
              "  Text(11, 0, 'Trujet')])"
            ]
          },
          "metadata": {},
          "execution_count": 65
        },
        {
          "output_type": "display_data",
          "data": {
            "text/plain": [
              "<Figure size 1500x500 with 1 Axes>"
            ],
            "image/png": "[encoded data removed]"
          },
          "metadata": {}
        }
      ],
      "source": [
        "plt.figure(figsize=(15,5))\n",
        "sns.boxplot(y='Price',x='Airline',data=data)\n",
        "plt.xticks(rotation='vertical')"
      ]
    },
    {
      "cell_type": "code",
      "execution_count": null,
      "id": "06122d15",
      "metadata": {
        "id": "06122d15"
      },
      "outputs": [],
      "source": []
    },
    {
      "cell_type": "code",
      "execution_count": null,
      "id": "8ec848c2",
      "metadata": {
        "id": "8ec848c2"
      },
      "outputs": [],
      "source": []
    },
    {
      "cell_type": "code",
      "execution_count": null,
      "id": "fd40f764",
      "metadata": {
        "id": "fd40f764"
      },
      "outputs": [],
      "source": [
        "### when we need boxplot + distribution both , its good to consider violinplot.."
      ]
    },
    {
      "cell_type": "code",
      "execution_count": null,
      "id": "3c09b542",
      "metadata": {
        "id": "3c09b542",
        "outputId": "acd02d0c-5e96-42dd-9f16-e6a91477d291"
      },
      "outputs": [
        {
          "data": {
            "text/plain": [
              "(array([ 0,  1,  2,  3,  4,  5,  6,  7,  8,  9, 10, 11]),\n",
              " [Text(0, 0, 'IndiGo'),\n",
              "  Text(1, 0, 'Air India'),\n",
              "  Text(2, 0, 'Jet Airways'),\n",
              "  Text(3, 0, 'SpiceJet'),\n",
              "  Text(4, 0, 'Multiple carriers'),\n",
              "  Text(5, 0, 'GoAir'),\n",
              "  Text(6, 0, 'Vistara'),\n",
              "  Text(7, 0, 'Air Asia'),\n",
              "  Text(8, 0, 'Vistara Premium economy'),\n",
              "  Text(9, 0, 'Jet Airways Business'),\n",
              "  Text(10, 0, 'Multiple carriers Premium economy'),\n",
              "  Text(11, 0, 'Trujet')])"
            ]
          },
          "execution_count": 56,
          "metadata": {},
          "output_type": "execute_result"
        },
        {
          "data": {
            "image/png": "[encoded data removed]",
            "text/plain": [
              "<Figure size 1080x360 with 1 Axes>"
            ]
          },
          "metadata": {
            "needs_background": "light"
          },
          "output_type": "display_data"
        }
      ],
      "source": [
        "plt.figure(figsize=(15,5))\n",
        "sns.violinplot(y='Price',x='Airline',data=data)\n",
        "plt.xticks(rotation='vertical')"
      ]
    },
    {
      "cell_type": "code",
      "execution_count": null,
      "id": "fd2ce779",
      "metadata": {
        "id": "fd2ce779"
      },
      "outputs": [],
      "source": []
    },
    {
      "cell_type": "code",
      "execution_count": null,
      "id": "48288ff2",
      "metadata": {
        "id": "48288ff2"
      },
      "outputs": [],
      "source": []
    },
    {
      "cell_type": "markdown",
      "id": "56714455",
      "metadata": {
        "id": "56714455"
      },
      "source": [
        "## Lets Perform Feature-Encoding on Data !\n",
        "    Applying one-hot on data !"
      ]
    },
    {
      "cell_type": "code",
      "execution_count": null,
      "id": "08f9b468",
      "metadata": {
        "id": "08f9b468"
      },
      "outputs": [],
      "source": []
    },
    {
      "cell_type": "code",
      "execution_count": null,
      "id": "4392df0b",
      "metadata": {
        "id": "4392df0b"
      },
      "outputs": [],
      "source": [
        "## but lets remove some of the un-necessary features !"
      ]
    },
    {
      "cell_type": "code",
      "execution_count": null,
      "id": "32a21c12",
      "metadata": {
        "id": "32a21c12",
        "outputId": "5697c45f-85c6-4f15-c3af-70c9591d5d08"
      },
      "outputs": [
        {
          "data": {
            "text/html": [
              "<div>\n",
              "<style scoped>\n",
              "    .dataframe tbody tr th:only-of-type {\n",
              "        vertical-align: middle;\n",
              "    }\n",
              "\n",
              "    .dataframe tbody tr th {\n",
              "        vertical-align: top;\n",
              "    }\n",
              "\n",
              "    .dataframe thead th {\n",
              "        text-align: right;\n",
              "    }\n",
              "</style>\n",
              "<table border=\"1\" class=\"dataframe\">\n",
              "  <thead>\n",
              "    <tr style=\"text-align: right;\">\n",
              "      <th></th>\n",
              "      <th>Airline</th>\n",
              "      <th>Source</th>\n",
              "      <th>Destination</th>\n",
              "      <th>Route</th>\n",
              "      <th>Duration</th>\n",
              "      <th>Total_Stops</th>\n",
              "      <th>Additional_Info</th>\n",
              "      <th>Price</th>\n",
              "      <th>journey_day</th>\n",
              "      <th>journey_month</th>\n",
              "      <th>journey_year</th>\n",
              "      <th>Dep_Time_hour</th>\n",
              "      <th>Dep_Time_minute</th>\n",
              "      <th>Arrival_Time_hour</th>\n",
              "      <th>Arrival_Time_minute</th>\n",
              "      <th>Duration_hours</th>\n",
              "      <th>Duration_mins</th>\n",
              "      <th>Duration_total_mins</th>\n",
              "    </tr>\n",
              "  </thead>\n",
              "  <tbody>\n",
              "    <tr>\n",
              "      <th>0</th>\n",
              "      <td>IndiGo</td>\n",
              "      <td>Banglore</td>\n",
              "      <td>New Delhi</td>\n",
              "      <td>BLR → DEL</td>\n",
              "      <td>2h 50m</td>\n",
              "      <td>non-stop</td>\n",
              "      <td>No info</td>\n",
              "      <td>3897</td>\n",
              "      <td>24</td>\n",
              "      <td>3</td>\n",
              "      <td>2019</td>\n",
              "      <td>22</td>\n",
              "      <td>20</td>\n",
              "      <td>1</td>\n",
              "      <td>10</td>\n",
              "      <td>2</td>\n",
              "      <td>50</td>\n",
              "      <td>170</td>\n",
              "    </tr>\n",
              "    <tr>\n",
              "      <th>1</th>\n",
              "      <td>Air India</td>\n",
              "      <td>Kolkata</td>\n",
              "      <td>Banglore</td>\n",
              "      <td>CCU → IXR → BBI → BLR</td>\n",
              "      <td>7h 25m</td>\n",
              "      <td>2 stops</td>\n",
              "      <td>No info</td>\n",
              "      <td>7662</td>\n",
              "      <td>5</td>\n",
              "      <td>1</td>\n",
              "      <td>2019</td>\n",
              "      <td>5</td>\n",
              "      <td>50</td>\n",
              "      <td>13</td>\n",
              "      <td>15</td>\n",
              "      <td>7</td>\n",
              "      <td>25</td>\n",
              "      <td>445</td>\n",
              "    </tr>\n",
              "    <tr>\n",
              "      <th>2</th>\n",
              "      <td>Jet Airways</td>\n",
              "      <td>Delhi</td>\n",
              "      <td>Cochin</td>\n",
              "      <td>DEL → LKO → BOM → COK</td>\n",
              "      <td>19h 0m</td>\n",
              "      <td>2 stops</td>\n",
              "      <td>No info</td>\n",
              "      <td>13882</td>\n",
              "      <td>6</td>\n",
              "      <td>9</td>\n",
              "      <td>2019</td>\n",
              "      <td>9</td>\n",
              "      <td>25</td>\n",
              "      <td>4</td>\n",
              "      <td>25</td>\n",
              "      <td>19</td>\n",
              "      <td>0</td>\n",
              "      <td>1140</td>\n",
              "    </tr>\n",
              "    <tr>\n",
              "      <th>3</th>\n",
              "      <td>IndiGo</td>\n",
              "      <td>Kolkata</td>\n",
              "      <td>Banglore</td>\n",
              "      <td>CCU → NAG → BLR</td>\n",
              "      <td>5h 25m</td>\n",
              "      <td>1 stop</td>\n",
              "      <td>No info</td>\n",
              "      <td>6218</td>\n",
              "      <td>5</td>\n",
              "      <td>12</td>\n",
              "      <td>2019</td>\n",
              "      <td>18</td>\n",
              "      <td>5</td>\n",
              "      <td>23</td>\n",
              "      <td>30</td>\n",
              "      <td>5</td>\n",
              "      <td>25</td>\n",
              "      <td>325</td>\n",
              "    </tr>\n",
              "  </tbody>\n",
              "</table>\n",
              "</div>"
            ],
            "text/plain": [
              "       Airline    Source Destination                  Route Duration  \\\n",
              "0       IndiGo  Banglore   New Delhi              BLR → DEL   2h 50m   \n",
              "1    Air India   Kolkata    Banglore  CCU → IXR → BBI → BLR   7h 25m   \n",
              "2  Jet Airways     Delhi      Cochin  DEL → LKO → BOM → COK   19h 0m   \n",
              "3       IndiGo   Kolkata    Banglore        CCU → NAG → BLR   5h 25m   \n",
              "\n",
              "  Total_Stops Additional_Info  Price  journey_day  journey_month  \\\n",
              "0    non-stop         No info   3897           24              3   \n",
              "1     2 stops         No info   7662            5              1   \n",
              "2     2 stops         No info  13882            6              9   \n",
              "3      1 stop         No info   6218            5             12   \n",
              "\n",
              "   journey_year  Dep_Time_hour  Dep_Time_minute  Arrival_Time_hour  \\\n",
              "0          2019             22               20                  1   \n",
              "1          2019              5               50                 13   \n",
              "2          2019              9               25                  4   \n",
              "3          2019             18                5                 23   \n",
              "\n",
              "   Arrival_Time_minute  Duration_hours  Duration_mins  Duration_total_mins  \n",
              "0                   10               2             50                  170  \n",
              "1                   15               7             25                  445  \n",
              "2                   25              19              0                 1140  \n",
              "3                   30               5             25                  325  "
            ]
          },
          "execution_count": 57,
          "metadata": {},
          "output_type": "execute_result"
        }
      ],
      "source": [
        "data.head(4)"
      ]
    },
    {
      "cell_type": "code",
      "execution_count": null,
      "id": "468ebc64",
      "metadata": {
        "id": "468ebc64",
        "outputId": "74b4b3bf-0e23-4e4a-dd5f-26717acd820a"
      },
      "outputs": [
        {
          "data": {
            "text/plain": [
              "No info                         78.11\n",
              "In-flight meal not included     18.55\n",
              "No check-in baggage included     3.00\n",
              "1 Long layover                   0.18\n",
              "Change airports                  0.07\n",
              "Business class                   0.04\n",
              "No Info                          0.03\n",
              "2 Long layover                   0.01\n",
              "1 Short layover                  0.01\n",
              "Red-eye flight                   0.01\n",
              "Name: Additional_Info, dtype: float64"
            ]
          },
          "execution_count": 58,
          "metadata": {},
          "output_type": "execute_result"
        }
      ],
      "source": [
        "np.round(data['Additional_Info'].value_counts()/len(data)*100,2)"
      ]
    },
    {
      "cell_type": "code",
      "execution_count": null,
      "id": "7b1aad58",
      "metadata": {
        "id": "7b1aad58"
      },
      "outputs": [],
      "source": [
        "# Additional_Info contains almost 80% no_info,so we can drop this column\n",
        "# we can drop Route as well as we have pre-process that column\n",
        "## lets drop Duration_total_mins as we have already extracted \"Duration_hours\" & \"Duration_mins\"\n",
        "\n",
        "data.drop(columns=['Additional_Info','Route','Duration_total_mins','journey_year'],axis=1,inplace=True)"
      ]
    },
    {
      "cell_type": "code",
      "execution_count": null,
      "id": "68906bc0",
      "metadata": {
        "id": "68906bc0",
        "outputId": "cab52153-e1b1-42c9-cc03-274aaefbd817"
      },
      "outputs": [
        {
          "data": {
            "text/plain": [
              "Index(['Airline', 'Source', 'Destination', 'Duration', 'Total_Stops', 'Price',\n",
              "       'journey_day', 'journey_month', 'Dep_Time_hour', 'Dep_Time_minute',\n",
              "       'Arrival_Time_hour', 'Arrival_Time_minute', 'Duration_hours',\n",
              "       'Duration_mins'],\n",
              "      dtype='object')"
            ]
          },
          "execution_count": 60,
          "metadata": {},
          "output_type": "execute_result"
        }
      ],
      "source": [
        "data.columns"
      ]
    },
    {
      "cell_type": "code",
      "execution_count": null,
      "id": "007279b1",
      "metadata": {
        "id": "007279b1",
        "outputId": "b76fe20a-cae2-4c87-f5e8-8e5d86636286"
      },
      "outputs": [
        {
          "data": {
            "text/html": [
              "<div>\n",
              "<style scoped>\n",
              "    .dataframe tbody tr th:only-of-type {\n",
              "        vertical-align: middle;\n",
              "    }\n",
              "\n",
              "    .dataframe tbody tr th {\n",
              "        vertical-align: top;\n",
              "    }\n",
              "\n",
              "    .dataframe thead th {\n",
              "        text-align: right;\n",
              "    }\n",
              "</style>\n",
              "<table border=\"1\" class=\"dataframe\">\n",
              "  <thead>\n",
              "    <tr style=\"text-align: right;\">\n",
              "      <th></th>\n",
              "      <th>Airline</th>\n",
              "      <th>Source</th>\n",
              "      <th>Destination</th>\n",
              "      <th>Duration</th>\n",
              "      <th>Total_Stops</th>\n",
              "      <th>Price</th>\n",
              "      <th>journey_day</th>\n",
              "      <th>journey_month</th>\n",
              "      <th>Dep_Time_hour</th>\n",
              "      <th>Dep_Time_minute</th>\n",
              "      <th>Arrival_Time_hour</th>\n",
              "      <th>Arrival_Time_minute</th>\n",
              "      <th>Duration_hours</th>\n",
              "      <th>Duration_mins</th>\n",
              "    </tr>\n",
              "  </thead>\n",
              "  <tbody>\n",
              "    <tr>\n",
              "      <th>0</th>\n",
              "      <td>IndiGo</td>\n",
              "      <td>Banglore</td>\n",
              "      <td>New Delhi</td>\n",
              "      <td>2h 50m</td>\n",
              "      <td>non-stop</td>\n",
              "      <td>3897</td>\n",
              "      <td>24</td>\n",
              "      <td>3</td>\n",
              "      <td>22</td>\n",
              "      <td>20</td>\n",
              "      <td>1</td>\n",
              "      <td>10</td>\n",
              "      <td>2</td>\n",
              "      <td>50</td>\n",
              "    </tr>\n",
              "    <tr>\n",
              "      <th>1</th>\n",
              "      <td>Air India</td>\n",
              "      <td>Kolkata</td>\n",
              "      <td>Banglore</td>\n",
              "      <td>7h 25m</td>\n",
              "      <td>2 stops</td>\n",
              "      <td>7662</td>\n",
              "      <td>5</td>\n",
              "      <td>1</td>\n",
              "      <td>5</td>\n",
              "      <td>50</td>\n",
              "      <td>13</td>\n",
              "      <td>15</td>\n",
              "      <td>7</td>\n",
              "      <td>25</td>\n",
              "    </tr>\n",
              "    <tr>\n",
              "      <th>2</th>\n",
              "      <td>Jet Airways</td>\n",
              "      <td>Delhi</td>\n",
              "      <td>Cochin</td>\n",
              "      <td>19h 0m</td>\n",
              "      <td>2 stops</td>\n",
              "      <td>13882</td>\n",
              "      <td>6</td>\n",
              "      <td>9</td>\n",
              "      <td>9</td>\n",
              "      <td>25</td>\n",
              "      <td>4</td>\n",
              "      <td>25</td>\n",
              "      <td>19</td>\n",
              "      <td>0</td>\n",
              "    </tr>\n",
              "    <tr>\n",
              "      <th>3</th>\n",
              "      <td>IndiGo</td>\n",
              "      <td>Kolkata</td>\n",
              "      <td>Banglore</td>\n",
              "      <td>5h 25m</td>\n",
              "      <td>1 stop</td>\n",
              "      <td>6218</td>\n",
              "      <td>5</td>\n",
              "      <td>12</td>\n",
              "      <td>18</td>\n",
              "      <td>5</td>\n",
              "      <td>23</td>\n",
              "      <td>30</td>\n",
              "      <td>5</td>\n",
              "      <td>25</td>\n",
              "    </tr>\n",
              "  </tbody>\n",
              "</table>\n",
              "</div>"
            ],
            "text/plain": [
              "       Airline    Source Destination Duration Total_Stops  Price  journey_day  \\\n",
              "0       IndiGo  Banglore   New Delhi   2h 50m    non-stop   3897           24   \n",
              "1    Air India   Kolkata    Banglore   7h 25m     2 stops   7662            5   \n",
              "2  Jet Airways     Delhi      Cochin   19h 0m     2 stops  13882            6   \n",
              "3       IndiGo   Kolkata    Banglore   5h 25m      1 stop   6218            5   \n",
              "\n",
              "   journey_month  Dep_Time_hour  Dep_Time_minute  Arrival_Time_hour  \\\n",
              "0              3             22               20                  1   \n",
              "1              1              5               50                 13   \n",
              "2              9              9               25                  4   \n",
              "3             12             18                5                 23   \n",
              "\n",
              "   Arrival_Time_minute  Duration_hours  Duration_mins  \n",
              "0                   10               2             50  \n",
              "1                   15               7             25  \n",
              "2                   25              19              0  \n",
              "3                   30               5             25  "
            ]
          },
          "execution_count": 61,
          "metadata": {},
          "output_type": "execute_result"
        }
      ],
      "source": [
        "data.head(4)"
      ]
    },
    {
      "cell_type": "code",
      "execution_count": null,
      "id": "0737e1e0",
      "metadata": {
        "id": "0737e1e0"
      },
      "outputs": [],
      "source": []
    },
    {
      "cell_type": "code",
      "execution_count": null,
      "id": "a9277f93",
      "metadata": {
        "id": "a9277f93"
      },
      "outputs": [],
      "source": []
    },
    {
      "cell_type": "markdown",
      "id": "f8203480",
      "metadata": {
        "id": "f8203480"
      },
      "source": [
        "## Lets separate categorical data & numerical data !\n",
        "    categorical data are those whose data-type is 'object'\n",
        "    Numerical data are those whose data-type is either int of float"
      ]
    },
    {
      "cell_type": "code",
      "execution_count": null,
      "id": "2d9623cf",
      "metadata": {
        "id": "2d9623cf"
      },
      "outputs": [],
      "source": [
        "cat_col=[col for col in data.columns if data[col].dtype=='object']"
      ]
    },
    {
      "cell_type": "code",
      "execution_count": null,
      "id": "42d346e9",
      "metadata": {
        "id": "42d346e9"
      },
      "outputs": [],
      "source": [
        "num_col=[col for col in data.columns if data[col].dtype!='object']"
      ]
    },
    {
      "cell_type": "code",
      "execution_count": null,
      "id": "aa183b01",
      "metadata": {
        "id": "aa183b01",
        "outputId": "0eb57b18-b7ee-44ad-cdd5-0dccbc4dc689"
      },
      "outputs": [
        {
          "data": {
            "text/plain": [
              "['Airline', 'Source', 'Destination', 'Duration', 'Total_Stops']"
            ]
          },
          "execution_count": 64,
          "metadata": {},
          "output_type": "execute_result"
        }
      ],
      "source": [
        "cat_col"
      ]
    },
    {
      "cell_type": "code",
      "execution_count": null,
      "id": "b397b79d",
      "metadata": {
        "id": "b397b79d"
      },
      "outputs": [],
      "source": []
    },
    {
      "cell_type": "markdown",
      "id": "5a70872b",
      "metadata": {
        "id": "5a70872b"
      },
      "source": [
        "### Lets apply one-hot encoding on 'Source' feature !"
      ]
    },
    {
      "cell_type": "code",
      "execution_count": null,
      "id": "8eafc90e",
      "metadata": {
        "id": "8eafc90e"
      },
      "outputs": [],
      "source": [
        "### One-hot from scratch :"
      ]
    },
    {
      "cell_type": "code",
      "execution_count": null,
      "id": "e19d367b",
      "metadata": {
        "id": "e19d367b",
        "outputId": "623ab360-7323-4815-e59c-b6dc48cad726"
      },
      "outputs": [
        {
          "data": {
            "text/plain": [
              "array(['Banglore', 'Kolkata', 'Delhi', 'Chennai', 'Mumbai'], dtype=object)"
            ]
          },
          "execution_count": 65,
          "metadata": {},
          "output_type": "execute_result"
        }
      ],
      "source": [
        "data['Source'].unique()"
      ]
    },
    {
      "cell_type": "code",
      "execution_count": null,
      "id": "5de2f1d1",
      "metadata": {
        "id": "5de2f1d1",
        "outputId": "4d695da5-979e-4a10-bdc8-6752e715d080"
      },
      "outputs": [
        {
          "data": {
            "text/plain": [
              "0        Banglore\n",
              "1         Kolkata\n",
              "2           Delhi\n",
              "3         Kolkata\n",
              "4        Banglore\n",
              "           ...   \n",
              "10678     Kolkata\n",
              "10679     Kolkata\n",
              "10680    Banglore\n",
              "10681    Banglore\n",
              "10682       Delhi\n",
              "Name: Source, Length: 10682, dtype: object"
            ]
          },
          "execution_count": 66,
          "metadata": {},
          "output_type": "execute_result"
        }
      ],
      "source": [
        "data['Source']"
      ]
    },
    {
      "cell_type": "code",
      "execution_count": null,
      "id": "a3d557d7",
      "metadata": {
        "id": "a3d557d7",
        "outputId": "5eea4379-e51f-429d-d9c2-0c819bf3deee"
      },
      "outputs": [
        {
          "data": {
            "text/plain": [
              "0        1\n",
              "1        0\n",
              "2        0\n",
              "3        0\n",
              "4        1\n",
              "        ..\n",
              "10678    0\n",
              "10679    0\n",
              "10680    1\n",
              "10681    1\n",
              "10682    0\n",
              "Name: Source, Length: 10682, dtype: int64"
            ]
          },
          "execution_count": 67,
          "metadata": {},
          "output_type": "execute_result"
        }
      ],
      "source": [
        "data['Source'].apply(lambda x: 1 if x=='Banglore' else 0)"
      ]
    },
    {
      "cell_type": "code",
      "execution_count": null,
      "id": "3f912fe6",
      "metadata": {
        "id": "3f912fe6"
      },
      "outputs": [],
      "source": [
        "for category in data['Source'].unique():\n",
        "    data['Source_'+category]=data['Source'].apply(lambda x: 1 if x==category else 0)"
      ]
    },
    {
      "cell_type": "code",
      "execution_count": null,
      "id": "fd5c28c9",
      "metadata": {
        "id": "fd5c28c9",
        "outputId": "ce00b359-25ad-4140-e9ac-1851afefe7f3"
      },
      "outputs": [
        {
          "data": {
            "text/html": [
              "<div>\n",
              "<style scoped>\n",
              "    .dataframe tbody tr th:only-of-type {\n",
              "        vertical-align: middle;\n",
              "    }\n",
              "\n",
              "    .dataframe tbody tr th {\n",
              "        vertical-align: top;\n",
              "    }\n",
              "\n",
              "    .dataframe thead th {\n",
              "        text-align: right;\n",
              "    }\n",
              "</style>\n",
              "<table border=\"1\" class=\"dataframe\">\n",
              "  <thead>\n",
              "    <tr style=\"text-align: right;\">\n",
              "      <th></th>\n",
              "      <th>Airline</th>\n",
              "      <th>Source</th>\n",
              "      <th>Destination</th>\n",
              "      <th>Duration</th>\n",
              "      <th>Total_Stops</th>\n",
              "      <th>Price</th>\n",
              "      <th>journey_day</th>\n",
              "      <th>journey_month</th>\n",
              "      <th>Dep_Time_hour</th>\n",
              "      <th>Dep_Time_minute</th>\n",
              "      <th>Arrival_Time_hour</th>\n",
              "      <th>Arrival_Time_minute</th>\n",
              "      <th>Duration_hours</th>\n",
              "      <th>Duration_mins</th>\n",
              "      <th>Source_Banglore</th>\n",
              "      <th>Source_Kolkata</th>\n",
              "      <th>Source_Delhi</th>\n",
              "      <th>Source_Chennai</th>\n",
              "      <th>Source_Mumbai</th>\n",
              "    </tr>\n",
              "  </thead>\n",
              "  <tbody>\n",
              "    <tr>\n",
              "      <th>0</th>\n",
              "      <td>IndiGo</td>\n",
              "      <td>Banglore</td>\n",
              "      <td>New Delhi</td>\n",
              "      <td>2h 50m</td>\n",
              "      <td>non-stop</td>\n",
              "      <td>3897</td>\n",
              "      <td>24</td>\n",
              "      <td>3</td>\n",
              "      <td>22</td>\n",
              "      <td>20</td>\n",
              "      <td>1</td>\n",
              "      <td>10</td>\n",
              "      <td>2</td>\n",
              "      <td>50</td>\n",
              "      <td>1</td>\n",
              "      <td>0</td>\n",
              "      <td>0</td>\n",
              "      <td>0</td>\n",
              "      <td>0</td>\n",
              "    </tr>\n",
              "    <tr>\n",
              "      <th>1</th>\n",
              "      <td>Air India</td>\n",
              "      <td>Kolkata</td>\n",
              "      <td>Banglore</td>\n",
              "      <td>7h 25m</td>\n",
              "      <td>2 stops</td>\n",
              "      <td>7662</td>\n",
              "      <td>5</td>\n",
              "      <td>1</td>\n",
              "      <td>5</td>\n",
              "      <td>50</td>\n",
              "      <td>13</td>\n",
              "      <td>15</td>\n",
              "      <td>7</td>\n",
              "      <td>25</td>\n",
              "      <td>0</td>\n",
              "      <td>1</td>\n",
              "      <td>0</td>\n",
              "      <td>0</td>\n",
              "      <td>0</td>\n",
              "    </tr>\n",
              "    <tr>\n",
              "      <th>2</th>\n",
              "      <td>Jet Airways</td>\n",
              "      <td>Delhi</td>\n",
              "      <td>Cochin</td>\n",
              "      <td>19h 0m</td>\n",
              "      <td>2 stops</td>\n",
              "      <td>13882</td>\n",
              "      <td>6</td>\n",
              "      <td>9</td>\n",
              "      <td>9</td>\n",
              "      <td>25</td>\n",
              "      <td>4</td>\n",
              "      <td>25</td>\n",
              "      <td>19</td>\n",
              "      <td>0</td>\n",
              "      <td>0</td>\n",
              "      <td>0</td>\n",
              "      <td>1</td>\n",
              "      <td>0</td>\n",
              "      <td>0</td>\n",
              "    </tr>\n",
              "  </tbody>\n",
              "</table>\n",
              "</div>"
            ],
            "text/plain": [
              "       Airline    Source Destination Duration Total_Stops  Price  journey_day  \\\n",
              "0       IndiGo  Banglore   New Delhi   2h 50m    non-stop   3897           24   \n",
              "1    Air India   Kolkata    Banglore   7h 25m     2 stops   7662            5   \n",
              "2  Jet Airways     Delhi      Cochin   19h 0m     2 stops  13882            6   \n",
              "\n",
              "   journey_month  Dep_Time_hour  Dep_Time_minute  Arrival_Time_hour  \\\n",
              "0              3             22               20                  1   \n",
              "1              1              5               50                 13   \n",
              "2              9              9               25                  4   \n",
              "\n",
              "   Arrival_Time_minute  Duration_hours  Duration_mins  Source_Banglore  \\\n",
              "0                   10               2             50                1   \n",
              "1                   15               7             25                0   \n",
              "2                   25              19              0                0   \n",
              "\n",
              "   Source_Kolkata  Source_Delhi  Source_Chennai  Source_Mumbai  \n",
              "0               0             0               0              0  \n",
              "1               1             0               0              0  \n",
              "2               0             1               0              0  "
            ]
          },
          "execution_count": 69,
          "metadata": {},
          "output_type": "execute_result"
        }
      ],
      "source": [
        "data.head(3)"
      ]
    },
    {
      "cell_type": "code",
      "execution_count": null,
      "id": "ad129020",
      "metadata": {
        "id": "ad129020"
      },
      "outputs": [],
      "source": []
    },
    {
      "cell_type": "code",
      "execution_count": null,
      "id": "f64095ee",
      "metadata": {
        "id": "f64095ee"
      },
      "outputs": [],
      "source": []
    },
    {
      "cell_type": "code",
      "execution_count": null,
      "id": "8a3d47b8",
      "metadata": {
        "id": "8a3d47b8"
      },
      "outputs": [],
      "source": [
        "airlines=data.groupby(['Airline'])['Price'].mean().sort_values().index"
      ]
    },
    {
      "cell_type": "code",
      "execution_count": null,
      "id": "3566764f",
      "metadata": {
        "id": "3566764f",
        "outputId": "04ace659-463a-4e25-c9b3-3b0d03d45596"
      },
      "outputs": [
        {
          "data": {
            "text/plain": [
              "Index(['Trujet', 'SpiceJet', 'Air Asia', 'IndiGo', 'GoAir', 'Vistara',\n",
              "       'Vistara Premium economy', 'Air India', 'Multiple carriers',\n",
              "       'Multiple carriers Premium economy', 'Jet Airways',\n",
              "       'Jet Airways Business'],\n",
              "      dtype='object', name='Airline')"
            ]
          },
          "execution_count": 71,
          "metadata": {},
          "output_type": "execute_result"
        }
      ],
      "source": [
        "airlines"
      ]
    },
    {
      "cell_type": "code",
      "execution_count": null,
      "id": "df525826",
      "metadata": {
        "id": "df525826"
      },
      "outputs": [],
      "source": [
        "dict1={key:index for index,key in enumerate(airlines,0)}"
      ]
    },
    {
      "cell_type": "code",
      "execution_count": null,
      "id": "2495bb45",
      "metadata": {
        "id": "2495bb45",
        "outputId": "65b9f9c2-b865-42b3-a62d-ab35f52c3487"
      },
      "outputs": [
        {
          "data": {
            "text/plain": [
              "{'Trujet': 0,\n",
              " 'SpiceJet': 1,\n",
              " 'Air Asia': 2,\n",
              " 'IndiGo': 3,\n",
              " 'GoAir': 4,\n",
              " 'Vistara': 5,\n",
              " 'Vistara Premium economy': 6,\n",
              " 'Air India': 7,\n",
              " 'Multiple carriers': 8,\n",
              " 'Multiple carriers Premium economy': 9,\n",
              " 'Jet Airways': 10,\n",
              " 'Jet Airways Business': 11}"
            ]
          },
          "execution_count": 73,
          "metadata": {},
          "output_type": "execute_result"
        }
      ],
      "source": [
        "dict1"
      ]
    },
    {
      "cell_type": "code",
      "execution_count": null,
      "id": "fc1e756e",
      "metadata": {
        "id": "fc1e756e"
      },
      "outputs": [],
      "source": [
        "data['Airline']=data['Airline'].map(dict1)"
      ]
    },
    {
      "cell_type": "code",
      "execution_count": null,
      "id": "204d42d1",
      "metadata": {
        "id": "204d42d1",
        "outputId": "595136f5-2388-46a4-ef9d-4cea73ae13e2"
      },
      "outputs": [
        {
          "data": {
            "text/plain": [
              "0         3\n",
              "1         7\n",
              "2        10\n",
              "3         3\n",
              "4         3\n",
              "         ..\n",
              "10678     2\n",
              "10679     7\n",
              "10680    10\n",
              "10681     5\n",
              "10682     7\n",
              "Name: Airline, Length: 10682, dtype: int64"
            ]
          },
          "execution_count": 75,
          "metadata": {},
          "output_type": "execute_result"
        }
      ],
      "source": [
        "data['Airline']"
      ]
    },
    {
      "cell_type": "code",
      "execution_count": null,
      "id": "a478b7df",
      "metadata": {
        "id": "a478b7df",
        "outputId": "8d958240-300b-45df-b27b-05105c4e11be"
      },
      "outputs": [
        {
          "data": {
            "text/html": [
              "<div>\n",
              "<style scoped>\n",
              "    .dataframe tbody tr th:only-of-type {\n",
              "        vertical-align: middle;\n",
              "    }\n",
              "\n",
              "    .dataframe tbody tr th {\n",
              "        vertical-align: top;\n",
              "    }\n",
              "\n",
              "    .dataframe thead th {\n",
              "        text-align: right;\n",
              "    }\n",
              "</style>\n",
              "<table border=\"1\" class=\"dataframe\">\n",
              "  <thead>\n",
              "    <tr style=\"text-align: right;\">\n",
              "      <th></th>\n",
              "      <th>Airline</th>\n",
              "      <th>Source</th>\n",
              "      <th>Destination</th>\n",
              "      <th>Duration</th>\n",
              "      <th>Total_Stops</th>\n",
              "      <th>Price</th>\n",
              "      <th>journey_day</th>\n",
              "      <th>journey_month</th>\n",
              "      <th>Dep_Time_hour</th>\n",
              "      <th>Dep_Time_minute</th>\n",
              "      <th>Arrival_Time_hour</th>\n",
              "      <th>Arrival_Time_minute</th>\n",
              "      <th>Duration_hours</th>\n",
              "      <th>Duration_mins</th>\n",
              "      <th>Source_Banglore</th>\n",
              "      <th>Source_Kolkata</th>\n",
              "      <th>Source_Delhi</th>\n",
              "      <th>Source_Chennai</th>\n",
              "      <th>Source_Mumbai</th>\n",
              "    </tr>\n",
              "  </thead>\n",
              "  <tbody>\n",
              "    <tr>\n",
              "      <th>0</th>\n",
              "      <td>3</td>\n",
              "      <td>Banglore</td>\n",
              "      <td>New Delhi</td>\n",
              "      <td>2h 50m</td>\n",
              "      <td>non-stop</td>\n",
              "      <td>3897</td>\n",
              "      <td>24</td>\n",
              "      <td>3</td>\n",
              "      <td>22</td>\n",
              "      <td>20</td>\n",
              "      <td>1</td>\n",
              "      <td>10</td>\n",
              "      <td>2</td>\n",
              "      <td>50</td>\n",
              "      <td>1</td>\n",
              "      <td>0</td>\n",
              "      <td>0</td>\n",
              "      <td>0</td>\n",
              "      <td>0</td>\n",
              "    </tr>\n",
              "    <tr>\n",
              "      <th>1</th>\n",
              "      <td>7</td>\n",
              "      <td>Kolkata</td>\n",
              "      <td>Banglore</td>\n",
              "      <td>7h 25m</td>\n",
              "      <td>2 stops</td>\n",
              "      <td>7662</td>\n",
              "      <td>5</td>\n",
              "      <td>1</td>\n",
              "      <td>5</td>\n",
              "      <td>50</td>\n",
              "      <td>13</td>\n",
              "      <td>15</td>\n",
              "      <td>7</td>\n",
              "      <td>25</td>\n",
              "      <td>0</td>\n",
              "      <td>1</td>\n",
              "      <td>0</td>\n",
              "      <td>0</td>\n",
              "      <td>0</td>\n",
              "    </tr>\n",
              "  </tbody>\n",
              "</table>\n",
              "</div>"
            ],
            "text/plain": [
              "   Airline    Source Destination Duration Total_Stops  Price  journey_day  \\\n",
              "0        3  Banglore   New Delhi   2h 50m    non-stop   3897           24   \n",
              "1        7   Kolkata    Banglore   7h 25m     2 stops   7662            5   \n",
              "\n",
              "   journey_month  Dep_Time_hour  Dep_Time_minute  Arrival_Time_hour  \\\n",
              "0              3             22               20                  1   \n",
              "1              1              5               50                 13   \n",
              "\n",
              "   Arrival_Time_minute  Duration_hours  Duration_mins  Source_Banglore  \\\n",
              "0                   10               2             50                1   \n",
              "1                   15               7             25                0   \n",
              "\n",
              "   Source_Kolkata  Source_Delhi  Source_Chennai  Source_Mumbai  \n",
              "0               0             0               0              0  \n",
              "1               1             0               0              0  "
            ]
          },
          "execution_count": 76,
          "metadata": {},
          "output_type": "execute_result"
        }
      ],
      "source": [
        "data.head(2)"
      ]
    },
    {
      "cell_type": "code",
      "execution_count": null,
      "id": "1e1bcfa9",
      "metadata": {
        "id": "1e1bcfa9"
      },
      "outputs": [],
      "source": []
    },
    {
      "cell_type": "code",
      "execution_count": null,
      "id": "a95f51e7",
      "metadata": {
        "id": "a95f51e7",
        "outputId": "c45fe0ec-0ba2-4bea-e222-b54aefff753b"
      },
      "outputs": [
        {
          "data": {
            "text/plain": [
              "array(['New Delhi', 'Banglore', 'Cochin', 'Kolkata', 'Delhi', 'Hyderabad'],\n",
              "      dtype=object)"
            ]
          },
          "execution_count": 77,
          "metadata": {},
          "output_type": "execute_result"
        }
      ],
      "source": [
        "data['Destination'].unique()"
      ]
    },
    {
      "cell_type": "code",
      "execution_count": null,
      "id": "cb3d6032",
      "metadata": {
        "id": "cb3d6032"
      },
      "outputs": [],
      "source": [
        "data['Destination'].replace('New Delhi','Delhi',inplace=True)"
      ]
    },
    {
      "cell_type": "code",
      "execution_count": null,
      "id": "58d2daf8",
      "metadata": {
        "id": "58d2daf8",
        "outputId": "fd4031c3-1a4d-42ac-c767-57c080acb5ce"
      },
      "outputs": [
        {
          "data": {
            "text/plain": [
              "array(['Delhi', 'Banglore', 'Cochin', 'Kolkata', 'Hyderabad'],\n",
              "      dtype=object)"
            ]
          },
          "execution_count": 79,
          "metadata": {},
          "output_type": "execute_result"
        }
      ],
      "source": [
        "data['Destination'].unique()"
      ]
    },
    {
      "cell_type": "code",
      "execution_count": null,
      "id": "4e4bedb5",
      "metadata": {
        "id": "4e4bedb5"
      },
      "outputs": [],
      "source": [
        "dest=data.groupby(['Destination'])['Price'].mean().sort_values().index"
      ]
    },
    {
      "cell_type": "code",
      "execution_count": null,
      "id": "37e57fdd",
      "metadata": {
        "id": "37e57fdd",
        "outputId": "034b00d9-41d9-4205-e9d3-f2d9b4e7309c"
      },
      "outputs": [
        {
          "data": {
            "text/plain": [
              "Index(['Kolkata', 'Hyderabad', 'Delhi', 'Banglore', 'Cochin'], dtype='object', name='Destination')"
            ]
          },
          "execution_count": 81,
          "metadata": {},
          "output_type": "execute_result"
        }
      ],
      "source": [
        "dest"
      ]
    },
    {
      "cell_type": "code",
      "execution_count": null,
      "id": "fa14cdfe",
      "metadata": {
        "id": "fa14cdfe"
      },
      "outputs": [],
      "source": [
        "dict2={key:index for index,key in enumerate(dest,0)}"
      ]
    },
    {
      "cell_type": "code",
      "execution_count": null,
      "id": "a18e8dfc",
      "metadata": {
        "id": "a18e8dfc",
        "outputId": "a35d9af7-1bc0-44be-ffaf-acb017b5f452"
      },
      "outputs": [
        {
          "data": {
            "text/plain": [
              "{'Kolkata': 0, 'Hyderabad': 1, 'Delhi': 2, 'Banglore': 3, 'Cochin': 4}"
            ]
          },
          "execution_count": 83,
          "metadata": {},
          "output_type": "execute_result"
        }
      ],
      "source": [
        "dict2"
      ]
    },
    {
      "cell_type": "code",
      "execution_count": null,
      "id": "63bbe479",
      "metadata": {
        "id": "63bbe479"
      },
      "outputs": [],
      "source": [
        "data['Destination']=data['Destination'].map(dict2)"
      ]
    },
    {
      "cell_type": "code",
      "execution_count": null,
      "id": "421332ea",
      "metadata": {
        "id": "421332ea",
        "outputId": "67081320-bf25-4990-a5cd-468fd9cb5c6c"
      },
      "outputs": [
        {
          "data": {
            "text/plain": [
              "0        2\n",
              "1        3\n",
              "2        4\n",
              "3        3\n",
              "4        2\n",
              "        ..\n",
              "10678    3\n",
              "10679    3\n",
              "10680    2\n",
              "10681    2\n",
              "10682    4\n",
              "Name: Destination, Length: 10682, dtype: int64"
            ]
          },
          "execution_count": 85,
          "metadata": {},
          "output_type": "execute_result"
        }
      ],
      "source": [
        "data['Destination']"
      ]
    },
    {
      "cell_type": "code",
      "execution_count": null,
      "id": "b32e3ad2",
      "metadata": {
        "id": "b32e3ad2",
        "outputId": "19717960-6abe-4b11-8693-23938ff0b2ad"
      },
      "outputs": [
        {
          "data": {
            "text/html": [
              "<div>\n",
              "<style scoped>\n",
              "    .dataframe tbody tr th:only-of-type {\n",
              "        vertical-align: middle;\n",
              "    }\n",
              "\n",
              "    .dataframe tbody tr th {\n",
              "        vertical-align: top;\n",
              "    }\n",
              "\n",
              "    .dataframe thead th {\n",
              "        text-align: right;\n",
              "    }\n",
              "</style>\n",
              "<table border=\"1\" class=\"dataframe\">\n",
              "  <thead>\n",
              "    <tr style=\"text-align: right;\">\n",
              "      <th></th>\n",
              "      <th>Airline</th>\n",
              "      <th>Source</th>\n",
              "      <th>Destination</th>\n",
              "      <th>Duration</th>\n",
              "      <th>Total_Stops</th>\n",
              "      <th>Price</th>\n",
              "      <th>journey_day</th>\n",
              "      <th>journey_month</th>\n",
              "      <th>Dep_Time_hour</th>\n",
              "      <th>Dep_Time_minute</th>\n",
              "      <th>Arrival_Time_hour</th>\n",
              "      <th>Arrival_Time_minute</th>\n",
              "      <th>Duration_hours</th>\n",
              "      <th>Duration_mins</th>\n",
              "      <th>Source_Banglore</th>\n",
              "      <th>Source_Kolkata</th>\n",
              "      <th>Source_Delhi</th>\n",
              "      <th>Source_Chennai</th>\n",
              "      <th>Source_Mumbai</th>\n",
              "    </tr>\n",
              "  </thead>\n",
              "  <tbody>\n",
              "    <tr>\n",
              "      <th>0</th>\n",
              "      <td>3</td>\n",
              "      <td>Banglore</td>\n",
              "      <td>2</td>\n",
              "      <td>2h 50m</td>\n",
              "      <td>non-stop</td>\n",
              "      <td>3897</td>\n",
              "      <td>24</td>\n",
              "      <td>3</td>\n",
              "      <td>22</td>\n",
              "      <td>20</td>\n",
              "      <td>1</td>\n",
              "      <td>10</td>\n",
              "      <td>2</td>\n",
              "      <td>50</td>\n",
              "      <td>1</td>\n",
              "      <td>0</td>\n",
              "      <td>0</td>\n",
              "      <td>0</td>\n",
              "      <td>0</td>\n",
              "    </tr>\n",
              "    <tr>\n",
              "      <th>1</th>\n",
              "      <td>7</td>\n",
              "      <td>Kolkata</td>\n",
              "      <td>3</td>\n",
              "      <td>7h 25m</td>\n",
              "      <td>2 stops</td>\n",
              "      <td>7662</td>\n",
              "      <td>5</td>\n",
              "      <td>1</td>\n",
              "      <td>5</td>\n",
              "      <td>50</td>\n",
              "      <td>13</td>\n",
              "      <td>15</td>\n",
              "      <td>7</td>\n",
              "      <td>25</td>\n",
              "      <td>0</td>\n",
              "      <td>1</td>\n",
              "      <td>0</td>\n",
              "      <td>0</td>\n",
              "      <td>0</td>\n",
              "    </tr>\n",
              "  </tbody>\n",
              "</table>\n",
              "</div>"
            ],
            "text/plain": [
              "   Airline    Source  Destination Duration Total_Stops  Price  journey_day  \\\n",
              "0        3  Banglore            2   2h 50m    non-stop   3897           24   \n",
              "1        7   Kolkata            3   7h 25m     2 stops   7662            5   \n",
              "\n",
              "   journey_month  Dep_Time_hour  Dep_Time_minute  Arrival_Time_hour  \\\n",
              "0              3             22               20                  1   \n",
              "1              1              5               50                 13   \n",
              "\n",
              "   Arrival_Time_minute  Duration_hours  Duration_mins  Source_Banglore  \\\n",
              "0                   10               2             50                1   \n",
              "1                   15               7             25                0   \n",
              "\n",
              "   Source_Kolkata  Source_Delhi  Source_Chennai  Source_Mumbai  \n",
              "0               0             0               0              0  \n",
              "1               1             0               0              0  "
            ]
          },
          "execution_count": 86,
          "metadata": {},
          "output_type": "execute_result"
        }
      ],
      "source": [
        "data.head(2)"
      ]
    },
    {
      "cell_type": "code",
      "execution_count": null,
      "id": "80f30cff",
      "metadata": {
        "id": "80f30cff"
      },
      "outputs": [],
      "source": []
    },
    {
      "cell_type": "markdown",
      "id": "828c5a2d",
      "metadata": {
        "id": "828c5a2d"
      },
      "source": [
        "### Perform Manual Encoding on Total_stops feature"
      ]
    },
    {
      "cell_type": "code",
      "execution_count": 66,
      "id": "08f2b7f7",
      "metadata": {
        "id": "08f2b7f7",
        "outputId": "aa00d03d-32b7-42f2-8268-5bf35d599acc",
        "colab": {
          "base_uri": "https://localhost:8080/"
        }
      },
      "outputs": [
        {
          "output_type": "execute_result",
          "data": {
            "text/plain": [
              "array(['non-stop', '2 stops', '1 stop', '3 stops', '4 stops'],\n",
              "      dtype=object)"
            ]
          },
          "metadata": {},
          "execution_count": 66
        }
      ],
      "source": [
        "data['Total_Stops'].unique()"
      ]
    },
    {
      "cell_type": "code",
      "execution_count": 67,
      "id": "dd2f8473",
      "metadata": {
        "id": "dd2f8473"
      },
      "outputs": [],
      "source": [
        "stops={'non-stop':0, '2 stops':2, '1 stop':1, '3 stops':3, '4 stops':4}"
      ]
    },
    {
      "cell_type": "code",
      "execution_count": 68,
      "id": "b878e20d",
      "metadata": {
        "id": "b878e20d"
      },
      "outputs": [],
      "source": [
        "data['Total_Stops']=data['Total_Stops'].map(stops)"
      ]
    },
    {
      "cell_type": "code",
      "execution_count": 69,
      "id": "adbf4ec0",
      "metadata": {
        "id": "adbf4ec0",
        "outputId": "04c244ca-8408-4a59-9726-907100168110",
        "colab": {
          "base_uri": "https://localhost:8080/"
        }
      },
      "outputs": [
        {
          "output_type": "execute_result",
          "data": {
            "text/plain": [
              "0        0\n",
              "1        2\n",
              "2        2\n",
              "3        1\n",
              "4        1\n",
              "        ..\n",
              "10678    0\n",
              "10679    0\n",
              "10680    0\n",
              "10681    0\n",
              "10682    2\n",
              "Name: Total_Stops, Length: 10682, dtype: int64"
            ]
          },
          "metadata": {},
          "execution_count": 69
        }
      ],
      "source": [
        "data['Total_Stops']"
      ]
    },
    {
      "cell_type": "code",
      "execution_count": 69,
      "id": "d2d2b078",
      "metadata": {
        "id": "d2d2b078"
      },
      "outputs": [],
      "source": []
    },
    {
      "cell_type": "markdown",
      "id": "78c31588",
      "metadata": {
        "id": "78c31588"
      },
      "source": [
        "## Performing Outlier Detection !\n",
        "   "
      ]
    },
    {
      "cell_type": "code",
      "execution_count": null,
      "id": "a42563a3",
      "metadata": {
        "id": "a42563a3"
      },
      "outputs": [],
      "source": [
        "def plot(df,col):\n",
        "    fig,(ax1,ax2,ax3)=plt.subplots(3,1)\n",
        "    sns.distplot(df[col],ax=ax1)\n",
        "    sns.boxplot(df[col],ax=ax2)\n",
        "    sns.distplot(df[col],ax=ax3,kde=False)\n",
        ""
      ]
    },
    {
      "cell_type": "code",
      "execution_count": null,
      "id": "3762b075",
      "metadata": {
        "id": "3762b075",
        "outputId": "6c9b0ae0-b69a-4651-c884-7fc99f6496d1"
      },
      "outputs": [
        {
          "name": "stderr",
          "output_type": "stream",
          "text": [
            "C:\\Users\\mcr\\anaconda3\\lib\\site-packages\\seaborn\\distributions.py:2557: FutureWarning:\n",
            "\n",
            "`distplot` is a deprecated function and will be removed in a future version. Please adapt your code to use either `displot` (a figure-level function with similar flexibility) or `histplot` (an axes-level function for histograms).\n",
            "\n",
            "C:\\Users\\mcr\\anaconda3\\lib\\site-packages\\seaborn\\_decorators.py:36: FutureWarning:\n",
            "\n",
            "Pass the following variable as a keyword arg: x. From version 0.12, the only valid positional argument will be `data`, and passing other arguments without an explicit keyword will result in an error or misinterpretation.\n",
            "\n",
            "C:\\Users\\mcr\\anaconda3\\lib\\site-packages\\seaborn\\distributions.py:2557: FutureWarning:\n",
            "\n",
            "`distplot` is a deprecated function and will be removed in a future version. Please adapt your code to use either `displot` (a figure-level function with similar flexibility) or `histplot` (an axes-level function for histograms).\n",
            "\n"
          ]
        },
        {
          "data": {
            "image/png": "[encoded data removed]",
            "text/plain": [
              "<Figure size 432x288 with 3 Axes>"
            ]
          },
          "metadata": {
            "needs_background": "light"
          },
          "output_type": "display_data"
        }
      ],
      "source": [
        "plot(data,'Price')"
      ]
    },
    {
      "cell_type": "code",
      "execution_count": null,
      "id": "ec73e95a",
      "metadata": {
        "id": "ec73e95a"
      },
      "outputs": [],
      "source": []
    },
    {
      "cell_type": "markdown",
      "id": "d023b303",
      "metadata": {
        "id": "d023b303"
      },
      "source": [
        "### getting a high level over-view of various ways to deal with outliers:\n"
      ]
    },
    {
      "cell_type": "code",
      "execution_count": null,
      "id": "ef6c527f",
      "metadata": {
        "id": "ef6c527f"
      },
      "outputs": [],
      "source": [
        "data['Price']=np.where(data['Price']>=35000,data['Price'].median(),data['Price'])"
      ]
    },
    {
      "cell_type": "code",
      "execution_count": null,
      "id": "cdf46cf4",
      "metadata": {
        "id": "cdf46cf4",
        "outputId": "1a7c8ce8-8f88-43e1-9291-cd9fa7fa8359"
      },
      "outputs": [
        {
          "name": "stderr",
          "output_type": "stream",
          "text": [
            "C:\\Users\\mcr\\anaconda3\\lib\\site-packages\\seaborn\\distributions.py:2557: FutureWarning:\n",
            "\n",
            "`distplot` is a deprecated function and will be removed in a future version. Please adapt your code to use either `displot` (a figure-level function with similar flexibility) or `histplot` (an axes-level function for histograms).\n",
            "\n",
            "C:\\Users\\mcr\\anaconda3\\lib\\site-packages\\seaborn\\_decorators.py:36: FutureWarning:\n",
            "\n",
            "Pass the following variable as a keyword arg: x. From version 0.12, the only valid positional argument will be `data`, and passing other arguments without an explicit keyword will result in an error or misinterpretation.\n",
            "\n",
            "C:\\Users\\mcr\\anaconda3\\lib\\site-packages\\seaborn\\distributions.py:2557: FutureWarning:\n",
            "\n",
            "`distplot` is a deprecated function and will be removed in a future version. Please adapt your code to use either `displot` (a figure-level function with similar flexibility) or `histplot` (an axes-level function for histograms).\n",
            "\n"
          ]
        },
        {
          "data": {
            "image/png": "[encoded data removed]",
            "text/plain": [
              "<Figure size 432x288 with 3 Axes>"
            ]
          },
          "metadata": {
            "needs_background": "light"
          },
          "output_type": "display_data"
        }
      ],
      "source": [
        "plot(data,'Price')"
      ]
    },
    {
      "cell_type": "code",
      "execution_count": null,
      "id": "85705896",
      "metadata": {
        "id": "85705896"
      },
      "outputs": [],
      "source": []
    },
    {
      "cell_type": "code",
      "execution_count": null,
      "id": "5fb40176",
      "metadata": {
        "id": "5fb40176",
        "outputId": "7807afae-b901-4013-8116-129ae8fdc755"
      },
      "outputs": [
        {
          "data": {
            "text/html": [
              "<div>\n",
              "<style scoped>\n",
              "    .dataframe tbody tr th:only-of-type {\n",
              "        vertical-align: middle;\n",
              "    }\n",
              "\n",
              "    .dataframe tbody tr th {\n",
              "        vertical-align: top;\n",
              "    }\n",
              "\n",
              "    .dataframe thead th {\n",
              "        text-align: right;\n",
              "    }\n",
              "</style>\n",
              "<table border=\"1\" class=\"dataframe\">\n",
              "  <thead>\n",
              "    <tr style=\"text-align: right;\">\n",
              "      <th></th>\n",
              "      <th>Airline</th>\n",
              "      <th>Source</th>\n",
              "      <th>Destination</th>\n",
              "      <th>Duration</th>\n",
              "      <th>Total_Stops</th>\n",
              "      <th>Price</th>\n",
              "      <th>journey_day</th>\n",
              "      <th>journey_month</th>\n",
              "      <th>Dep_Time_hour</th>\n",
              "      <th>Dep_Time_minute</th>\n",
              "      <th>Arrival_Time_hour</th>\n",
              "      <th>Arrival_Time_minute</th>\n",
              "      <th>Duration_hours</th>\n",
              "      <th>Duration_mins</th>\n",
              "      <th>Source_Banglore</th>\n",
              "      <th>Source_Kolkata</th>\n",
              "      <th>Source_Delhi</th>\n",
              "      <th>Source_Chennai</th>\n",
              "      <th>Source_Mumbai</th>\n",
              "    </tr>\n",
              "  </thead>\n",
              "  <tbody>\n",
              "    <tr>\n",
              "      <th>0</th>\n",
              "      <td>3</td>\n",
              "      <td>Banglore</td>\n",
              "      <td>2</td>\n",
              "      <td>2h 50m</td>\n",
              "      <td>0</td>\n",
              "      <td>3897.0</td>\n",
              "      <td>24</td>\n",
              "      <td>3</td>\n",
              "      <td>22</td>\n",
              "      <td>20</td>\n",
              "      <td>1</td>\n",
              "      <td>10</td>\n",
              "      <td>2</td>\n",
              "      <td>50</td>\n",
              "      <td>1</td>\n",
              "      <td>0</td>\n",
              "      <td>0</td>\n",
              "      <td>0</td>\n",
              "      <td>0</td>\n",
              "    </tr>\n",
              "    <tr>\n",
              "      <th>1</th>\n",
              "      <td>7</td>\n",
              "      <td>Kolkata</td>\n",
              "      <td>3</td>\n",
              "      <td>7h 25m</td>\n",
              "      <td>2</td>\n",
              "      <td>7662.0</td>\n",
              "      <td>5</td>\n",
              "      <td>1</td>\n",
              "      <td>5</td>\n",
              "      <td>50</td>\n",
              "      <td>13</td>\n",
              "      <td>15</td>\n",
              "      <td>7</td>\n",
              "      <td>25</td>\n",
              "      <td>0</td>\n",
              "      <td>1</td>\n",
              "      <td>0</td>\n",
              "      <td>0</td>\n",
              "      <td>0</td>\n",
              "    </tr>\n",
              "  </tbody>\n",
              "</table>\n",
              "</div>"
            ],
            "text/plain": [
              "   Airline    Source  Destination Duration  Total_Stops   Price  journey_day  \\\n",
              "0        3  Banglore            2   2h 50m            0  3897.0           24   \n",
              "1        7   Kolkata            3   7h 25m            2  7662.0            5   \n",
              "\n",
              "   journey_month  Dep_Time_hour  Dep_Time_minute  Arrival_Time_hour  \\\n",
              "0              3             22               20                  1   \n",
              "1              1              5               50                 13   \n",
              "\n",
              "   Arrival_Time_minute  Duration_hours  Duration_mins  Source_Banglore  \\\n",
              "0                   10               2             50                1   \n",
              "1                   15               7             25                0   \n",
              "\n",
              "   Source_Kolkata  Source_Delhi  Source_Chennai  Source_Mumbai  \n",
              "0               0             0               0              0  \n",
              "1               1             0               0              0  "
            ]
          },
          "execution_count": 95,
          "metadata": {},
          "output_type": "execute_result"
        }
      ],
      "source": [
        "data.head(2)"
      ]
    },
    {
      "cell_type": "code",
      "execution_count": null,
      "id": "f971252c",
      "metadata": {
        "id": "f971252c"
      },
      "outputs": [],
      "source": [
        "data.drop(columns=['Source','Duration'],axis=1,inplace=True)"
      ]
    },
    {
      "cell_type": "code",
      "execution_count": null,
      "id": "8d7394b0",
      "metadata": {
        "id": "8d7394b0",
        "outputId": "e91b750e-b8e7-43d7-acd1-15df7d9cdf2a"
      },
      "outputs": [
        {
          "data": {
            "text/html": [
              "<div>\n",
              "<style scoped>\n",
              "    .dataframe tbody tr th:only-of-type {\n",
              "        vertical-align: middle;\n",
              "    }\n",
              "\n",
              "    .dataframe tbody tr th {\n",
              "        vertical-align: top;\n",
              "    }\n",
              "\n",
              "    .dataframe thead th {\n",
              "        text-align: right;\n",
              "    }\n",
              "</style>\n",
              "<table border=\"1\" class=\"dataframe\">\n",
              "  <thead>\n",
              "    <tr style=\"text-align: right;\">\n",
              "      <th></th>\n",
              "      <th>Airline</th>\n",
              "      <th>Destination</th>\n",
              "      <th>Total_Stops</th>\n",
              "      <th>Price</th>\n",
              "      <th>journey_day</th>\n",
              "      <th>journey_month</th>\n",
              "      <th>Dep_Time_hour</th>\n",
              "      <th>Dep_Time_minute</th>\n",
              "      <th>Arrival_Time_hour</th>\n",
              "      <th>Arrival_Time_minute</th>\n",
              "      <th>Duration_hours</th>\n",
              "      <th>Duration_mins</th>\n",
              "      <th>Source_Banglore</th>\n",
              "      <th>Source_Kolkata</th>\n",
              "      <th>Source_Delhi</th>\n",
              "      <th>Source_Chennai</th>\n",
              "      <th>Source_Mumbai</th>\n",
              "    </tr>\n",
              "  </thead>\n",
              "  <tbody>\n",
              "    <tr>\n",
              "      <th>0</th>\n",
              "      <td>3</td>\n",
              "      <td>2</td>\n",
              "      <td>0</td>\n",
              "      <td>3897.0</td>\n",
              "      <td>24</td>\n",
              "      <td>3</td>\n",
              "      <td>22</td>\n",
              "      <td>20</td>\n",
              "      <td>1</td>\n",
              "      <td>10</td>\n",
              "      <td>2</td>\n",
              "      <td>50</td>\n",
              "      <td>1</td>\n",
              "      <td>0</td>\n",
              "      <td>0</td>\n",
              "      <td>0</td>\n",
              "      <td>0</td>\n",
              "    </tr>\n",
              "    <tr>\n",
              "      <th>1</th>\n",
              "      <td>7</td>\n",
              "      <td>3</td>\n",
              "      <td>2</td>\n",
              "      <td>7662.0</td>\n",
              "      <td>5</td>\n",
              "      <td>1</td>\n",
              "      <td>5</td>\n",
              "      <td>50</td>\n",
              "      <td>13</td>\n",
              "      <td>15</td>\n",
              "      <td>7</td>\n",
              "      <td>25</td>\n",
              "      <td>0</td>\n",
              "      <td>1</td>\n",
              "      <td>0</td>\n",
              "      <td>0</td>\n",
              "      <td>0</td>\n",
              "    </tr>\n",
              "  </tbody>\n",
              "</table>\n",
              "</div>"
            ],
            "text/plain": [
              "   Airline  Destination  Total_Stops   Price  journey_day  journey_month  \\\n",
              "0        3            2            0  3897.0           24              3   \n",
              "1        7            3            2  7662.0            5              1   \n",
              "\n",
              "   Dep_Time_hour  Dep_Time_minute  Arrival_Time_hour  Arrival_Time_minute  \\\n",
              "0             22               20                  1                   10   \n",
              "1              5               50                 13                   15   \n",
              "\n",
              "   Duration_hours  Duration_mins  Source_Banglore  Source_Kolkata  \\\n",
              "0               2             50                1               0   \n",
              "1               7             25                0               1   \n",
              "\n",
              "   Source_Delhi  Source_Chennai  Source_Mumbai  \n",
              "0             0               0              0  \n",
              "1             0               0              0  "
            ]
          },
          "execution_count": 97,
          "metadata": {},
          "output_type": "execute_result"
        }
      ],
      "source": [
        "data.head(2)"
      ]
    },
    {
      "cell_type": "code",
      "execution_count": null,
      "id": "49939215",
      "metadata": {
        "id": "49939215",
        "outputId": "896f78df-842c-49f6-cad4-afc362b27cf6"
      },
      "outputs": [
        {
          "data": {
            "text/plain": [
              "Airline                  int64\n",
              "Destination              int64\n",
              "Total_Stops              int64\n",
              "Price                  float64\n",
              "journey_day              int64\n",
              "journey_month            int64\n",
              "Dep_Time_hour            int64\n",
              "Dep_Time_minute          int64\n",
              "Arrival_Time_hour        int64\n",
              "Arrival_Time_minute      int64\n",
              "Duration_hours           int64\n",
              "Duration_mins            int64\n",
              "Source_Banglore          int64\n",
              "Source_Kolkata           int64\n",
              "Source_Delhi             int64\n",
              "Source_Chennai           int64\n",
              "Source_Mumbai            int64\n",
              "dtype: object"
            ]
          },
          "execution_count": 98,
          "metadata": {},
          "output_type": "execute_result"
        }
      ],
      "source": [
        "data.dtypes"
      ]
    },
    {
      "cell_type": "code",
      "execution_count": null,
      "id": "bcefc15a",
      "metadata": {
        "id": "bcefc15a"
      },
      "outputs": [],
      "source": []
    },
    {
      "cell_type": "markdown",
      "id": "29058203",
      "metadata": {
        "id": "29058203"
      },
      "source": [
        "## Performing Feature Selection !"
      ]
    },
    {
      "cell_type": "code",
      "execution_count": null,
      "id": "22425bea",
      "metadata": {
        "id": "22425bea"
      },
      "outputs": [],
      "source": [
        "from sklearn.feature_selection import mutual_info_regression"
      ]
    },
    {
      "cell_type": "code",
      "execution_count": null,
      "id": "f9bf6b3a",
      "metadata": {
        "id": "f9bf6b3a"
      },
      "outputs": [],
      "source": [
        "X=data.drop(['Price'],axis=1)"
      ]
    },
    {
      "cell_type": "code",
      "execution_count": null,
      "id": "63c990a7",
      "metadata": {
        "id": "63c990a7"
      },
      "outputs": [],
      "source": [
        "y=data['Price']"
      ]
    },
    {
      "cell_type": "code",
      "execution_count": null,
      "id": "e5d806a1",
      "metadata": {
        "id": "e5d806a1",
        "outputId": "7500620d-707e-4b4d-922d-c92e92398177"
      },
      "outputs": [
        {
          "data": {
            "text/plain": [
              "Airline                int64\n",
              "Destination            int64\n",
              "Total_Stops            int64\n",
              "journey_day            int64\n",
              "journey_month          int64\n",
              "Dep_Time_hour          int64\n",
              "Dep_Time_minute        int64\n",
              "Arrival_Time_hour      int64\n",
              "Arrival_Time_minute    int64\n",
              "Duration_hours         int64\n",
              "Duration_mins          int64\n",
              "Source_Banglore        int64\n",
              "Source_Kolkata         int64\n",
              "Source_Delhi           int64\n",
              "Source_Chennai         int64\n",
              "Source_Mumbai          int64\n",
              "dtype: object"
            ]
          },
          "execution_count": 102,
          "metadata": {},
          "output_type": "execute_result"
        }
      ],
      "source": [
        "X.dtypes"
      ]
    },
    {
      "cell_type": "code",
      "execution_count": null,
      "id": "32995d0e",
      "metadata": {
        "id": "32995d0e",
        "outputId": "d0e96940-bc0d-472e-da26-e04552ea7954"
      },
      "outputs": [
        {
          "data": {
            "text/plain": [
              "array([0.98286122, 1.00592059, 0.79248293, 0.18016325, 0.24058519,\n",
              "       0.34355597, 0.25470737, 0.3933345 , 0.33968518, 0.46633157,\n",
              "       0.34408044, 0.38267856, 0.45556606, 0.52445805, 0.12874953,\n",
              "       0.19799099])"
            ]
          },
          "execution_count": 103,
          "metadata": {},
          "output_type": "execute_result"
        }
      ],
      "source": [
        "mutual_info_regression(X,y)"
      ]
    },
    {
      "cell_type": "code",
      "execution_count": null,
      "id": "821813f4",
      "metadata": {
        "id": "821813f4"
      },
      "outputs": [],
      "source": [
        "imp=pd.DataFrame(mutual_info_regression(X,y),index=X.columns)\n",
        "imp.columns=['importance']"
      ]
    },
    {
      "cell_type": "code",
      "execution_count": null,
      "id": "8c3723e4",
      "metadata": {
        "id": "8c3723e4",
        "outputId": "9bc3db66-fcb2-4b05-b076-3abb90934c66"
      },
      "outputs": [
        {
          "data": {
            "text/html": [
              "<div>\n",
              "<style scoped>\n",
              "    .dataframe tbody tr th:only-of-type {\n",
              "        vertical-align: middle;\n",
              "    }\n",
              "\n",
              "    .dataframe tbody tr th {\n",
              "        vertical-align: top;\n",
              "    }\n",
              "\n",
              "    .dataframe thead th {\n",
              "        text-align: right;\n",
              "    }\n",
              "</style>\n",
              "<table border=\"1\" class=\"dataframe\">\n",
              "  <thead>\n",
              "    <tr style=\"text-align: right;\">\n",
              "      <th></th>\n",
              "      <th>importance</th>\n",
              "    </tr>\n",
              "  </thead>\n",
              "  <tbody>\n",
              "    <tr>\n",
              "      <th>Destination</th>\n",
              "      <td>1.005740</td>\n",
              "    </tr>\n",
              "    <tr>\n",
              "      <th>Airline</th>\n",
              "      <td>0.969470</td>\n",
              "    </tr>\n",
              "    <tr>\n",
              "      <th>Total_Stops</th>\n",
              "      <td>0.788123</td>\n",
              "    </tr>\n",
              "    <tr>\n",
              "      <th>Source_Delhi</th>\n",
              "      <td>0.519929</td>\n",
              "    </tr>\n",
              "    <tr>\n",
              "      <th>Duration_hours</th>\n",
              "      <td>0.477345</td>\n",
              "    </tr>\n",
              "    <tr>\n",
              "      <th>Source_Kolkata</th>\n",
              "      <td>0.456298</td>\n",
              "    </tr>\n",
              "    <tr>\n",
              "      <th>Arrival_Time_hour</th>\n",
              "      <td>0.400439</td>\n",
              "    </tr>\n",
              "    <tr>\n",
              "      <th>Source_Banglore</th>\n",
              "      <td>0.392985</td>\n",
              "    </tr>\n",
              "    <tr>\n",
              "      <th>Arrival_Time_minute</th>\n",
              "      <td>0.348128</td>\n",
              "    </tr>\n",
              "    <tr>\n",
              "      <th>Duration_mins</th>\n",
              "      <td>0.346181</td>\n",
              "    </tr>\n",
              "    <tr>\n",
              "      <th>Dep_Time_hour</th>\n",
              "      <td>0.345226</td>\n",
              "    </tr>\n",
              "    <tr>\n",
              "      <th>Dep_Time_minute</th>\n",
              "      <td>0.259922</td>\n",
              "    </tr>\n",
              "    <tr>\n",
              "      <th>journey_month</th>\n",
              "      <td>0.233702</td>\n",
              "    </tr>\n",
              "    <tr>\n",
              "      <th>Source_Mumbai</th>\n",
              "      <td>0.203205</td>\n",
              "    </tr>\n",
              "    <tr>\n",
              "      <th>journey_day</th>\n",
              "      <td>0.192198</td>\n",
              "    </tr>\n",
              "    <tr>\n",
              "      <th>Source_Chennai</th>\n",
              "      <td>0.132871</td>\n",
              "    </tr>\n",
              "  </tbody>\n",
              "</table>\n",
              "</div>"
            ],
            "text/plain": [
              "                     importance\n",
              "Destination            1.005740\n",
              "Airline                0.969470\n",
              "Total_Stops            0.788123\n",
              "Source_Delhi           0.519929\n",
              "Duration_hours         0.477345\n",
              "Source_Kolkata         0.456298\n",
              "Arrival_Time_hour      0.400439\n",
              "Source_Banglore        0.392985\n",
              "Arrival_Time_minute    0.348128\n",
              "Duration_mins          0.346181\n",
              "Dep_Time_hour          0.345226\n",
              "Dep_Time_minute        0.259922\n",
              "journey_month          0.233702\n",
              "Source_Mumbai          0.203205\n",
              "journey_day            0.192198\n",
              "Source_Chennai         0.132871"
            ]
          },
          "execution_count": 105,
          "metadata": {},
          "output_type": "execute_result"
        }
      ],
      "source": [
        "imp.sort_values(by='importance',ascending=False)"
      ]
    },
    {
      "cell_type": "code",
      "execution_count": null,
      "id": "b3324378",
      "metadata": {
        "id": "b3324378"
      },
      "outputs": [],
      "source": []
    },
    {
      "cell_type": "raw",
      "id": "ba6ba8cc",
      "metadata": {
        "id": "ba6ba8cc"
      },
      "source": []
    },
    {
      "cell_type": "code",
      "execution_count": null,
      "id": "2517e7b8",
      "metadata": {
        "id": "2517e7b8"
      },
      "outputs": [],
      "source": [
        "### !pip install pickle"
      ]
    },
    {
      "cell_type": "code",
      "execution_count": null,
      "id": "9eb7faa0",
      "metadata": {
        "id": "9eb7faa0"
      },
      "outputs": [],
      "source": [
        "import pickle"
      ]
    },
    {
      "cell_type": "code",
      "execution_count": null,
      "id": "f17bfa1d",
      "metadata": {
        "id": "f17bfa1d"
      },
      "outputs": [],
      "source": [
        "file=open(r'E:\\End-2-end Projects\\Flight_Price\\Datasets/rf_random.pkl','wb')"
      ]
    },
    {
      "cell_type": "code",
      "execution_count": null,
      "id": "d668611b",
      "metadata": {
        "id": "d668611b"
      },
      "outputs": [],
      "source": [
        "pickle.dump(model,file)"
      ]
    },
    {
      "cell_type": "code",
      "execution_count": null,
      "id": "1ade9047",
      "metadata": {
        "id": "1ade9047"
      },
      "outputs": [],
      "source": [
        "model=open(r'E:\\End-2-end Projects\\Flight_Price\\Datasets/rf_random.pkl','rb')"
      ]
    },
    {
      "cell_type": "code",
      "execution_count": null,
      "id": "7f0df3e2",
      "metadata": {
        "id": "7f0df3e2"
      },
      "outputs": [],
      "source": [
        "forest=pickle.load(model)"
      ]
    },
    {
      "cell_type": "code",
      "execution_count": null,
      "id": "e3b16596",
      "metadata": {
        "id": "e3b16596",
        "outputId": "a4b18e99-cbe0-4fd4-889c-eb2a534c25c4"
      },
      "outputs": [
        {
          "data": {
            "text/plain": [
              "array([16771.12,  6530.66,  8842.67, ...,  3498.6 ,  6430.97,  6849.96])"
            ]
          },
          "execution_count": 121,
          "metadata": {},
          "output_type": "execute_result"
        }
      ],
      "source": [
        "forest.predict(X_test)"
      ]
    },
    {
      "cell_type": "code",
      "execution_count": null,
      "id": "d068e8c9",
      "metadata": {
        "id": "d068e8c9"
      },
      "outputs": [],
      "source": []
    },
    {
      "cell_type": "code",
      "execution_count": null,
      "id": "cd0df855",
      "metadata": {
        "id": "cd0df855"
      },
      "outputs": [],
      "source": []
    },
    {
      "cell_type": "markdown",
      "id": "8886524a",
      "metadata": {
        "id": "8886524a"
      },
      "source": [
        "## Defining  own evaluation metric :"
      ]
    },
    {
      "cell_type": "code",
      "execution_count": null,
      "id": "1a394304",
      "metadata": {
        "id": "1a394304"
      },
      "outputs": [],
      "source": [
        "def mape(y_true,y_pred):\n",
        "    y_true,y_pred=np.array(y_true),np.array(y_pred)\n",
        "\n",
        "    return np.mean(np.abs((y_true-y_pred)/y_true))*100"
      ]
    },
    {
      "cell_type": "code",
      "execution_count": null,
      "id": "4070ae9c",
      "metadata": {
        "id": "4070ae9c",
        "outputId": "a02a9e39-36c8-4a8f-f25b-3a0cc3090bf1"
      },
      "outputs": [
        {
          "data": {
            "text/plain": [
              "13.168122671175029"
            ]
          },
          "execution_count": 123,
          "metadata": {},
          "output_type": "execute_result"
        }
      ],
      "source": [
        "mape(y_test,forest.predict(X_test))"
      ]
    },
    {
      "cell_type": "code",
      "execution_count": null,
      "id": "36dc96d8",
      "metadata": {
        "id": "36dc96d8"
      },
      "outputs": [],
      "source": []
    },
    {
      "cell_type": "markdown",
      "id": "372afb7a",
      "metadata": {
        "id": "372afb7a"
      },
      "source": [
        "## How to Automate ML Pipeline :"
      ]
    },
    {
      "cell_type": "code",
      "execution_count": null,
      "id": "927fbeeb",
      "metadata": {
        "id": "927fbeeb"
      },
      "outputs": [],
      "source": [
        "def predict(ml_model):\n",
        "\n",
        "    model=ml_model.fit(X_train,y_train)\n",
        "    print('Training_score: {}'.format(model.score(X_train,y_train)))\n",
        "    y_prediction=model.predict(X_test)\n",
        "    print('Predictions are : {}'.format(y_prediction))\n",
        "    print('\\n')\n",
        "\n",
        "    from sklearn import metrics\n",
        "    r2_score=metrics.r2_score(y_test,y_prediction)\n",
        "    print('r2_score: {}'.format(r2_score))\n",
        "    print('MSE : ', metrics.mean_squared_error(y_test,y_prediction))\n",
        "    print('MAE : ', metrics.mean_absolute_error(y_test,y_prediction))\n",
        "    print('RMSE : ', np.sqrt(metrics.mean_squared_error(y_test,y_prediction)))\n",
        "    print('MAPE : ', mape(y_test,y_prediction))\n",
        "    sns.distplot(y_test-y_prediction)\n",
        ""
      ]
    },
    {
      "cell_type": "code",
      "execution_count": null,
      "id": "dd4ff6f1",
      "metadata": {
        "id": "dd4ff6f1",
        "outputId": "f5132cf8-807b-4609-de24-8846d6864fa6"
      },
      "outputs": [
        {
          "name": "stdout",
          "output_type": "stream",
          "text": [
            "Training_score: 0.9515032800315092\n",
            "Predictions are : [16788.62  6423.72  8848.83 ...  3543.45  6349.43  6898.63]\n",
            "\n",
            "\n",
            "r2_score: 0.8053218217045761\n",
            "MSE :  3789916.8386505432\n",
            "MAE :  1187.3284159521165\n",
            "RMSE :  1946.770874718066\n",
            "MAPE :  13.27313841848225\n"
          ]
        },
        {
          "name": "stderr",
          "output_type": "stream",
          "text": [
            "C:\\Users\\mcr\\anaconda3\\lib\\site-packages\\seaborn\\distributions.py:2557: FutureWarning:\n",
            "\n",
            "`distplot` is a deprecated function and will be removed in a future version. Please adapt your code to use either `displot` (a figure-level function with similar flexibility) or `histplot` (an axes-level function for histograms).\n",
            "\n"
          ]
        },
        {
          "data": {
            "image/png": "[encoded data removed]",
            "text/plain": [
              "<Figure size 432x288 with 1 Axes>"
            ]
          },
          "metadata": {
            "needs_background": "light"
          },
          "output_type": "display_data"
        }
      ],
      "source": [
        "predict(RandomForestRegressor())"
      ]
    },
    {
      "cell_type": "code",
      "execution_count": null,
      "id": "f5da9be9",
      "metadata": {
        "id": "f5da9be9"
      },
      "outputs": [],
      "source": []
    },
    {
      "cell_type": "code",
      "execution_count": null,
      "id": "9d261c70",
      "metadata": {
        "id": "9d261c70"
      },
      "outputs": [],
      "source": []
    },
    {
      "cell_type": "markdown",
      "id": "f9e17750",
      "metadata": {
        "id": "f9e17750"
      },
      "source": [
        "## how to hypertune ml model\n",
        "    Hyperparameter Tuning or Hyperparameter Optimization\n",
        "    1.Choose following method for hyperparameter tuning\n",
        "        a.RandomizedSearchCV --> Fast way to Hypertune model\n",
        "        b.GridSearchCV--> Slow way to hypertune my model\n",
        "    2.Choose ML algo that u have to hypertune\n",
        "    2.Assign hyperparameters in form of dictionary or create hyper-parameter space\n",
        "    3.define searching &  apply searching on Training data or  Fit the CV model\n",
        "    4.Check best parameters and best score"
      ]
    },
    {
      "cell_type": "code",
      "execution_count": null,
      "id": "4781ae5f",
      "metadata": {
        "id": "4781ae5f"
      },
      "outputs": [],
      "source": [
        "from sklearn.model_selection import RandomizedSearchCV"
      ]
    },
    {
      "cell_type": "code",
      "execution_count": null,
      "id": "f2a2ec60",
      "metadata": {
        "id": "f2a2ec60"
      },
      "outputs": [],
      "source": [
        "### initialise your estimator\n",
        "reg_rf=RandomForestRegressor()"
      ]
    },
    {
      "cell_type": "code",
      "execution_count": null,
      "id": "2a81d83b",
      "metadata": {
        "id": "2a81d83b",
        "outputId": "f3f2a6e7-b8cb-4fa4-9e79-e2ad110e2396"
      },
      "outputs": [
        {
          "data": {
            "text/plain": [
              "array([1000., 1040., 1080., 1120., 1160., 1200.])"
            ]
          },
          "execution_count": 128,
          "metadata": {},
          "output_type": "execute_result"
        }
      ],
      "source": [
        "np.linspace(start=1000,stop=1200,num=6)"
      ]
    },
    {
      "cell_type": "code",
      "execution_count": null,
      "id": "6f62eb95",
      "metadata": {
        "id": "6f62eb95"
      },
      "outputs": [],
      "source": [
        "# Number of trees in random forest\n",
        "n_estimators=[int(x) for x in np.linspace(start=1000,stop=1200,num=6)]\n",
        "\n",
        "# Number of features to consider at every split\n",
        "max_features=[\"auto\", \"sqrt\"]\n",
        "\n",
        "# Maximum number of levels in tree\n",
        "max_depth=[int(x) for x in np.linspace(start=5,stop=30,num=4)]\n",
        "\n",
        "# Minimum number of samples required to split a node\n",
        "min_samples_split=[5,10,15,100]"
      ]
    },
    {
      "cell_type": "code",
      "execution_count": null,
      "id": "8dcd67f1",
      "metadata": {
        "id": "8dcd67f1"
      },
      "outputs": [],
      "source": [
        "# Create the grid or hyper-parameter space\n",
        "random_grid={\n",
        "    'n_estimators':n_estimators,\n",
        "    'max_features':max_features,\n",
        "    'max_depth':max_depth,\n",
        "    'min_samples_split':min_samples_split\n",
        "\n",
        "}"
      ]
    },
    {
      "cell_type": "code",
      "execution_count": null,
      "id": "6a6e6ccb",
      "metadata": {
        "id": "6a6e6ccb",
        "outputId": "015543ac-81ce-4e67-c4d2-526d08620d2f"
      },
      "outputs": [
        {
          "data": {
            "text/plain": [
              "{'n_estimators': [1000, 1040, 1080, 1120, 1160, 1200],\n",
              " 'max_features': ['auto', 'sqrt'],\n",
              " 'max_depth': [5, 13, 21, 30],\n",
              " 'min_samples_split': [5, 10, 15, 100]}"
            ]
          },
          "execution_count": 131,
          "metadata": {},
          "output_type": "execute_result"
        }
      ],
      "source": [
        "random_grid"
      ]
    },
    {
      "cell_type": "code",
      "execution_count": null,
      "id": "9d5c803f",
      "metadata": {
        "id": "9d5c803f"
      },
      "outputs": [],
      "source": [
        "rf_Random=RandomizedSearchCV(reg_rf,param_distributions=random_grid,cv=3,verbose=2,n_jobs=-1)"
      ]
    },
    {
      "cell_type": "code",
      "execution_count": null,
      "id": "4548bfc5",
      "metadata": {
        "id": "4548bfc5",
        "outputId": "0e264614-f128-40c6-e571-d25b0b0c174d"
      },
      "outputs": [
        {
          "name": "stdout",
          "output_type": "stream",
          "text": [
            "Fitting 3 folds for each of 10 candidates, totalling 30 fits\n"
          ]
        },
        {
          "data": {
            "text/plain": [
              "RandomizedSearchCV(cv=3, estimator=RandomForestRegressor(), n_jobs=-1,\n",
              "                   param_distributions={'max_depth': [5, 13, 21, 30],\n",
              "                                        'max_features': ['auto', 'sqrt'],\n",
              "                                        'min_samples_split': [5, 10, 15, 100],\n",
              "                                        'n_estimators': [1000, 1040, 1080, 1120,\n",
              "                                                         1160, 1200]},\n",
              "                   verbose=2)"
            ]
          },
          "execution_count": 133,
          "metadata": {},
          "output_type": "execute_result"
        }
      ],
      "source": [
        "rf_Random.fit(X_train,y_train)"
      ]
    },
    {
      "cell_type": "code",
      "execution_count": null,
      "id": "6aebd4a3",
      "metadata": {
        "id": "6aebd4a3",
        "outputId": "10764601-fb2d-483e-dfd3-71fd82f15dfc"
      },
      "outputs": [
        {
          "data": {
            "text/plain": [
              "{'n_estimators': 1040,\n",
              " 'min_samples_split': 5,\n",
              " 'max_features': 'auto',\n",
              " 'max_depth': 13}"
            ]
          },
          "execution_count": 134,
          "metadata": {},
          "output_type": "execute_result"
        }
      ],
      "source": [
        "### to get your best model..\n",
        "rf_Random.best_params_"
      ]
    },
    {
      "cell_type": "code",
      "execution_count": null,
      "id": "3f67fd9c",
      "metadata": {
        "id": "3f67fd9c"
      },
      "outputs": [],
      "source": [
        "pred2=rf_Random.predict(X_test)"
      ]
    },
    {
      "cell_type": "code",
      "execution_count": null,
      "id": "022e6400",
      "metadata": {
        "id": "022e6400",
        "outputId": "883ee67c-a822-44cc-e976-0d2347304f09"
      },
      "outputs": [
        {
          "data": {
            "text/plain": [
              "0.8291428366500607"
            ]
          },
          "execution_count": 137,
          "metadata": {},
          "output_type": "execute_result"
        }
      ],
      "source": [
        "from sklearn import metrics\n",
        "metrics.r2_score(y_test,pred2)"
      ]
    },
    {
      "cell_type": "code",
      "execution_count": null,
      "id": "ffafab2a",
      "metadata": {
        "id": "ffafab2a"
      },
      "outputs": [],
      "source": []
    },
    {
      "cell_type": "code",
      "execution_count": null,
      "id": "990f1bef",
      "metadata": {
        "id": "990f1bef"
      },
      "outputs": [],
      "source": []
    },
    {
      "cell_type": "code",
      "execution_count": null,
      "id": "3fd9d3c3",
      "metadata": {
        "id": "3fd9d3c3"
      },
      "outputs": [],
      "source": []
    },
    {
      "cell_type": "code",
      "execution_count": null,
      "id": "a8216ff4",
      "metadata": {
        "id": "a8216ff4"
      },
      "outputs": [],
      "source": []
    },
    {
      "cell_type": "code",
      "execution_count": null,
      "id": "f0bac112",
      "metadata": {
        "id": "f0bac112"
      },
      "outputs": [],
      "source": []
    }
  ],
  "metadata": {
    "kernelspec": {
      "display_name": "Python 3",
      "language": "python",
      "name": "python3"
    },
    "language_info": {
      "codemirror_mode": {
        "name": "ipython",
        "version": 3
      },
      "file_extension": ".py",
      "mimetype": "text/x-python",
      "name": "python",
      "nbconvert_exporter": "python",
      "pygments_lexer": "ipython3",
      "version": "3.8.8"
    },
    "colab": {
      "provenance": [],
      "toc_visible": true
    }
  },
  "nbformat": 4,
  "nbformat_minor": 5
}